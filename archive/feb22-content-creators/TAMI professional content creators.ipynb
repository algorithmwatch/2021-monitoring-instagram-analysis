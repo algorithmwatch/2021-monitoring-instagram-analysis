{
 "cells": [
  {
   "cell_type": "markdown",
   "metadata": {},
   "source": [
    "# Set up analysis environment"
   ]
  },
  {
   "cell_type": "code",
   "execution_count": 1,
   "metadata": {},
   "outputs": [
    {
     "name": "stderr",
     "output_type": "stream",
     "text": [
      "\u001b[32m\u001b[1m Activating\u001b[22m\u001b[39m environment at `~/code/algorithmwatch-instagram-nudity/Project.toml`\n"
     ]
    }
   ],
   "source": [
    "using Pkg\n",
    "Pkg.activate(\"..\");"
   ]
  },
  {
   "cell_type": "code",
   "execution_count": 2,
   "metadata": {},
   "outputs": [],
   "source": [
    "using CSV, JSON\n",
    "using DataFrames\n",
    "using Dates, CategoricalArrays\n",
    "using Statistics, GLM\n",
    "using VegaLite"
   ]
  },
  {
   "cell_type": "markdown",
   "metadata": {},
   "source": [
    "# Load posts and donations\n",
    "Towards a Monitoring of Instagram (TAMI) is a controlled experiment that will shed light on how items are chosen by Instagram’s algorithm, focusing on professional content creators. \n",
    "\n",
    "The experiment began in 2019 and early results were published in June 2020: [Undress or fail: Instagram’s algorithm strong-arms users into showing skin](https://algorithmwatch.org/en/story/instagram-algorithm-nudity/)\n",
    "\n",
    "This analysis uses code from another experiment (on Dutch politicians) on data collected about content creators. [Find the original notebook here](https://github.com/algorithmwatch/monitoring-instagram-TAMI/blob/main/archive/feb22/TAMI%20Dutch%20politics.ipynb).\n",
    "\n",
    "## Posts"
   ]
  },
  {
   "cell_type": "code",
   "execution_count": 3,
   "metadata": {},
   "outputs": [
    {
     "name": "stdout",
     "output_type": "stream",
     "text": [
      "Total posts in the sample (excl. video posts)"
     ]
    },
    {
     "data": {
      "text/plain": [
       "5839"
      ]
     },
     "execution_count": 3,
     "metadata": {},
     "output_type": "execute_result"
    }
   ],
   "source": [
    "posts = CSV.File(\"../data/posts_with_topics.csv\", dateformat=\"yyyy-mm-dd HH:MM:SS\") |> DataFrame;\n",
    "print(\"Total posts in the sample (excl. video posts)\")\n",
    "length(unique(posts[!, :post_short_code]))"
   ]
  },
  {
   "cell_type": "code",
   "execution_count": 4,
   "metadata": {},
   "outputs": [],
   "source": [
    "transform!(posts, :poster_username => categorical => :poster_username)\n",
    "transform!(posts, [:image_adult, :image_medical, :image_racy, :image_spoof, :image_violence] .=> categorical);"
   ]
  },
  {
   "cell_type": "markdown",
   "metadata": {},
   "source": [
    "For some posts we can't analyze the caption (i.e. it is empty), and sometimes we cannot analyze the image tags (e.g. for videos). These are removed from the analysis:"
   ]
  },
  {
   "cell_type": "code",
   "execution_count": 5,
   "metadata": {},
   "outputs": [
    {
     "name": "stdout",
     "output_type": "stream",
     "text": [
      "count(ismissing.(posts.ig_media_caption)) = 48\n",
      "count(posts.num_image_labels .== 0) = 1598\n"
     ]
    }
   ],
   "source": [
    "@show count(ismissing.(posts.ig_media_caption));\n",
    "\n",
    "transform!(posts, :image_labels => ByRow(x -> length(JSON.parse(x))) => :num_image_labels);\n",
    "@show count(posts.num_image_labels .== 0);\n",
    "\n",
    "dropmissing!(posts);\n",
    "posts = posts[posts.post_created .>= DateTime(2020, 1, 1),:];"
   ]
  },
  {
   "cell_type": "code",
   "execution_count": 6,
   "metadata": {},
   "outputs": [
    {
     "name": "stdout",
     "output_type": "stream",
     "text": [
      "Total posts in the sample (excl. video posts)"
     ]
    },
    {
     "data": {
      "text/plain": [
       "4054"
      ]
     },
     "execution_count": 6,
     "metadata": {},
     "output_type": "execute_result"
    }
   ],
   "source": [
    "print(\"Total posts in the sample (excl. video posts)\")\n",
    "length(unique(posts[!, :post_short_code]))"
   ]
  },
  {
   "cell_type": "markdown",
   "metadata": {},
   "source": [
    "Now we show the number of posts created by the content creators over time."
   ]
  },
  {
   "cell_type": "code",
   "execution_count": 7,
   "metadata": {},
   "outputs": [
    {
     "data": {
      "application/vnd.vegalite.v3+json": {
       "data": {
        "values": [
         {
          "num_posts": 5,
          "period": "2020-06-01T00:00:00"
         },
         {
          "num_posts": 27,
          "period": "2020-06-02T00:00:00"
         },
         {
          "num_posts": 19,
          "period": "2020-06-03T00:00:00"
         },
         {
          "num_posts": 17,
          "period": "2020-06-04T00:00:00"
         },
         {
          "num_posts": 12,
          "period": "2020-06-05T00:00:00"
         },
         {
          "num_posts": 10,
          "period": "2020-06-06T00:00:00"
         },
         {
          "num_posts": 14,
          "period": "2020-06-07T00:00:00"
         },
         {
          "num_posts": 23,
          "period": "2020-06-08T00:00:00"
         },
         {
          "num_posts": 18,
          "period": "2020-06-09T00:00:00"
         },
         {
          "num_posts": 19,
          "period": "2020-06-10T00:00:00"
         },
         {
          "num_posts": 18,
          "period": "2020-06-11T00:00:00"
         },
         {
          "num_posts": 16,
          "period": "2020-06-12T00:00:00"
         },
         {
          "num_posts": 14,
          "period": "2020-06-13T00:00:00"
         },
         {
          "num_posts": 19,
          "period": "2020-06-14T00:00:00"
         },
         {
          "num_posts": 14,
          "period": "2020-06-15T00:00:00"
         },
         {
          "num_posts": 13,
          "period": "2020-06-16T00:00:00"
         },
         {
          "num_posts": 23,
          "period": "2020-06-17T00:00:00"
         },
         {
          "num_posts": 16,
          "period": "2020-06-18T00:00:00"
         },
         {
          "num_posts": 15,
          "period": "2020-06-19T00:00:00"
         },
         {
          "num_posts": 19,
          "period": "2020-06-20T00:00:00"
         },
         {
          "num_posts": 14,
          "period": "2020-06-21T00:00:00"
         },
         {
          "num_posts": 18,
          "period": "2020-06-22T00:00:00"
         },
         {
          "num_posts": 18,
          "period": "2020-06-23T00:00:00"
         },
         {
          "num_posts": 14,
          "period": "2020-06-24T00:00:00"
         },
         {
          "num_posts": 18,
          "period": "2020-06-25T00:00:00"
         },
         {
          "num_posts": 18,
          "period": "2020-06-26T00:00:00"
         },
         {
          "num_posts": 13,
          "period": "2020-06-27T00:00:00"
         },
         {
          "num_posts": 20,
          "period": "2020-06-28T00:00:00"
         },
         {
          "num_posts": 12,
          "period": "2020-06-29T00:00:00"
         },
         {
          "num_posts": 17,
          "period": "2020-06-30T00:00:00"
         },
         {
          "num_posts": 15,
          "period": "2020-07-01T00:00:00"
         },
         {
          "num_posts": 18,
          "period": "2020-07-02T00:00:00"
         },
         {
          "num_posts": 12,
          "period": "2020-07-03T00:00:00"
         },
         {
          "num_posts": 18,
          "period": "2020-07-04T00:00:00"
         },
         {
          "num_posts": 14,
          "period": "2020-07-05T00:00:00"
         },
         {
          "num_posts": 11,
          "period": "2020-07-06T00:00:00"
         },
         {
          "num_posts": 14,
          "period": "2020-07-07T00:00:00"
         },
         {
          "num_posts": 19,
          "period": "2020-07-08T00:00:00"
         },
         {
          "num_posts": 14,
          "period": "2020-07-09T00:00:00"
         },
         {
          "num_posts": 14,
          "period": "2020-07-10T00:00:00"
         },
         {
          "num_posts": 16,
          "period": "2020-07-11T00:00:00"
         },
         {
          "num_posts": 16,
          "period": "2020-07-12T00:00:00"
         },
         {
          "num_posts": 19,
          "period": "2020-07-13T00:00:00"
         },
         {
          "num_posts": 18,
          "period": "2020-07-14T00:00:00"
         },
         {
          "num_posts": 18,
          "period": "2020-07-15T00:00:00"
         },
         {
          "num_posts": 24,
          "period": "2020-07-16T00:00:00"
         },
         {
          "num_posts": 13,
          "period": "2020-07-17T00:00:00"
         },
         {
          "num_posts": 12,
          "period": "2020-07-18T00:00:00"
         },
         {
          "num_posts": 11,
          "period": "2020-07-19T00:00:00"
         },
         {
          "num_posts": 22,
          "period": "2020-07-20T00:00:00"
         },
         {
          "num_posts": 13,
          "period": "2020-07-21T00:00:00"
         },
         {
          "num_posts": 11,
          "period": "2020-07-22T00:00:00"
         },
         {
          "num_posts": 9,
          "period": "2020-07-23T00:00:00"
         },
         {
          "num_posts": 15,
          "period": "2020-07-24T00:00:00"
         },
         {
          "num_posts": 13,
          "period": "2020-07-25T00:00:00"
         },
         {
          "num_posts": 12,
          "period": "2020-07-26T00:00:00"
         },
         {
          "num_posts": 15,
          "period": "2020-07-27T00:00:00"
         },
         {
          "num_posts": 19,
          "period": "2020-07-28T00:00:00"
         },
         {
          "num_posts": 7,
          "period": "2020-07-29T00:00:00"
         },
         {
          "num_posts": 10,
          "period": "2020-07-30T00:00:00"
         },
         {
          "num_posts": 16,
          "period": "2020-07-31T00:00:00"
         },
         {
          "num_posts": 15,
          "period": "2020-08-01T00:00:00"
         },
         {
          "num_posts": 16,
          "period": "2020-08-02T00:00:00"
         },
         {
          "num_posts": 13,
          "period": "2020-08-03T00:00:00"
         },
         {
          "num_posts": 18,
          "period": "2020-08-04T00:00:00"
         },
         {
          "num_posts": 15,
          "period": "2020-08-05T00:00:00"
         },
         {
          "num_posts": 12,
          "period": "2020-08-06T00:00:00"
         },
         {
          "num_posts": 15,
          "period": "2020-08-07T00:00:00"
         },
         {
          "num_posts": 16,
          "period": "2020-08-08T00:00:00"
         },
         {
          "num_posts": 24,
          "period": "2020-08-09T00:00:00"
         },
         {
          "num_posts": 18,
          "period": "2020-08-10T00:00:00"
         },
         {
          "num_posts": 14,
          "period": "2020-08-11T00:00:00"
         },
         {
          "num_posts": 14,
          "period": "2020-08-12T00:00:00"
         },
         {
          "num_posts": 14,
          "period": "2020-08-13T00:00:00"
         },
         {
          "num_posts": 18,
          "period": "2020-08-14T00:00:00"
         },
         {
          "num_posts": 14,
          "period": "2020-08-15T00:00:00"
         },
         {
          "num_posts": 20,
          "period": "2020-08-16T00:00:00"
         },
         {
          "num_posts": 13,
          "period": "2020-08-17T00:00:00"
         },
         {
          "num_posts": 24,
          "period": "2020-08-18T00:00:00"
         },
         {
          "num_posts": 13,
          "period": "2020-08-19T00:00:00"
         },
         {
          "num_posts": 21,
          "period": "2020-08-20T00:00:00"
         },
         {
          "num_posts": 13,
          "period": "2020-08-21T00:00:00"
         },
         {
          "num_posts": 17,
          "period": "2020-08-22T00:00:00"
         },
         {
          "num_posts": 15,
          "period": "2020-08-23T00:00:00"
         },
         {
          "num_posts": 17,
          "period": "2020-08-24T00:00:00"
         },
         {
          "num_posts": 14,
          "period": "2020-08-25T00:00:00"
         },
         {
          "num_posts": 21,
          "period": "2020-08-26T00:00:00"
         },
         {
          "num_posts": 19,
          "period": "2020-08-27T00:00:00"
         },
         {
          "num_posts": 16,
          "period": "2020-08-28T00:00:00"
         },
         {
          "num_posts": 10,
          "period": "2020-08-29T00:00:00"
         },
         {
          "num_posts": 19,
          "period": "2020-08-30T00:00:00"
         },
         {
          "num_posts": 15,
          "period": "2020-08-31T00:00:00"
         },
         {
          "num_posts": 14,
          "period": "2020-09-01T00:00:00"
         },
         {
          "num_posts": 19,
          "period": "2020-09-02T00:00:00"
         },
         {
          "num_posts": 11,
          "period": "2020-09-03T00:00:00"
         },
         {
          "num_posts": 20,
          "period": "2020-09-04T00:00:00"
         },
         {
          "num_posts": 14,
          "period": "2020-09-05T00:00:00"
         },
         {
          "num_posts": 19,
          "period": "2020-09-06T00:00:00"
         },
         {
          "num_posts": 15,
          "period": "2020-09-07T00:00:00"
         },
         {
          "num_posts": 18,
          "period": "2020-09-08T00:00:00"
         },
         {
          "num_posts": 11,
          "period": "2020-09-09T00:00:00"
         },
         {
          "num_posts": 17,
          "period": "2020-09-10T00:00:00"
         },
         {
          "num_posts": 15,
          "period": "2020-09-11T00:00:00"
         },
         {
          "num_posts": 13,
          "period": "2020-09-12T00:00:00"
         },
         {
          "num_posts": 15,
          "period": "2020-09-13T00:00:00"
         },
         {
          "num_posts": 10,
          "period": "2020-09-14T00:00:00"
         },
         {
          "num_posts": 23,
          "period": "2020-09-15T00:00:00"
         },
         {
          "num_posts": 15,
          "period": "2020-09-16T00:00:00"
         },
         {
          "num_posts": 14,
          "period": "2020-09-17T00:00:00"
         },
         {
          "num_posts": 15,
          "period": "2020-09-18T00:00:00"
         },
         {
          "num_posts": 17,
          "period": "2020-09-19T00:00:00"
         },
         {
          "num_posts": 14,
          "period": "2020-09-20T00:00:00"
         },
         {
          "num_posts": 17,
          "period": "2020-09-21T00:00:00"
         },
         {
          "num_posts": 18,
          "period": "2020-09-22T00:00:00"
         },
         {
          "num_posts": 15,
          "period": "2020-09-23T00:00:00"
         },
         {
          "num_posts": 17,
          "period": "2020-09-24T00:00:00"
         },
         {
          "num_posts": 13,
          "period": "2020-09-25T00:00:00"
         },
         {
          "num_posts": 17,
          "period": "2020-09-26T00:00:00"
         },
         {
          "num_posts": 23,
          "period": "2020-09-27T00:00:00"
         },
         {
          "num_posts": 21,
          "period": "2020-09-28T00:00:00"
         },
         {
          "num_posts": 16,
          "period": "2020-09-29T00:00:00"
         },
         {
          "num_posts": 16,
          "period": "2020-09-30T00:00:00"
         },
         {
          "num_posts": 14,
          "period": "2020-10-01T00:00:00"
         },
         {
          "num_posts": 13,
          "period": "2020-10-02T00:00:00"
         },
         {
          "num_posts": 14,
          "period": "2020-10-03T00:00:00"
         },
         {
          "num_posts": 10,
          "period": "2020-10-04T00:00:00"
         },
         {
          "num_posts": 16,
          "period": "2020-10-05T00:00:00"
         },
         {
          "num_posts": 17,
          "period": "2020-10-06T00:00:00"
         },
         {
          "num_posts": 18,
          "period": "2020-10-07T00:00:00"
         },
         {
          "num_posts": 17,
          "period": "2020-10-08T00:00:00"
         },
         {
          "num_posts": 12,
          "period": "2020-10-09T00:00:00"
         },
         {
          "num_posts": 17,
          "period": "2020-10-10T00:00:00"
         },
         {
          "num_posts": 15,
          "period": "2020-10-11T00:00:00"
         },
         {
          "num_posts": 17,
          "period": "2020-10-12T00:00:00"
         },
         {
          "num_posts": 15,
          "period": "2020-10-13T00:00:00"
         },
         {
          "num_posts": 9,
          "period": "2020-10-14T00:00:00"
         },
         {
          "num_posts": 20,
          "period": "2020-10-15T00:00:00"
         },
         {
          "num_posts": 17,
          "period": "2020-10-16T00:00:00"
         },
         {
          "num_posts": 18,
          "period": "2020-10-17T00:00:00"
         },
         {
          "num_posts": 13,
          "period": "2020-10-18T00:00:00"
         },
         {
          "num_posts": 11,
          "period": "2020-10-19T00:00:00"
         },
         {
          "num_posts": 12,
          "period": "2020-10-20T00:00:00"
         },
         {
          "num_posts": 18,
          "period": "2020-10-21T00:00:00"
         },
         {
          "num_posts": 20,
          "period": "2020-10-22T00:00:00"
         },
         {
          "num_posts": 12,
          "period": "2020-10-23T00:00:00"
         },
         {
          "num_posts": 21,
          "period": "2020-10-24T00:00:00"
         },
         {
          "num_posts": 13,
          "period": "2020-10-25T00:00:00"
         },
         {
          "num_posts": 18,
          "period": "2020-10-26T00:00:00"
         },
         {
          "num_posts": 13,
          "period": "2020-10-27T00:00:00"
         },
         {
          "num_posts": 16,
          "period": "2020-10-28T00:00:00"
         },
         {
          "num_posts": 15,
          "period": "2020-10-29T00:00:00"
         },
         {
          "num_posts": 17,
          "period": "2020-10-30T00:00:00"
         },
         {
          "num_posts": 16,
          "period": "2020-10-31T00:00:00"
         },
         {
          "num_posts": 13,
          "period": "2020-11-01T00:00:00"
         },
         {
          "num_posts": 10,
          "period": "2020-11-02T00:00:00"
         },
         {
          "num_posts": 17,
          "period": "2020-11-03T00:00:00"
         },
         {
          "num_posts": 18,
          "period": "2020-11-04T00:00:00"
         },
         {
          "num_posts": 19,
          "period": "2020-11-05T00:00:00"
         },
         {
          "num_posts": 17,
          "period": "2020-11-06T00:00:00"
         },
         {
          "num_posts": 15,
          "period": "2020-11-07T00:00:00"
         },
         {
          "num_posts": 17,
          "period": "2020-11-08T00:00:00"
         },
         {
          "num_posts": 14,
          "period": "2020-11-09T00:00:00"
         },
         {
          "num_posts": 12,
          "period": "2020-11-10T00:00:00"
         },
         {
          "num_posts": 12,
          "period": "2020-11-11T00:00:00"
         },
         {
          "num_posts": 19,
          "period": "2020-11-12T00:00:00"
         },
         {
          "num_posts": 25,
          "period": "2020-11-13T00:00:00"
         },
         {
          "num_posts": 16,
          "period": "2020-11-14T00:00:00"
         },
         {
          "num_posts": 10,
          "period": "2020-11-15T00:00:00"
         },
         {
          "num_posts": 18,
          "period": "2020-11-16T00:00:00"
         },
         {
          "num_posts": 13,
          "period": "2020-11-17T00:00:00"
         },
         {
          "num_posts": 18,
          "period": "2020-11-18T00:00:00"
         },
         {
          "num_posts": 23,
          "period": "2020-11-19T00:00:00"
         },
         {
          "num_posts": 16,
          "period": "2020-11-20T00:00:00"
         },
         {
          "num_posts": 18,
          "period": "2020-11-21T00:00:00"
         },
         {
          "num_posts": 9,
          "period": "2020-11-22T00:00:00"
         },
         {
          "num_posts": 15,
          "period": "2020-11-23T00:00:00"
         },
         {
          "num_posts": 14,
          "period": "2020-11-24T00:00:00"
         },
         {
          "num_posts": 17,
          "period": "2020-11-25T00:00:00"
         },
         {
          "num_posts": 22,
          "period": "2020-11-26T00:00:00"
         },
         {
          "num_posts": 13,
          "period": "2020-11-27T00:00:00"
         },
         {
          "num_posts": 23,
          "period": "2020-11-28T00:00:00"
         },
         {
          "num_posts": 14,
          "period": "2020-11-29T00:00:00"
         },
         {
          "num_posts": 14,
          "period": "2020-11-30T00:00:00"
         },
         {
          "num_posts": 23,
          "period": "2020-12-01T00:00:00"
         },
         {
          "num_posts": 14,
          "period": "2020-12-02T00:00:00"
         },
         {
          "num_posts": 15,
          "period": "2020-12-03T00:00:00"
         },
         {
          "num_posts": 22,
          "period": "2020-12-04T00:00:00"
         },
         {
          "num_posts": 23,
          "period": "2020-12-05T00:00:00"
         },
         {
          "num_posts": 19,
          "period": "2020-12-06T00:00:00"
         },
         {
          "num_posts": 15,
          "period": "2020-12-07T00:00:00"
         },
         {
          "num_posts": 16,
          "period": "2020-12-08T00:00:00"
         },
         {
          "num_posts": 16,
          "period": "2020-12-09T00:00:00"
         },
         {
          "num_posts": 15,
          "period": "2020-12-10T00:00:00"
         },
         {
          "num_posts": 14,
          "period": "2020-12-11T00:00:00"
         },
         {
          "num_posts": 13,
          "period": "2020-12-12T00:00:00"
         },
         {
          "num_posts": 12,
          "period": "2020-12-13T00:00:00"
         },
         {
          "num_posts": 19,
          "period": "2020-12-14T00:00:00"
         },
         {
          "num_posts": 13,
          "period": "2020-12-15T00:00:00"
         },
         {
          "num_posts": 16,
          "period": "2020-12-16T00:00:00"
         },
         {
          "num_posts": 14,
          "period": "2020-12-17T00:00:00"
         },
         {
          "num_posts": 21,
          "period": "2020-12-18T00:00:00"
         },
         {
          "num_posts": 12,
          "period": "2020-12-19T00:00:00"
         },
         {
          "num_posts": 15,
          "period": "2020-12-20T00:00:00"
         },
         {
          "num_posts": 16,
          "period": "2020-12-21T00:00:00"
         },
         {
          "num_posts": 17,
          "period": "2020-12-22T00:00:00"
         },
         {
          "num_posts": 11,
          "period": "2020-12-23T00:00:00"
         },
         {
          "num_posts": 10,
          "period": "2020-12-24T00:00:00"
         },
         {
          "num_posts": 19,
          "period": "2020-12-25T00:00:00"
         },
         {
          "num_posts": 13,
          "period": "2020-12-26T00:00:00"
         },
         {
          "num_posts": 14,
          "period": "2020-12-27T00:00:00"
         },
         {
          "num_posts": 16,
          "period": "2020-12-28T00:00:00"
         },
         {
          "num_posts": 13,
          "period": "2020-12-29T00:00:00"
         },
         {
          "num_posts": 11,
          "period": "2020-12-30T00:00:00"
         },
         {
          "num_posts": 17,
          "period": "2021-01-01T00:00:00"
         },
         {
          "num_posts": 16,
          "period": "2020-12-31T00:00:00"
         },
         {
          "num_posts": 19,
          "period": "2021-01-02T00:00:00"
         },
         {
          "num_posts": 12,
          "period": "2021-01-03T00:00:00"
         },
         {
          "num_posts": 13,
          "period": "2021-01-04T00:00:00"
         },
         {
          "num_posts": 10,
          "period": "2021-01-05T00:00:00"
         },
         {
          "num_posts": 18,
          "period": "2021-01-06T00:00:00"
         },
         {
          "num_posts": 18,
          "period": "2021-01-09T00:00:00"
         },
         {
          "num_posts": 12,
          "period": "2021-01-08T00:00:00"
         },
         {
          "num_posts": 20,
          "period": "2021-01-07T00:00:00"
         },
         {
          "num_posts": 12,
          "period": "2021-01-10T00:00:00"
         },
         {
          "num_posts": 19,
          "period": "2021-01-11T00:00:00"
         },
         {
          "num_posts": 13,
          "period": "2021-01-13T00:00:00"
         },
         {
          "num_posts": 15,
          "period": "2021-01-12T00:00:00"
         },
         {
          "num_posts": 13,
          "period": "2021-01-20T00:00:00"
         },
         {
          "num_posts": 12,
          "period": "2021-01-15T00:00:00"
         },
         {
          "num_posts": 12,
          "period": "2021-01-18T00:00:00"
         },
         {
          "num_posts": 14,
          "period": "2021-01-16T00:00:00"
         },
         {
          "num_posts": 11,
          "period": "2021-01-14T00:00:00"
         },
         {
          "num_posts": 13,
          "period": "2021-01-19T00:00:00"
         },
         {
          "num_posts": 9,
          "period": "2021-01-17T00:00:00"
         },
         {
          "num_posts": 13,
          "period": "2021-01-21T00:00:00"
         },
         {
          "num_posts": 14,
          "period": "2021-01-22T00:00:00"
         },
         {
          "num_posts": 15,
          "period": "2021-01-25T00:00:00"
         },
         {
          "num_posts": 13,
          "period": "2021-01-24T00:00:00"
         },
         {
          "num_posts": 16,
          "period": "2021-01-23T00:00:00"
         },
         {
          "num_posts": 14,
          "period": "2021-01-26T00:00:00"
         },
         {
          "num_posts": 13,
          "period": "2021-01-27T00:00:00"
         },
         {
          "num_posts": 14,
          "period": "2021-01-28T00:00:00"
         },
         {
          "num_posts": 15,
          "period": "2021-01-29T00:00:00"
         },
         {
          "num_posts": 15,
          "period": "2021-01-30T00:00:00"
         },
         {
          "num_posts": 13,
          "period": "2021-01-31T00:00:00"
         },
         {
          "num_posts": 12,
          "period": "2021-02-01T00:00:00"
         },
         {
          "num_posts": 21,
          "period": "2021-02-04T00:00:00"
         },
         {
          "num_posts": 11,
          "period": "2021-02-02T00:00:00"
         },
         {
          "num_posts": 12,
          "period": "2021-02-11T00:00:00"
         },
         {
          "num_posts": 13,
          "period": "2021-02-07T00:00:00"
         },
         {
          "num_posts": 15,
          "period": "2021-02-05T00:00:00"
         },
         {
          "num_posts": 12,
          "period": "2021-02-13T00:00:00"
         },
         {
          "num_posts": 19,
          "period": "2021-02-12T00:00:00"
         },
         {
          "num_posts": 13,
          "period": "2021-02-06T00:00:00"
         },
         {
          "num_posts": 16,
          "period": "2021-02-14T00:00:00"
         },
         {
          "num_posts": 12,
          "period": "2021-02-10T00:00:00"
         },
         {
          "num_posts": 13,
          "period": "2021-02-09T00:00:00"
         },
         {
          "num_posts": 11,
          "period": "2021-02-08T00:00:00"
         },
         {
          "num_posts": 10,
          "period": "2021-02-03T00:00:00"
         },
         {
          "num_posts": 18,
          "period": "2021-02-15T00:00:00"
         },
         {
          "num_posts": 12,
          "period": "2021-02-17T00:00:00"
         },
         {
          "num_posts": 12,
          "period": "2021-02-18T00:00:00"
         },
         {
          "num_posts": 11,
          "period": "2021-02-16T00:00:00"
         }
        ]
       },
       "encoding": {
        "x": {
         "field": "period",
         "timeUnit": "yearmonth",
         "type": "temporal"
        },
        "y": {
         "aggregate": "sum",
         "axis": {
          "title": "posts"
         },
         "field": "num_posts",
         "type": "quantitative"
        }
       },
       "mark": "bar"
      },
      "image/png": "[encoded data removed]",
      "image/svg+xml": [
       "<svg class=\"marks\" width=\"268\" height=\"242\" viewBox=\"0 0 268 242\" version=\"1.1\" xmlns=\"http://www.w3.org/2000/svg\" xmlns:xlink=\"http://www.w3.org/1999/xlink\"><g transform=\"translate(45,5)\"><g class=\"mark-group role-frame root\"><g transform=\"translate(0,0)\"><path class=\"background\" d=\"M0.5,0.5h200v200h-200Z\" style=\"fill: none; stroke: #ddd;\"></path><g><g class=\"mark-group role-axis\"><g transform=\"translate(0.5,200.5)\"><path class=\"background\" d=\"M0,0h0v0h0Z\" style=\"pointer-events: none; fill: none;\"></path><g><g class=\"mark-rule role-axis-grid\" style=\"pointer-events: none;\"><line transform=\"translate(5,-200)\" x2=\"0\" y2=\"200\" style=\"fill: none; stroke: #ddd; stroke-width: 1; opacity: 1;\"></line><line transform=\"translate(28,-200)\" x2=\"0\" y2=\"200\" style=\"fill: none; stroke: #ddd; stroke-width: 1; opacity: 1;\"></line><line transform=\"translate(52,-200)\" x2=\"0\" y2=\"200\" style=\"fill: none; stroke: #ddd; stroke-width: 1; opacity: 1;\"></line><line transform=\"translate(76,-200)\" x2=\"0\" y2=\"200\" style=\"fill: none; stroke: #ddd; stroke-width: 1; opacity: 1;\"></line><line transform=\"translate(100,-200)\" x2=\"0\" y2=\"200\" style=\"fill: none; stroke: #ddd; stroke-width: 1; opacity: 1;\"></line><line transform=\"translate(124,-200)\" x2=\"0\" y2=\"200\" style=\"fill: none; stroke: #ddd; stroke-width: 1; opacity: 1;\"></line><line transform=\"translate(147,-200)\" x2=\"0\" y2=\"200\" style=\"fill: none; stroke: #ddd; stroke-width: 1; opacity: 1;\"></line><line transform=\"translate(171,-200)\" x2=\"0\" y2=\"200\" style=\"fill: none; stroke: #ddd; stroke-width: 1; opacity: 1;\"></line><line transform=\"translate(195,-200)\" x2=\"0\" y2=\"200\" style=\"fill: none; stroke: #ddd; stroke-width: 1; opacity: 1;\"></line></g></g></g></g><g class=\"mark-group role-axis\"><g transform=\"translate(0.5,0.5)\"><path class=\"background\" d=\"M0,0h0v0h0Z\" style=\"pointer-events: none; fill: none;\"></path><g><g class=\"mark-rule role-axis-grid\" style=\"pointer-events: none;\"><line transform=\"translate(0,200)\" x2=\"200\" y2=\"0\" style=\"fill: none; stroke: #ddd; stroke-width: 1; opacity: 1;\"></line><line transform=\"translate(0,164)\" x2=\"200\" y2=\"0\" style=\"fill: none; stroke: #ddd; stroke-width: 1; opacity: 1;\"></line><line transform=\"translate(0,127)\" x2=\"200\" y2=\"0\" style=\"fill: none; stroke: #ddd; stroke-width: 1; opacity: 1;\"></line><line transform=\"translate(0,91)\" x2=\"200\" y2=\"0\" style=\"fill: none; stroke: #ddd; stroke-width: 1; opacity: 1;\"></line><line transform=\"translate(0,55)\" x2=\"200\" y2=\"0\" style=\"fill: none; stroke: #ddd; stroke-width: 1; opacity: 1;\"></line><line transform=\"translate(0,18)\" x2=\"200\" y2=\"0\" style=\"fill: none; stroke: #ddd; stroke-width: 1; opacity: 1;\"></line></g></g></g></g><g class=\"mark-rect role-mark marks\"><path d=\"M2.5000000051602145,20.727272727272727h5v179.27272727272728h-5Z\" style=\"fill: #4c78a8;\"></path><path d=\"M25.761350115520827,33.454545454545446h5v166.54545454545456h-5Z\" style=\"fill: #4c78a8;\"></path><path d=\"M49.798078562893465,17.09090909090909h5v182.9090909090909h-5Z\" style=\"fill: #4c78a8;\"></path><path d=\"M73.8348070102661,24.72727272727273h5v175.27272727272728h-5Z\" style=\"fill: #4c78a8;\"></path><path d=\"M97.09615712062671,27.636363636363637h5v172.36363636363637h-5Z\" style=\"fill: #4c78a8;\"></path><path d=\"M121.16519299870819,25.090909090909097h5v174.9090909090909h-5Z\" style=\"fill: #4c78a8;\"></path><path d=\"M144.4265431090688,24.363636363636367h5v175.63636363636363h-5Z\" style=\"fill: #4c78a8;\"></path><path d=\"M168.46327155644144,41.090909090909086h5v158.9090909090909h-5Z\" style=\"fill: #4c78a8;\"></path><path d=\"M192.50000000381408,111.63636363636363h5v88.36363636363637h-5Z\" style=\"fill: #4c78a8;\"></path></g><g class=\"mark-group role-axis\"><g transform=\"translate(0.5,200.5)\"><path class=\"background\" d=\"M0,0h0v0h0Z\" style=\"pointer-events: none; fill: none;\"></path><g><g class=\"mark-rule role-axis-tick\" style=\"pointer-events: none;\"><line transform=\"translate(5,0)\" x2=\"0\" y2=\"5\" style=\"fill: none; stroke: #888; stroke-width: 1; opacity: 1;\"></line><line transform=\"translate(28,0)\" x2=\"0\" y2=\"5\" style=\"fill: none; stroke: #888; stroke-width: 1; opacity: 1;\"></line><line transform=\"translate(52,0)\" x2=\"0\" y2=\"5\" style=\"fill: none; stroke: #888; stroke-width: 1; opacity: 1;\"></line><line transform=\"translate(76,0)\" x2=\"0\" y2=\"5\" style=\"fill: none; stroke: #888; stroke-width: 1; opacity: 1;\"></line><line transform=\"translate(100,0)\" x2=\"0\" y2=\"5\" style=\"fill: none; stroke: #888; stroke-width: 1; opacity: 1;\"></line><line transform=\"translate(124,0)\" x2=\"0\" y2=\"5\" style=\"fill: none; stroke: #888; stroke-width: 1; opacity: 1;\"></line><line transform=\"translate(147,0)\" x2=\"0\" y2=\"5\" style=\"fill: none; stroke: #888; stroke-width: 1; opacity: 1;\"></line><line transform=\"translate(171,0)\" x2=\"0\" y2=\"5\" style=\"fill: none; stroke: #888; stroke-width: 1; opacity: 1;\"></line><line transform=\"translate(195,0)\" x2=\"0\" y2=\"5\" style=\"fill: none; stroke: #888; stroke-width: 1; opacity: 1;\"></line></g><g class=\"mark-text role-axis-label\" style=\"pointer-events: none;\"><text text-anchor=\"middle\" transform=\"translate(5.0000000051602145,15)\" style=\"font-family: sans-serif; font-size: 10px; fill: #000; opacity: 1;\">Jun 2020</text><text text-anchor=\"middle\" transform=\"translate(28.261350115520827,15)\" style=\"font-family: sans-serif; font-size: 10px; fill: #000; opacity: 0;\">Jul 2020</text><text text-anchor=\"middle\" transform=\"translate(52.298078562893465,15)\" style=\"font-family: sans-serif; font-size: 10px; fill: #000; opacity: 1;\">Aug 2020</text><text text-anchor=\"middle\" transform=\"translate(76.3348070102661,15)\" style=\"font-family: sans-serif; font-size: 10px; fill: #000; opacity: 0;\">Sep 2020</text><text text-anchor=\"middle\" transform=\"translate(99.59615712062671,15)\" style=\"font-family: sans-serif; font-size: 10px; fill: #000; opacity: 1;\">Oct 2020</text><text text-anchor=\"middle\" transform=\"translate(123.66519299870819,15)\" style=\"font-family: sans-serif; font-size: 10px; fill: #000; opacity: 0;\">Nov 2020</text><text text-anchor=\"middle\" transform=\"translate(146.9265431090688,15)\" style=\"font-family: sans-serif; font-size: 10px; fill: #000; opacity: 1;\">Dec 2020</text><text text-anchor=\"middle\" transform=\"translate(170.96327155644144,15)\" style=\"font-family: sans-serif; font-size: 10px; fill: #000; opacity: 0;\">Jan 2021</text><text text-anchor=\"middle\" transform=\"translate(195.00000000381408,15)\" style=\"font-family: sans-serif; font-size: 10px; fill: #000; opacity: 1;\">Feb 2021</text></g><g class=\"mark-rule role-axis-domain\" style=\"pointer-events: none;\"><line transform=\"translate(0,0)\" x2=\"200\" y2=\"0\" style=\"fill: none; stroke: #888; stroke-width: 1; opacity: 1;\"></line></g><g class=\"mark-text role-axis-title\" style=\"pointer-events: none;\"><text text-anchor=\"middle\" transform=\"translate(100,30)\" style=\"font-family: sans-serif; font-size: 11px; font-weight: bold; fill: #000; opacity: 1;\">period (year-month)</text></g></g></g></g><g class=\"mark-group role-axis\"><g transform=\"translate(0.5,0.5)\"><path class=\"background\" d=\"M0,0h0v0h0Z\" style=\"pointer-events: none; fill: none;\"></path><g><g class=\"mark-rule role-axis-tick\" style=\"pointer-events: none;\"><line transform=\"translate(0,200)\" x2=\"-5\" y2=\"0\" style=\"fill: none; stroke: #888; stroke-width: 1; opacity: 1;\"></line><line transform=\"translate(0,164)\" x2=\"-5\" y2=\"0\" style=\"fill: none; stroke: #888; stroke-width: 1; opacity: 1;\"></line><line transform=\"translate(0,127)\" x2=\"-5\" y2=\"0\" style=\"fill: none; stroke: #888; stroke-width: 1; opacity: 1;\"></line><line transform=\"translate(0,91)\" x2=\"-5\" y2=\"0\" style=\"fill: none; stroke: #888; stroke-width: 1; opacity: 1;\"></line><line transform=\"translate(0,55)\" x2=\"-5\" y2=\"0\" style=\"fill: none; stroke: #888; stroke-width: 1; opacity: 1;\"></line><line transform=\"translate(0,18)\" x2=\"-5\" y2=\"0\" style=\"fill: none; stroke: #888; stroke-width: 1; opacity: 1;\"></line></g><g class=\"mark-text role-axis-label\" style=\"pointer-events: none;\"><text text-anchor=\"end\" transform=\"translate(-7,203)\" style=\"font-family: sans-serif; font-size: 10px; fill: #000; opacity: 1;\">0</text><text text-anchor=\"end\" transform=\"translate(-7,166.63636363636363)\" style=\"font-family: sans-serif; font-size: 10px; fill: #000; opacity: 1;\">100</text><text text-anchor=\"end\" transform=\"translate(-7,130.27272727272725)\" style=\"font-family: sans-serif; font-size: 10px; fill: #000; opacity: 1;\">200</text><text text-anchor=\"end\" transform=\"translate(-7,93.90909090909092)\" style=\"font-family: sans-serif; font-size: 10px; fill: #000; opacity: 1;\">300</text><text text-anchor=\"end\" transform=\"translate(-7,57.54545454545454)\" style=\"font-family: sans-serif; font-size: 10px; fill: #000; opacity: 1;\">400</text><text text-anchor=\"end\" transform=\"translate(-7,21.181818181818187)\" style=\"font-family: sans-serif; font-size: 10px; fill: #000; opacity: 1;\">500</text></g><g class=\"mark-rule role-axis-domain\" style=\"pointer-events: none;\"><line transform=\"translate(0,200)\" x2=\"0\" y2=\"-200\" style=\"fill: none; stroke: #888; stroke-width: 1; opacity: 1;\"></line></g><g class=\"mark-text role-axis-title\" style=\"pointer-events: none;\"><text text-anchor=\"middle\" transform=\"translate(-29,100) rotate(-90) translate(0,-2)\" style=\"font-family: sans-serif; font-size: 11px; font-weight: bold; fill: #000; opacity: 1;\">posts</text></g></g></g></g></g></g></g></g></svg>"
      ],
      "text/plain": [
       "VegaLite.VLSpec{:plot}"
      ]
     },
     "execution_count": 7,
     "metadata": {},
     "output_type": "execute_result"
    }
   ],
   "source": [
    "period_posts = combine(\n",
    "    groupby(transform(posts, :post_created => ByRow(t -> round(t, Dates.Day)) => :period), [:period]),\n",
    "    nrow => :num_posts)\n",
    "\n",
    "period_posts |> @vlplot(:bar, \n",
    "    x={\"period:t\", timeUnit=\"yearmonth\"}, \n",
    "    y={\"sum(num_posts)\", axis={title=\"posts\"}},\n",
    ")"
   ]
  },
  {
   "cell_type": "markdown",
   "metadata": {},
   "source": [
    "## Topics\n",
    "\n",
    "In order to find out whether Instagram's algorithm favored some content over the rest, we divided the posts into topics.\n",
    "\n",
    "**Topics are defined automatically and change with new data**. We use a latent Dirichlet allocation (LDA) to divide the posts into topics. LDA is a commonly-used algorithm that detects topics in documents based on the distribution of words, and allocates a \"topic score\" to each, so that a document does not have to be linked to just one topic (e.g. a post showing a face and a cat could be classified as 50% topic \"faces\" and 50% topic \"pets\").\n",
    "\n",
    "We divide all posts into twice 5 topics (the number 5 was chosen arbitrarily), first by caption, then by image labels."
   ]
  },
  {
   "cell_type": "markdown",
   "metadata": {},
   "source": [
    "### Caption topics\n",
    "\n",
    "The words in the topics were organized into eight topics. A label was constructed for each topic by interpreting the top words in each topic. Here are posts that score high on an individual caption topic:"
   ]
  },
  {
   "cell_type": "code",
   "execution_count": 8,
   "metadata": {},
   "outputs": [],
   "source": [
    "gdf = groupby(stack(posts, names(posts, r\"cap_top\\d+\")), :variable);"
   ]
  },
  {
   "cell_type": "markdown",
   "metadata": {},
   "source": [
    "Based on these posts, and the top words in `topics_caption.csv` the following interpretion was made. In the figure that show the proportion of the topics over time, we can see that the election topics grows in the lasts months:"
   ]
  },
  {
   "cell_type": "code",
   "execution_count": 9,
   "metadata": {},
   "outputs": [
    {
     "data": {
      "application/vnd.vegalite.v3+json": {
       "data": {
        "values": [
         {
          "cap_top_cat": "topic 2",
          "count": 145,
          "period": [
           2020,
           6
          ]
         },
         {
          "cap_top_cat": "topic 4",
          "count": 102,
          "period": [
           2020,
           6
          ]
         },
         {
          "cap_top_cat": "topic 5",
          "count": 33,
          "period": [
           2020,
           6
          ]
         },
         {
          "cap_top_cat": "topic 1",
          "count": 119,
          "period": [
           2020,
           6
          ]
         },
         {
          "cap_top_cat": "topic 3",
          "count": 107,
          "period": [
           2020,
           6
          ]
         },
         {
          "cap_top_cat": "topic 5",
          "count": 34,
          "period": [
           2020,
           7
          ]
         },
         {
          "cap_top_cat": "topic 1",
          "count": 123,
          "period": [
           2020,
           7
          ]
         },
         {
          "cap_top_cat": "topic 4",
          "count": 88,
          "period": [
           2020,
           7
          ]
         },
         {
          "cap_top_cat": "topic 3",
          "count": 109,
          "period": [
           2020,
           7
          ]
         },
         {
          "cap_top_cat": "topic 2",
          "count": 104,
          "period": [
           2020,
           7
          ]
         },
         {
          "cap_top_cat": "topic 4",
          "count": 123,
          "period": [
           2020,
           8
          ]
         },
         {
          "cap_top_cat": "topic 1",
          "count": 128,
          "period": [
           2020,
           8
          ]
         },
         {
          "cap_top_cat": "topic 2",
          "count": 110,
          "period": [
           2020,
           8
          ]
         },
         {
          "cap_top_cat": "topic 5",
          "count": 31,
          "period": [
           2020,
           8
          ]
         },
         {
          "cap_top_cat": "topic 3",
          "count": 111,
          "period": [
           2020,
           8
          ]
         },
         {
          "cap_top_cat": "topic 4",
          "count": 97,
          "period": [
           2020,
           9
          ]
         },
         {
          "cap_top_cat": "topic 2",
          "count": 127,
          "period": [
           2020,
           9
          ]
         },
         {
          "cap_top_cat": "topic 1",
          "count": 122,
          "period": [
           2020,
           9
          ]
         },
         {
          "cap_top_cat": "topic 5",
          "count": 30,
          "period": [
           2020,
           9
          ]
         },
         {
          "cap_top_cat": "topic 3",
          "count": 103,
          "period": [
           2020,
           9
          ]
         },
         {
          "cap_top_cat": "topic 5",
          "count": 30,
          "period": [
           2020,
           10
          ]
         },
         {
          "cap_top_cat": "topic 1",
          "count": 119,
          "period": [
           2020,
           10
          ]
         },
         {
          "cap_top_cat": "topic 2",
          "count": 128,
          "period": [
           2020,
           10
          ]
         },
         {
          "cap_top_cat": "topic 3",
          "count": 102,
          "period": [
           2020,
           10
          ]
         },
         {
          "cap_top_cat": "topic 4",
          "count": 93,
          "period": [
           2020,
           10
          ]
         },
         {
          "cap_top_cat": "topic 2",
          "count": 149,
          "period": [
           2020,
           11
          ]
         },
         {
          "cap_top_cat": "topic 3",
          "count": 90,
          "period": [
           2020,
           11
          ]
         },
         {
          "cap_top_cat": "topic 4",
          "count": 132,
          "period": [
           2020,
           11
          ]
         },
         {
          "cap_top_cat": "topic 1",
          "count": 96,
          "period": [
           2020,
           11
          ]
         },
         {
          "cap_top_cat": "topic 5",
          "count": 24,
          "period": [
           2020,
           11
          ]
         },
         {
          "cap_top_cat": "topic 2",
          "count": 151,
          "period": [
           2020,
           12
          ]
         },
         {
          "cap_top_cat": "topic 4",
          "count": 137,
          "period": [
           2020,
           12
          ]
         },
         {
          "cap_top_cat": "topic 3",
          "count": 76,
          "period": [
           2020,
           12
          ]
         },
         {
          "cap_top_cat": "topic 5",
          "count": 20,
          "period": [
           2020,
           12
          ]
         },
         {
          "cap_top_cat": "topic 1",
          "count": 95,
          "period": [
           2020,
           12
          ]
         },
         {
          "cap_top_cat": "topic 2",
          "count": 135,
          "period": [
           2021,
           1
          ]
         },
         {
          "cap_top_cat": "topic 3",
          "count": 88,
          "period": [
           2021,
           1
          ]
         },
         {
          "cap_top_cat": "topic 4",
          "count": 78,
          "period": [
           2021,
           1
          ]
         },
         {
          "cap_top_cat": "topic 1",
          "count": 104,
          "period": [
           2021,
           1
          ]
         },
         {
          "cap_top_cat": "topic 5",
          "count": 27,
          "period": [
           2021,
           1
          ]
         },
         {
          "cap_top_cat": "topic 1",
          "count": 49,
          "period": [
           2021,
           2
          ]
         },
         {
          "cap_top_cat": "topic 3",
          "count": 47,
          "period": [
           2021,
           2
          ]
         },
         {
          "cap_top_cat": "topic 4",
          "count": 32,
          "period": [
           2021,
           2
          ]
         },
         {
          "cap_top_cat": "topic 5",
          "count": 19,
          "period": [
           2021,
           2
          ]
         },
         {
          "cap_top_cat": "topic 2",
          "count": 87,
          "period": [
           2021,
           2
          ]
         }
        ]
       },
       "encoding": {
        "color": {
         "field": "cap_top_cat",
         "type": "nominal"
        },
        "x": {
         "field": "period",
         "timeUnit": "yearmonth",
         "type": "temporal"
        },
        "y": {
         "axis": {
          "title": "posts"
         },
         "field": "count",
         "stack": "normalize",
         "type": "quantitative"
        }
       },
       "mark": "bar"
      },
      "image/png": "[encoded data removed]",
      "image/svg+xml": [
       "<svg class=\"marks\" width=\"339\" height=\"247\" viewBox=\"0 0 339 247\" version=\"1.1\" xmlns=\"http://www.w3.org/2000/svg\" xmlns:xlink=\"http://www.w3.org/1999/xlink\"><g transform=\"translate(42,10)\"><g class=\"mark-group role-frame root\"><g transform=\"translate(0,0)\"><path class=\"background\" d=\"M0.5,0.5h200v200h-200Z\" style=\"fill: none; stroke: #ddd;\"></path><g><g class=\"mark-group role-axis\"><g transform=\"translate(0.5,200.5)\"><path class=\"background\" d=\"M0,0h0v0h0Z\" style=\"pointer-events: none; fill: none;\"></path><g><g class=\"mark-rule role-axis-grid\" style=\"pointer-events: none;\"><line transform=\"translate(5,-200)\" x2=\"0\" y2=\"200\" style=\"fill: none; stroke: #ddd; stroke-width: 1; opacity: 1;\"></line><line transform=\"translate(28,-200)\" x2=\"0\" y2=\"200\" style=\"fill: none; stroke: #ddd; stroke-width: 1; opacity: 1;\"></line><line transform=\"translate(52,-200)\" x2=\"0\" y2=\"200\" style=\"fill: none; stroke: #ddd; stroke-width: 1; opacity: 1;\"></line><line transform=\"translate(76,-200)\" x2=\"0\" y2=\"200\" style=\"fill: none; stroke: #ddd; stroke-width: 1; opacity: 1;\"></line><line transform=\"translate(100,-200)\" x2=\"0\" y2=\"200\" style=\"fill: none; stroke: #ddd; stroke-width: 1; opacity: 1;\"></line><line transform=\"translate(124,-200)\" x2=\"0\" y2=\"200\" style=\"fill: none; stroke: #ddd; stroke-width: 1; opacity: 1;\"></line><line transform=\"translate(147,-200)\" x2=\"0\" y2=\"200\" style=\"fill: none; stroke: #ddd; stroke-width: 1; opacity: 1;\"></line><line transform=\"translate(171,-200)\" x2=\"0\" y2=\"200\" style=\"fill: none; stroke: #ddd; stroke-width: 1; opacity: 1;\"></line><line transform=\"translate(195,-200)\" x2=\"0\" y2=\"200\" style=\"fill: none; stroke: #ddd; stroke-width: 1; opacity: 1;\"></line></g></g></g></g><g class=\"mark-group role-axis\"><g transform=\"translate(0.5,0.5)\"><path class=\"background\" d=\"M0,0h0v0h0Z\" style=\"pointer-events: none; fill: none;\"></path><g><g class=\"mark-rule role-axis-grid\" style=\"pointer-events: none;\"><line transform=\"translate(0,200)\" x2=\"200\" y2=\"0\" style=\"fill: none; stroke: #ddd; stroke-width: 1; opacity: 1;\"></line><line transform=\"translate(0,160)\" x2=\"200\" y2=\"0\" style=\"fill: none; stroke: #ddd; stroke-width: 1; opacity: 1;\"></line><line transform=\"translate(0,120)\" x2=\"200\" y2=\"0\" style=\"fill: none; stroke: #ddd; stroke-width: 1; opacity: 1;\"></line><line transform=\"translate(0,80)\" x2=\"200\" y2=\"0\" style=\"fill: none; stroke: #ddd; stroke-width: 1; opacity: 1;\"></line><line transform=\"translate(0,40)\" x2=\"200\" y2=\"0\" style=\"fill: none; stroke: #ddd; stroke-width: 1; opacity: 1;\"></line><line transform=\"translate(0,0)\" x2=\"200\" y2=\"0\" style=\"fill: none; stroke: #ddd; stroke-width: 1; opacity: 1;\"></line></g></g></g></g><g class=\"mark-rect role-mark marks\"><path d=\"M2.5000000051602145,47.03557312252966h5v57.31225296442688h-5Z\" style=\"fill: #f58518;\"></path><path d=\"M2.5000000051602145,146.6403162055336h5v40.31620553359684h-5Z\" style=\"fill: #72b7b2;\"></path><path d=\"M2.5000000051602145,186.95652173913044h5v13.043478260869563h-5Z\" style=\"fill: #54a24b;\"></path><path d=\"M2.5000000051602145,2.220446049250313e-14h5v47.03557312252964h-5Z\" style=\"fill: #4c78a8;\"></path><path d=\"M2.5000000051602145,104.34782608695654h5v42.29249011857705h-5Z\" style=\"fill: #e45756;\"></path><path d=\"M25.761350115520827,185.15283842794761h5v14.847161572052386h-5Z\" style=\"fill: #54a24b;\"></path><path d=\"M25.761350115520827,0h5v53.7117903930131h-5Z\" style=\"fill: #4c78a8;\"></path><path d=\"M25.761350115520827,146.72489082969432h5v38.4279475982533h-5Z\" style=\"fill: #72b7b2;\"></path><path d=\"M25.761350115520827,99.12663755458514h5v47.59825327510917h-5Z\" style=\"fill: #e45756;\"></path><path d=\"M25.761350115520827,53.7117903930131h5v45.41484716157204h-5Z\" style=\"fill: #f58518;\"></path><path d=\"M49.798078562893465,138.76739562624257h5v48.90656063618286h-5Z\" style=\"fill: #72b7b2;\"></path><path d=\"M49.798078562893465,2.220446049250313e-14h5v50.894632206759425h-5Z\" style=\"fill: #4c78a8;\"></path><path d=\"M49.798078562893465,50.89463220675945h5v43.7375745526839h-5Z\" style=\"fill: #f58518;\"></path><path d=\"M49.798078562893465,187.67395626242543h5v12.326043737574565h-5Z\" style=\"fill: #54a24b;\"></path><path d=\"M49.798078562893465,94.63220675944335h5v44.135188866799226h-5Z\" style=\"fill: #e45756;\"></path><path d=\"M73.8348070102661,146.97286012526095h5v40.50104384133613h-5Z\" style=\"fill: #72b7b2;\"></path><path d=\"M73.8348070102661,50.93945720250523h5v53.02713987473904h-5Z\" style=\"fill: #f58518;\"></path><path d=\"M73.8348070102661,2.220446049250313e-14h5v50.93945720250521h-5Z\" style=\"fill: #4c78a8;\"></path><path d=\"M73.8348070102661,187.47390396659708h5v12.526096033402922h-5Z\" style=\"fill: #54a24b;\"></path><path d=\"M73.8348070102661,103.96659707724427h5v43.00626304801668h-5Z\" style=\"fill: #e45756;\"></path><path d=\"M97.09615712062671,187.28813559322032h5v12.711864406779682h-5Z\" style=\"fill: #54a24b;\"></path><path d=\"M97.09615712062671,0h5v50.42372881355932h-5Z\" style=\"fill: #4c78a8;\"></path><path d=\"M97.09615712062671,50.42372881355932h5v54.23728813559323h-5Z\" style=\"fill: #f58518;\"></path><path d=\"M97.09615712062671,104.66101694915255h5v43.22033898305085h-5Z\" style=\"fill: #e45756;\"></path><path d=\"M97.09615712062671,147.8813559322034h5v39.40677966101691h-5Z\" style=\"fill: #72b7b2;\"></path><path d=\"M121.16519299870819,39.103869653767845h5v60.69246435845213h-5Z\" style=\"fill: #f58518;\"></path><path d=\"M121.16519299870819,99.79633401221997h5v36.659877800407344h-5Z\" style=\"fill: #e45756;\"></path><path d=\"M121.16519299870819,136.45621181262732h5v53.76782077393074h-5Z\" style=\"fill: #72b7b2;\"></path><path d=\"M121.16519299870819,2.220446049250313e-14h5v39.10386965376782h-5Z\" style=\"fill: #4c78a8;\"></path><path d=\"M121.16519299870819,190.22403258655805h5v9.775967413441947h-5Z\" style=\"fill: #54a24b;\"></path><path d=\"M144.4265431090688,39.665970772442606h5v63.04801670146138h-5Z\" style=\"fill: #f58518;\"></path><path d=\"M144.4265431090688,134.44676409185803h5v57.2025052192067h-5Z\" style=\"fill: #72b7b2;\"></path><path d=\"M144.4265431090688,102.71398747390398h5v31.732776617954045h-5Z\" style=\"fill: #e45756;\"></path><path d=\"M144.4265431090688,191.64926931106473h5v8.350730688935272h-5Z\" style=\"fill: #54a24b;\"></path><path d=\"M144.4265431090688,2.220446049250313e-14h5v39.665970772442584h-5Z\" style=\"fill: #4c78a8;\"></path><path d=\"M168.46327155644144,48.14814814814816h5v62.49999999999998h-5Z\" style=\"fill: #f58518;\"></path><path d=\"M168.46327155644144,110.64814814814814h5v40.74074074074075h-5Z\" style=\"fill: #e45756;\"></path><path d=\"M168.46327155644144,151.38888888888889h5v36.111111111111114h-5Z\" style=\"fill: #72b7b2;\"></path><path d=\"M168.46327155644144,0h5v48.14814814814816h-5Z\" style=\"fill: #4c78a8;\"></path><path d=\"M168.46327155644144,187.5h5v12.5h-5Z\" style=\"fill: #54a24b;\"></path><path d=\"M192.50000000381408,0h5v41.88034188034187h-5Z\" style=\"fill: #4c78a8;\"></path><path d=\"M192.50000000381408,116.23931623931622h5v40.170940170940185h-5Z\" style=\"fill: #e45756;\"></path><path d=\"M192.50000000381408,156.4102564102564h5v27.35042735042734h-5Z\" style=\"fill: #72b7b2;\"></path><path d=\"M192.50000000381408,183.76068376068375h5v16.239316239316253h-5Z\" style=\"fill: #54a24b;\"></path><path d=\"M192.50000000381408,41.88034188034187h5v74.35897435897436h-5Z\" style=\"fill: #f58518;\"></path></g><g class=\"mark-group role-legend\"><g transform=\"translate(218,0)\"><path class=\"background\" d=\"M0,0h74v79h-74Z\" style=\"pointer-events: none; fill: none;\"></path><g><g class=\"mark-group role-legend-entry\"><g transform=\"translate(0,16)\"><path class=\"background\" d=\"M0,0h0v0h0Z\" style=\"pointer-events: none; fill: none;\"></path><g><g class=\"mark-group role-scope\"><g transform=\"translate(0,0)\"><path class=\"background\" d=\"M0,0h50v11h-50Z\" style=\"pointer-events: none; fill: none; opacity: 1;\"></path><g><g class=\"mark-symbol role-legend-symbol\" style=\"pointer-events: none;\"><path transform=\"translate(6,6)\" d=\"M-5,-5h10v10h-10Z\" style=\"fill: #4c78a8; stroke-width: 1.5; opacity: 1;\"></path></g><g class=\"mark-text role-legend-label\" style=\"pointer-events: none;\"><text text-anchor=\"start\" transform=\"translate(16,9)\" style=\"font-family: sans-serif; font-size: 10px; fill: #000; opacity: 1;\">topic 1</text></g></g></g><g transform=\"translate(0,13)\"><path class=\"background\" d=\"M0,0h50v11h-50Z\" style=\"pointer-events: none; fill: none; opacity: 1;\"></path><g><g class=\"mark-symbol role-legend-symbol\" style=\"pointer-events: none;\"><path transform=\"translate(6,6)\" d=\"M-5,-5h10v10h-10Z\" style=\"fill: #f58518; stroke-width: 1.5; opacity: 1;\"></path></g><g class=\"mark-text role-legend-label\" style=\"pointer-events: none;\"><text text-anchor=\"start\" transform=\"translate(16,9)\" style=\"font-family: sans-serif; font-size: 10px; fill: #000; opacity: 1;\">topic 2</text></g></g></g><g transform=\"translate(0,26)\"><path class=\"background\" d=\"M0,0h50v11h-50Z\" style=\"pointer-events: none; fill: none; opacity: 1;\"></path><g><g class=\"mark-symbol role-legend-symbol\" style=\"pointer-events: none;\"><path transform=\"translate(6,6)\" d=\"M-5,-5h10v10h-10Z\" style=\"fill: #e45756; stroke-width: 1.5; opacity: 1;\"></path></g><g class=\"mark-text role-legend-label\" style=\"pointer-events: none;\"><text text-anchor=\"start\" transform=\"translate(16,9)\" style=\"font-family: sans-serif; font-size: 10px; fill: #000; opacity: 1;\">topic 3</text></g></g></g><g transform=\"translate(0,39)\"><path class=\"background\" d=\"M0,0h50v11h-50Z\" style=\"pointer-events: none; fill: none; opacity: 1;\"></path><g><g class=\"mark-symbol role-legend-symbol\" style=\"pointer-events: none;\"><path transform=\"translate(6,6)\" d=\"M-5,-5h10v10h-10Z\" style=\"fill: #72b7b2; stroke-width: 1.5; opacity: 1;\"></path></g><g class=\"mark-text role-legend-label\" style=\"pointer-events: none;\"><text text-anchor=\"start\" transform=\"translate(16,9)\" style=\"font-family: sans-serif; font-size: 10px; fill: #000; opacity: 1;\">topic 4</text></g></g></g><g transform=\"translate(0,52)\"><path class=\"background\" d=\"M0,0h50v11h-50Z\" style=\"pointer-events: none; fill: none; opacity: 1;\"></path><g><g class=\"mark-symbol role-legend-symbol\" style=\"pointer-events: none;\"><path transform=\"translate(6,6)\" d=\"M-5,-5h10v10h-10Z\" style=\"fill: #54a24b; stroke-width: 1.5; opacity: 1;\"></path></g><g class=\"mark-text role-legend-label\" style=\"pointer-events: none;\"><text text-anchor=\"start\" transform=\"translate(16,9)\" style=\"font-family: sans-serif; font-size: 10px; fill: #000; opacity: 1;\">topic 5</text></g></g></g></g></g></g></g><g class=\"mark-text role-legend-title\" style=\"pointer-events: none;\"><text text-anchor=\"start\" transform=\"translate(0,9)\" style=\"font-family: sans-serif; font-size: 11px; font-weight: bold; fill: #000; opacity: 1;\">cap_top_cat</text></g></g></g></g><g class=\"mark-group role-axis\"><g transform=\"translate(0.5,200.5)\"><path class=\"background\" d=\"M0,0h0v0h0Z\" style=\"pointer-events: none; fill: none;\"></path><g><g class=\"mark-rule role-axis-tick\" style=\"pointer-events: none;\"><line transform=\"translate(5,0)\" x2=\"0\" y2=\"5\" style=\"fill: none; stroke: #888; stroke-width: 1; opacity: 1;\"></line><line transform=\"translate(28,0)\" x2=\"0\" y2=\"5\" style=\"fill: none; stroke: #888; stroke-width: 1; opacity: 1;\"></line><line transform=\"translate(52,0)\" x2=\"0\" y2=\"5\" style=\"fill: none; stroke: #888; stroke-width: 1; opacity: 1;\"></line><line transform=\"translate(76,0)\" x2=\"0\" y2=\"5\" style=\"fill: none; stroke: #888; stroke-width: 1; opacity: 1;\"></line><line transform=\"translate(100,0)\" x2=\"0\" y2=\"5\" style=\"fill: none; stroke: #888; stroke-width: 1; opacity: 1;\"></line><line transform=\"translate(124,0)\" x2=\"0\" y2=\"5\" style=\"fill: none; stroke: #888; stroke-width: 1; opacity: 1;\"></line><line transform=\"translate(147,0)\" x2=\"0\" y2=\"5\" style=\"fill: none; stroke: #888; stroke-width: 1; opacity: 1;\"></line><line transform=\"translate(171,0)\" x2=\"0\" y2=\"5\" style=\"fill: none; stroke: #888; stroke-width: 1; opacity: 1;\"></line><line transform=\"translate(195,0)\" x2=\"0\" y2=\"5\" style=\"fill: none; stroke: #888; stroke-width: 1; opacity: 1;\"></line></g><g class=\"mark-text role-axis-label\" style=\"pointer-events: none;\"><text text-anchor=\"middle\" transform=\"translate(5.0000000051602145,15)\" style=\"font-family: sans-serif; font-size: 10px; fill: #000; opacity: 1;\">Jun 2020</text><text text-anchor=\"middle\" transform=\"translate(28.261350115520827,15)\" style=\"font-family: sans-serif; font-size: 10px; fill: #000; opacity: 0;\">Jul 2020</text><text text-anchor=\"middle\" transform=\"translate(52.298078562893465,15)\" style=\"font-family: sans-serif; font-size: 10px; fill: #000; opacity: 1;\">Aug 2020</text><text text-anchor=\"middle\" transform=\"translate(76.3348070102661,15)\" style=\"font-family: sans-serif; font-size: 10px; fill: #000; opacity: 0;\">Sep 2020</text><text text-anchor=\"middle\" transform=\"translate(99.59615712062671,15)\" style=\"font-family: sans-serif; font-size: 10px; fill: #000; opacity: 1;\">Oct 2020</text><text text-anchor=\"middle\" transform=\"translate(123.66519299870819,15)\" style=\"font-family: sans-serif; font-size: 10px; fill: #000; opacity: 0;\">Nov 2020</text><text text-anchor=\"middle\" transform=\"translate(146.9265431090688,15)\" style=\"font-family: sans-serif; font-size: 10px; fill: #000; opacity: 1;\">Dec 2020</text><text text-anchor=\"middle\" transform=\"translate(170.96327155644144,15)\" style=\"font-family: sans-serif; font-size: 10px; fill: #000; opacity: 0;\">Jan 2021</text><text text-anchor=\"middle\" transform=\"translate(195.00000000381408,15)\" style=\"font-family: sans-serif; font-size: 10px; fill: #000; opacity: 1;\">Feb 2021</text></g><g class=\"mark-rule role-axis-domain\" style=\"pointer-events: none;\"><line transform=\"translate(0,0)\" x2=\"200\" y2=\"0\" style=\"fill: none; stroke: #888; stroke-width: 1; opacity: 1;\"></line></g><g class=\"mark-text role-axis-title\" style=\"pointer-events: none;\"><text text-anchor=\"middle\" transform=\"translate(100,30)\" style=\"font-family: sans-serif; font-size: 11px; font-weight: bold; fill: #000; opacity: 1;\">period (year-month)</text></g></g></g></g><g class=\"mark-group role-axis\"><g transform=\"translate(0.5,0.5)\"><path class=\"background\" d=\"M0,0h0v0h0Z\" style=\"pointer-events: none; fill: none;\"></path><g><g class=\"mark-rule role-axis-tick\" style=\"pointer-events: none;\"><line transform=\"translate(0,200)\" x2=\"-5\" y2=\"0\" style=\"fill: none; stroke: #888; stroke-width: 1; opacity: 1;\"></line><line transform=\"translate(0,160)\" x2=\"-5\" y2=\"0\" style=\"fill: none; stroke: #888; stroke-width: 1; opacity: 1;\"></line><line transform=\"translate(0,120)\" x2=\"-5\" y2=\"0\" style=\"fill: none; stroke: #888; stroke-width: 1; opacity: 1;\"></line><line transform=\"translate(0,80)\" x2=\"-5\" y2=\"0\" style=\"fill: none; stroke: #888; stroke-width: 1; opacity: 1;\"></line><line transform=\"translate(0,40)\" x2=\"-5\" y2=\"0\" style=\"fill: none; stroke: #888; stroke-width: 1; opacity: 1;\"></line><line transform=\"translate(0,0)\" x2=\"-5\" y2=\"0\" style=\"fill: none; stroke: #888; stroke-width: 1; opacity: 1;\"></line></g><g class=\"mark-text role-axis-label\" style=\"pointer-events: none;\"><text text-anchor=\"end\" transform=\"translate(-7,203)\" style=\"font-family: sans-serif; font-size: 10px; fill: #000; opacity: 1;\">0.0</text><text text-anchor=\"end\" transform=\"translate(-7,163)\" style=\"font-family: sans-serif; font-size: 10px; fill: #000; opacity: 1;\">0.2</text><text text-anchor=\"end\" transform=\"translate(-7,123)\" style=\"font-family: sans-serif; font-size: 10px; fill: #000; opacity: 1;\">0.4</text><text text-anchor=\"end\" transform=\"translate(-7,83)\" style=\"font-family: sans-serif; font-size: 10px; fill: #000; opacity: 1;\">0.6</text><text text-anchor=\"end\" transform=\"translate(-7,42.99999999999999)\" style=\"font-family: sans-serif; font-size: 10px; fill: #000; opacity: 1;\">0.8</text><text text-anchor=\"end\" transform=\"translate(-7,3)\" style=\"font-family: sans-serif; font-size: 10px; fill: #000; opacity: 1;\">1.0</text></g><g class=\"mark-rule role-axis-domain\" style=\"pointer-events: none;\"><line transform=\"translate(0,200)\" x2=\"0\" y2=\"-200\" style=\"fill: none; stroke: #888; stroke-width: 1; opacity: 1;\"></line></g><g class=\"mark-text role-axis-title\" style=\"pointer-events: none;\"><text text-anchor=\"middle\" transform=\"translate(-26,100) rotate(-90) translate(0,-2)\" style=\"font-family: sans-serif; font-size: 11px; font-weight: bold; fill: #000; opacity: 1;\">posts</text></g></g></g></g></g></g></g></g></svg>"
      ],
      "text/plain": [
       "VegaLite.VLSpec{:plot}"
      ]
     },
     "execution_count": 9,
     "metadata": {},
     "output_type": "execute_result"
    }
   ],
   "source": [
    "posts.cap_top_cat = recode(string.(posts.cap_top_cat),\n",
    "    \"1\" => \"topic 1\",\n",
    "    \"2\" => \"topic 2\",\n",
    "    \"3\" => \"topic 3\",\n",
    "    \"4\" => \"topic 4\",\n",
    "    \"5\" => \"topic 5\"\n",
    ");\n",
    "\n",
    "period_caption = combine(\n",
    "    groupby(transform(posts, :post_created => ByRow(yearmonth) => :period), [:period, :cap_top_cat]),\n",
    "    nrow => :count)\n",
    "\n",
    "period_caption |> @vlplot(:bar, \n",
    "    x={\"period:t\", timeUnit=\"yearmonth\"}, \n",
    "    y={\"count\", axis={title=\"posts\"}, stack=:normalize},\n",
    "    color={\"cap_top_cat:n\"})"
   ]
  },
  {
   "cell_type": "markdown",
   "metadata": {},
   "source": [
    "### Image topics\n",
    "Images were analyzed with the Google Vision API, and the resulting image tags were organized into eight topics. The post the highest score per topic are listed below:"
   ]
  },
  {
   "cell_type": "code",
   "execution_count": 10,
   "metadata": {},
   "outputs": [],
   "source": [
    "gdf = groupby(stack(posts, names(posts, r\"im_top\\d+\")), :variable);\n"
   ]
  },
  {
   "cell_type": "markdown",
   "metadata": {},
   "source": [
    "Based on these posts, and the top labels in `topics_image.csv` the following interpretation of the image topics was made."
   ]
  },
  {
   "cell_type": "code",
   "execution_count": 11,
   "metadata": {},
   "outputs": [
    {
     "data": {
      "application/vnd.vegalite.v3+json": {
       "data": {
        "values": [
         {
          "count": 164,
          "im_top_cat": "bodies",
          "period": [
           2020,
           6
          ]
         },
         {
          "count": 99,
          "im_top_cat": "text",
          "period": [
           2020,
           6
          ]
         },
         {
          "count": 70,
          "im_top_cat": "outdoor",
          "period": [
           2020,
           6
          ]
         },
         {
          "count": 115,
          "im_top_cat": "clothing",
          "period": [
           2020,
           6
          ]
         },
         {
          "count": 58,
          "im_top_cat": "food",
          "period": [
           2020,
           6
          ]
         },
         {
          "count": 186,
          "im_top_cat": "bodies",
          "period": [
           2020,
           7
          ]
         },
         {
          "count": 45,
          "im_top_cat": "food",
          "period": [
           2020,
           7
          ]
         },
         {
          "count": 94,
          "im_top_cat": "clothing",
          "period": [
           2020,
           7
          ]
         },
         {
          "count": 94,
          "im_top_cat": "outdoor",
          "period": [
           2020,
           7
          ]
         },
         {
          "count": 39,
          "im_top_cat": "text",
          "period": [
           2020,
           7
          ]
         },
         {
          "count": 123,
          "im_top_cat": "outdoor",
          "period": [
           2020,
           8
          ]
         },
         {
          "count": 165,
          "im_top_cat": "bodies",
          "period": [
           2020,
           8
          ]
         },
         {
          "count": 46,
          "im_top_cat": "food",
          "period": [
           2020,
           8
          ]
         },
         {
          "count": 50,
          "im_top_cat": "text",
          "period": [
           2020,
           8
          ]
         },
         {
          "count": 119,
          "im_top_cat": "clothing",
          "period": [
           2020,
           8
          ]
         },
         {
          "count": 183,
          "im_top_cat": "bodies",
          "period": [
           2020,
           9
          ]
         },
         {
          "count": 84,
          "im_top_cat": "outdoor",
          "period": [
           2020,
           9
          ]
         },
         {
          "count": 113,
          "im_top_cat": "clothing",
          "period": [
           2020,
           9
          ]
         },
         {
          "count": 53,
          "im_top_cat": "text",
          "period": [
           2020,
           9
          ]
         },
         {
          "count": 46,
          "im_top_cat": "food",
          "period": [
           2020,
           9
          ]
         },
         {
          "count": 159,
          "im_top_cat": "bodies",
          "period": [
           2020,
           10
          ]
         },
         {
          "count": 48,
          "im_top_cat": "food",
          "period": [
           2020,
           10
          ]
         },
         {
          "count": 58,
          "im_top_cat": "text",
          "period": [
           2020,
           10
          ]
         },
         {
          "count": 79,
          "im_top_cat": "outdoor",
          "period": [
           2020,
           10
          ]
         },
         {
          "count": 128,
          "im_top_cat": "clothing",
          "period": [
           2020,
           10
          ]
         },
         {
          "count": 147,
          "im_top_cat": "clothing",
          "period": [
           2020,
           11
          ]
         },
         {
          "count": 49,
          "im_top_cat": "food",
          "period": [
           2020,
           11
          ]
         },
         {
          "count": 58,
          "im_top_cat": "outdoor",
          "period": [
           2020,
           11
          ]
         },
         {
          "count": 174,
          "im_top_cat": "bodies",
          "period": [
           2020,
           11
          ]
         },
         {
          "count": 63,
          "im_top_cat": "text",
          "period": [
           2020,
           11
          ]
         },
         {
          "count": 54,
          "im_top_cat": "food",
          "period": [
           2020,
           12
          ]
         },
         {
          "count": 156,
          "im_top_cat": "clothing",
          "period": [
           2020,
           12
          ]
         },
         {
          "count": 26,
          "im_top_cat": "outdoor",
          "period": [
           2020,
           12
          ]
         },
         {
          "count": 146,
          "im_top_cat": "bodies",
          "period": [
           2020,
           12
          ]
         },
         {
          "count": 97,
          "im_top_cat": "text",
          "period": [
           2020,
           12
          ]
         },
         {
          "count": 157,
          "im_top_cat": "clothing",
          "period": [
           2021,
           1
          ]
         },
         {
          "count": 67,
          "im_top_cat": "outdoor",
          "period": [
           2021,
           1
          ]
         },
         {
          "count": 34,
          "im_top_cat": "food",
          "period": [
           2021,
           1
          ]
         },
         {
          "count": 66,
          "im_top_cat": "text",
          "period": [
           2021,
           1
          ]
         },
         {
          "count": 108,
          "im_top_cat": "bodies",
          "period": [
           2021,
           1
          ]
         },
         {
          "count": 34,
          "im_top_cat": "outdoor",
          "period": [
           2021,
           2
          ]
         },
         {
          "count": 53,
          "im_top_cat": "bodies",
          "period": [
           2021,
           2
          ]
         },
         {
          "count": 98,
          "im_top_cat": "clothing",
          "period": [
           2021,
           2
          ]
         },
         {
          "count": 31,
          "im_top_cat": "text",
          "period": [
           2021,
           2
          ]
         },
         {
          "count": 18,
          "im_top_cat": "food",
          "period": [
           2021,
           2
          ]
         }
        ]
       },
       "encoding": {
        "color": {
         "field": "im_top_cat",
         "type": "nominal"
        },
        "x": {
         "field": "period",
         "timeUnit": "yearmonth",
         "type": "temporal"
        },
        "y": {
         "axis": {
          "title": "posts"
         },
         "field": "count",
         "stack": "normalize",
         "type": "quantitative"
        }
       },
       "mark": "bar"
      },
      "image/png": "[encoded data removed]",
      "image/svg+xml": [
       "<svg class=\"marks\" width=\"332\" height=\"247\" viewBox=\"0 0 332 247\" version=\"1.1\" xmlns=\"http://www.w3.org/2000/svg\" xmlns:xlink=\"http://www.w3.org/1999/xlink\"><g transform=\"translate(42,10)\"><g class=\"mark-group role-frame root\"><g transform=\"translate(0,0)\"><path class=\"background\" d=\"M0.5,0.5h200v200h-200Z\" style=\"fill: none; stroke: #ddd;\"></path><g><g class=\"mark-group role-axis\"><g transform=\"translate(0.5,200.5)\"><path class=\"background\" d=\"M0,0h0v0h0Z\" style=\"pointer-events: none; fill: none;\"></path><g><g class=\"mark-rule role-axis-grid\" style=\"pointer-events: none;\"><line transform=\"translate(5,-200)\" x2=\"0\" y2=\"200\" style=\"fill: none; stroke: #ddd; stroke-width: 1; opacity: 1;\"></line><line transform=\"translate(28,-200)\" x2=\"0\" y2=\"200\" style=\"fill: none; stroke: #ddd; stroke-width: 1; opacity: 1;\"></line><line transform=\"translate(52,-200)\" x2=\"0\" y2=\"200\" style=\"fill: none; stroke: #ddd; stroke-width: 1; opacity: 1;\"></line><line transform=\"translate(76,-200)\" x2=\"0\" y2=\"200\" style=\"fill: none; stroke: #ddd; stroke-width: 1; opacity: 1;\"></line><line transform=\"translate(100,-200)\" x2=\"0\" y2=\"200\" style=\"fill: none; stroke: #ddd; stroke-width: 1; opacity: 1;\"></line><line transform=\"translate(124,-200)\" x2=\"0\" y2=\"200\" style=\"fill: none; stroke: #ddd; stroke-width: 1; opacity: 1;\"></line><line transform=\"translate(147,-200)\" x2=\"0\" y2=\"200\" style=\"fill: none; stroke: #ddd; stroke-width: 1; opacity: 1;\"></line><line transform=\"translate(171,-200)\" x2=\"0\" y2=\"200\" style=\"fill: none; stroke: #ddd; stroke-width: 1; opacity: 1;\"></line><line transform=\"translate(195,-200)\" x2=\"0\" y2=\"200\" style=\"fill: none; stroke: #ddd; stroke-width: 1; opacity: 1;\"></line></g></g></g></g><g class=\"mark-group role-axis\"><g transform=\"translate(0.5,0.5)\"><path class=\"background\" d=\"M0,0h0v0h0Z\" style=\"pointer-events: none; fill: none;\"></path><g><g class=\"mark-rule role-axis-grid\" style=\"pointer-events: none;\"><line transform=\"translate(0,200)\" x2=\"200\" y2=\"0\" style=\"fill: none; stroke: #ddd; stroke-width: 1; opacity: 1;\"></line><line transform=\"translate(0,160)\" x2=\"200\" y2=\"0\" style=\"fill: none; stroke: #ddd; stroke-width: 1; opacity: 1;\"></line><line transform=\"translate(0,120)\" x2=\"200\" y2=\"0\" style=\"fill: none; stroke: #ddd; stroke-width: 1; opacity: 1;\"></line><line transform=\"translate(0,80)\" x2=\"200\" y2=\"0\" style=\"fill: none; stroke: #ddd; stroke-width: 1; opacity: 1;\"></line><line transform=\"translate(0,40)\" x2=\"200\" y2=\"0\" style=\"fill: none; stroke: #ddd; stroke-width: 1; opacity: 1;\"></line><line transform=\"translate(0,0)\" x2=\"200\" y2=\"0\" style=\"fill: none; stroke: #ddd; stroke-width: 1; opacity: 1;\"></line></g></g></g></g><g class=\"mark-rect role-mark marks\"><path d=\"M2.5000000051602145,2.220446049250313e-14h5v64.82213438735175h-5Z\" style=\"fill: #4c78a8;\"></path><path d=\"M2.5000000051602145,160.8695652173913h5v39.13043478260869h-5Z\" style=\"fill: #54a24b;\"></path><path d=\"M2.5000000051602145,133.201581027668h5v27.667984189723313h-5Z\" style=\"fill: #72b7b2;\"></path><path d=\"M2.5000000051602145,64.82213438735178h5v45.45454545454545h-5Z\" style=\"fill: #f58518;\"></path><path d=\"M2.5000000051602145,110.27667984189723h5v22.924901185770764h-5Z\" style=\"fill: #e45756;\"></path><path d=\"M25.761350115520827,0h5v81.2227074235808h-5Z\" style=\"fill: #4c78a8;\"></path><path d=\"M25.761350115520827,122.27074235807862h5v19.65065502183404h-5Z\" style=\"fill: #e45756;\"></path><path d=\"M25.761350115520827,81.2227074235808h5v41.04803493449782h-5Z\" style=\"fill: #f58518;\"></path><path d=\"M25.761350115520827,141.92139737991266h5v41.04803493449782h-5Z\" style=\"fill: #72b7b2;\"></path><path d=\"M25.761350115520827,182.96943231441048h5v17.030567685589517h-5Z\" style=\"fill: #54a24b;\"></path><path d=\"M49.798078562893465,131.2127236580517h5v48.90656063618292h-5Z\" style=\"fill: #72b7b2;\"></path><path d=\"M49.798078562893465,2.220446049250313e-14h5v65.60636182902583h-5Z\" style=\"fill: #4c78a8;\"></path><path d=\"M49.798078562893465,112.92246520874754h5v18.290258449304147h-5Z\" style=\"fill: #e45756;\"></path><path d=\"M49.798078562893465,180.1192842942346h5v19.880715705765397h-5Z\" style=\"fill: #54a24b;\"></path><path d=\"M49.798078562893465,65.60636182902586h5v47.31610337972168h-5Z\" style=\"fill: #f58518;\"></path><path d=\"M73.8348070102661,2.220446049250313e-14h5v76.40918580375781h-5Z\" style=\"fill: #4c78a8;\"></path><path d=\"M73.8348070102661,142.79749478079333h5v35.07306889352816h-5Z\" style=\"fill: #72b7b2;\"></path><path d=\"M73.8348070102661,76.40918580375784h5v47.18162839248434h-5Z\" style=\"fill: #f58518;\"></path><path d=\"M73.8348070102661,177.8705636743215h5v22.129436325678512h-5Z\" style=\"fill: #54a24b;\"></path><path d=\"M73.8348070102661,123.59081419624218h5v19.20668058455115h-5Z\" style=\"fill: #e45756;\"></path><path d=\"M97.09615712062671,0h5v67.37288135593221h-5Z\" style=\"fill: #4c78a8;\"></path><path d=\"M97.09615712062671,121.61016949152543h5v20.338983050847446h-5Z\" style=\"fill: #e45756;\"></path><path d=\"M97.09615712062671,175.4237288135593h5v24.576271186440692h-5Z\" style=\"fill: #54a24b;\"></path><path d=\"M97.09615712062671,141.94915254237287h5v33.474576271186436h-5Z\" style=\"fill: #72b7b2;\"></path><path d=\"M97.09615712062671,67.37288135593221h5v54.23728813559322h-5Z\" style=\"fill: #f58518;\"></path><path d=\"M121.16519299870819,70.87576374745419h5v59.87780040733196h-5Z\" style=\"fill: #f58518;\"></path><path d=\"M121.16519299870819,130.75356415478615h5v19.959266802443977h-5Z\" style=\"fill: #e45756;\"></path><path d=\"M121.16519299870819,150.71283095723012h5v23.625254582484757h-5Z\" style=\"fill: #72b7b2;\"></path><path d=\"M121.16519299870819,2.220446049250313e-14h5v70.87576374745416h-5Z\" style=\"fill: #4c78a8;\"></path><path d=\"M121.16519299870819,174.33808553971488h5v25.661914460285118h-5Z\" style=\"fill: #54a24b;\"></path><path d=\"M144.4265431090688,126.09603340292277h5v22.54697286012525h-5Z\" style=\"fill: #e45756;\"></path><path d=\"M144.4265431090688,60.96033402922758h5v65.13569937369519h-5Z\" style=\"fill: #f58518;\"></path><path d=\"M144.4265431090688,148.64300626304802h5v10.855949895615879h-5Z\" style=\"fill: #72b7b2;\"></path><path d=\"M144.4265431090688,2.220446049250313e-14h5v60.96033402922756h-5Z\" style=\"fill: #4c78a8;\"></path><path d=\"M144.4265431090688,159.4989561586639h5v40.5010438413361h-5Z\" style=\"fill: #54a24b;\"></path><path d=\"M168.46327155644144,50h5v72.68518518518519h-5Z\" style=\"fill: #f58518;\"></path><path d=\"M168.46327155644144,138.42592592592592h5v31.018518518518505h-5Z\" style=\"fill: #72b7b2;\"></path><path d=\"M168.46327155644144,122.68518518518519h5v15.740740740740733h-5Z\" style=\"fill: #e45756;\"></path><path d=\"M168.46327155644144,169.44444444444443h5v30.55555555555557h-5Z\" style=\"fill: #54a24b;\"></path><path d=\"M168.46327155644144,0h5v50h-5Z\" style=\"fill: #4c78a8;\"></path><path d=\"M192.50000000381408,144.44444444444443h5v29.05982905982907h-5Z\" style=\"fill: #72b7b2;\"></path><path d=\"M192.50000000381408,0h5v45.299145299145295h-5Z\" style=\"fill: #4c78a8;\"></path><path d=\"M192.50000000381408,45.299145299145295h5v83.76068376068375h-5Z\" style=\"fill: #f58518;\"></path><path d=\"M192.50000000381408,173.5042735042735h5v26.4957264957265h-5Z\" style=\"fill: #54a24b;\"></path><path d=\"M192.50000000381408,129.05982905982904h5v15.384615384615387h-5Z\" style=\"fill: #e45756;\"></path></g><g class=\"mark-group role-legend\"><g transform=\"translate(218,0)\"><path class=\"background\" d=\"M0,0h67v79h-67Z\" style=\"pointer-events: none; fill: none;\"></path><g><g class=\"mark-group role-legend-entry\"><g transform=\"translate(0,16)\"><path class=\"background\" d=\"M0,0h0v0h0Z\" style=\"pointer-events: none; fill: none;\"></path><g><g class=\"mark-group role-scope\"><g transform=\"translate(0,0)\"><path class=\"background\" d=\"M0,0h56v11h-56Z\" style=\"pointer-events: none; fill: none; opacity: 1;\"></path><g><g class=\"mark-symbol role-legend-symbol\" style=\"pointer-events: none;\"><path transform=\"translate(6,6)\" d=\"M-5,-5h10v10h-10Z\" style=\"fill: #4c78a8; stroke-width: 1.5; opacity: 1;\"></path></g><g class=\"mark-text role-legend-label\" style=\"pointer-events: none;\"><text text-anchor=\"start\" transform=\"translate(16,9)\" style=\"font-family: sans-serif; font-size: 10px; fill: #000; opacity: 1;\">bodies</text></g></g></g><g transform=\"translate(0,13)\"><path class=\"background\" d=\"M0,0h56v11h-56Z\" style=\"pointer-events: none; fill: none; opacity: 1;\"></path><g><g class=\"mark-symbol role-legend-symbol\" style=\"pointer-events: none;\"><path transform=\"translate(6,6)\" d=\"M-5,-5h10v10h-10Z\" style=\"fill: #f58518; stroke-width: 1.5; opacity: 1;\"></path></g><g class=\"mark-text role-legend-label\" style=\"pointer-events: none;\"><text text-anchor=\"start\" transform=\"translate(16,9)\" style=\"font-family: sans-serif; font-size: 10px; fill: #000; opacity: 1;\">clothing</text></g></g></g><g transform=\"translate(0,26)\"><path class=\"background\" d=\"M0,0h56v11h-56Z\" style=\"pointer-events: none; fill: none; opacity: 1;\"></path><g><g class=\"mark-symbol role-legend-symbol\" style=\"pointer-events: none;\"><path transform=\"translate(6,6)\" d=\"M-5,-5h10v10h-10Z\" style=\"fill: #e45756; stroke-width: 1.5; opacity: 1;\"></path></g><g class=\"mark-text role-legend-label\" style=\"pointer-events: none;\"><text text-anchor=\"start\" transform=\"translate(16,9)\" style=\"font-family: sans-serif; font-size: 10px; fill: #000; opacity: 1;\">food</text></g></g></g><g transform=\"translate(0,39)\"><path class=\"background\" d=\"M0,0h56v11h-56Z\" style=\"pointer-events: none; fill: none; opacity: 1;\"></path><g><g class=\"mark-symbol role-legend-symbol\" style=\"pointer-events: none;\"><path transform=\"translate(6,6)\" d=\"M-5,-5h10v10h-10Z\" style=\"fill: #72b7b2; stroke-width: 1.5; opacity: 1;\"></path></g><g class=\"mark-text role-legend-label\" style=\"pointer-events: none;\"><text text-anchor=\"start\" transform=\"translate(16,9)\" style=\"font-family: sans-serif; font-size: 10px; fill: #000; opacity: 1;\">outdoor</text></g></g></g><g transform=\"translate(0,52)\"><path class=\"background\" d=\"M0,0h56v11h-56Z\" style=\"pointer-events: none; fill: none; opacity: 1;\"></path><g><g class=\"mark-symbol role-legend-symbol\" style=\"pointer-events: none;\"><path transform=\"translate(6,6)\" d=\"M-5,-5h10v10h-10Z\" style=\"fill: #54a24b; stroke-width: 1.5; opacity: 1;\"></path></g><g class=\"mark-text role-legend-label\" style=\"pointer-events: none;\"><text text-anchor=\"start\" transform=\"translate(16,9)\" style=\"font-family: sans-serif; font-size: 10px; fill: #000; opacity: 1;\">text</text></g></g></g></g></g></g></g><g class=\"mark-text role-legend-title\" style=\"pointer-events: none;\"><text text-anchor=\"start\" transform=\"translate(0,9)\" style=\"font-family: sans-serif; font-size: 11px; font-weight: bold; fill: #000; opacity: 1;\">im_top_cat</text></g></g></g></g><g class=\"mark-group role-axis\"><g transform=\"translate(0.5,200.5)\"><path class=\"background\" d=\"M0,0h0v0h0Z\" style=\"pointer-events: none; fill: none;\"></path><g><g class=\"mark-rule role-axis-tick\" style=\"pointer-events: none;\"><line transform=\"translate(5,0)\" x2=\"0\" y2=\"5\" style=\"fill: none; stroke: #888; stroke-width: 1; opacity: 1;\"></line><line transform=\"translate(28,0)\" x2=\"0\" y2=\"5\" style=\"fill: none; stroke: #888; stroke-width: 1; opacity: 1;\"></line><line transform=\"translate(52,0)\" x2=\"0\" y2=\"5\" style=\"fill: none; stroke: #888; stroke-width: 1; opacity: 1;\"></line><line transform=\"translate(76,0)\" x2=\"0\" y2=\"5\" style=\"fill: none; stroke: #888; stroke-width: 1; opacity: 1;\"></line><line transform=\"translate(100,0)\" x2=\"0\" y2=\"5\" style=\"fill: none; stroke: #888; stroke-width: 1; opacity: 1;\"></line><line transform=\"translate(124,0)\" x2=\"0\" y2=\"5\" style=\"fill: none; stroke: #888; stroke-width: 1; opacity: 1;\"></line><line transform=\"translate(147,0)\" x2=\"0\" y2=\"5\" style=\"fill: none; stroke: #888; stroke-width: 1; opacity: 1;\"></line><line transform=\"translate(171,0)\" x2=\"0\" y2=\"5\" style=\"fill: none; stroke: #888; stroke-width: 1; opacity: 1;\"></line><line transform=\"translate(195,0)\" x2=\"0\" y2=\"5\" style=\"fill: none; stroke: #888; stroke-width: 1; opacity: 1;\"></line></g><g class=\"mark-text role-axis-label\" style=\"pointer-events: none;\"><text text-anchor=\"middle\" transform=\"translate(5.0000000051602145,15)\" style=\"font-family: sans-serif; font-size: 10px; fill: #000; opacity: 1;\">Jun 2020</text><text text-anchor=\"middle\" transform=\"translate(28.261350115520827,15)\" style=\"font-family: sans-serif; font-size: 10px; fill: #000; opacity: 0;\">Jul 2020</text><text text-anchor=\"middle\" transform=\"translate(52.298078562893465,15)\" style=\"font-family: sans-serif; font-size: 10px; fill: #000; opacity: 1;\">Aug 2020</text><text text-anchor=\"middle\" transform=\"translate(76.3348070102661,15)\" style=\"font-family: sans-serif; font-size: 10px; fill: #000; opacity: 0;\">Sep 2020</text><text text-anchor=\"middle\" transform=\"translate(99.59615712062671,15)\" style=\"font-family: sans-serif; font-size: 10px; fill: #000; opacity: 1;\">Oct 2020</text><text text-anchor=\"middle\" transform=\"translate(123.66519299870819,15)\" style=\"font-family: sans-serif; font-size: 10px; fill: #000; opacity: 0;\">Nov 2020</text><text text-anchor=\"middle\" transform=\"translate(146.9265431090688,15)\" style=\"font-family: sans-serif; font-size: 10px; fill: #000; opacity: 1;\">Dec 2020</text><text text-anchor=\"middle\" transform=\"translate(170.96327155644144,15)\" style=\"font-family: sans-serif; font-size: 10px; fill: #000; opacity: 0;\">Jan 2021</text><text text-anchor=\"middle\" transform=\"translate(195.00000000381408,15)\" style=\"font-family: sans-serif; font-size: 10px; fill: #000; opacity: 1;\">Feb 2021</text></g><g class=\"mark-rule role-axis-domain\" style=\"pointer-events: none;\"><line transform=\"translate(0,0)\" x2=\"200\" y2=\"0\" style=\"fill: none; stroke: #888; stroke-width: 1; opacity: 1;\"></line></g><g class=\"mark-text role-axis-title\" style=\"pointer-events: none;\"><text text-anchor=\"middle\" transform=\"translate(100,30)\" style=\"font-family: sans-serif; font-size: 11px; font-weight: bold; fill: #000; opacity: 1;\">period (year-month)</text></g></g></g></g><g class=\"mark-group role-axis\"><g transform=\"translate(0.5,0.5)\"><path class=\"background\" d=\"M0,0h0v0h0Z\" style=\"pointer-events: none; fill: none;\"></path><g><g class=\"mark-rule role-axis-tick\" style=\"pointer-events: none;\"><line transform=\"translate(0,200)\" x2=\"-5\" y2=\"0\" style=\"fill: none; stroke: #888; stroke-width: 1; opacity: 1;\"></line><line transform=\"translate(0,160)\" x2=\"-5\" y2=\"0\" style=\"fill: none; stroke: #888; stroke-width: 1; opacity: 1;\"></line><line transform=\"translate(0,120)\" x2=\"-5\" y2=\"0\" style=\"fill: none; stroke: #888; stroke-width: 1; opacity: 1;\"></line><line transform=\"translate(0,80)\" x2=\"-5\" y2=\"0\" style=\"fill: none; stroke: #888; stroke-width: 1; opacity: 1;\"></line><line transform=\"translate(0,40)\" x2=\"-5\" y2=\"0\" style=\"fill: none; stroke: #888; stroke-width: 1; opacity: 1;\"></line><line transform=\"translate(0,0)\" x2=\"-5\" y2=\"0\" style=\"fill: none; stroke: #888; stroke-width: 1; opacity: 1;\"></line></g><g class=\"mark-text role-axis-label\" style=\"pointer-events: none;\"><text text-anchor=\"end\" transform=\"translate(-7,203)\" style=\"font-family: sans-serif; font-size: 10px; fill: #000; opacity: 1;\">0.0</text><text text-anchor=\"end\" transform=\"translate(-7,163)\" style=\"font-family: sans-serif; font-size: 10px; fill: #000; opacity: 1;\">0.2</text><text text-anchor=\"end\" transform=\"translate(-7,123)\" style=\"font-family: sans-serif; font-size: 10px; fill: #000; opacity: 1;\">0.4</text><text text-anchor=\"end\" transform=\"translate(-7,83)\" style=\"font-family: sans-serif; font-size: 10px; fill: #000; opacity: 1;\">0.6</text><text text-anchor=\"end\" transform=\"translate(-7,42.99999999999999)\" style=\"font-family: sans-serif; font-size: 10px; fill: #000; opacity: 1;\">0.8</text><text text-anchor=\"end\" transform=\"translate(-7,3)\" style=\"font-family: sans-serif; font-size: 10px; fill: #000; opacity: 1;\">1.0</text></g><g class=\"mark-rule role-axis-domain\" style=\"pointer-events: none;\"><line transform=\"translate(0,200)\" x2=\"0\" y2=\"-200\" style=\"fill: none; stroke: #888; stroke-width: 1; opacity: 1;\"></line></g><g class=\"mark-text role-axis-title\" style=\"pointer-events: none;\"><text text-anchor=\"middle\" transform=\"translate(-26,100) rotate(-90) translate(0,-2)\" style=\"font-family: sans-serif; font-size: 11px; font-weight: bold; fill: #000; opacity: 1;\">posts</text></g></g></g></g></g></g></g></g></svg>"
      ],
      "text/plain": [
       "VegaLite.VLSpec{:plot}"
      ]
     },
     "execution_count": 11,
     "metadata": {},
     "output_type": "execute_result"
    }
   ],
   "source": [
    "posts.im_top_cat = recode(string.(posts.im_top_cat), \n",
    "    \"1\" => \"bodies\",\n",
    "    \"2\" => \"outdoor\",\n",
    "    \"3\" => \"text\",\n",
    "    \"4\" => \"food\",\n",
    "    \"5\" => \"clothing\"\n",
    ");\n",
    "\n",
    "period_image = combine(\n",
    "    groupby(transform(posts, :post_created => ByRow(yearmonth) => :period), [:period, :im_top_cat]),\n",
    "    nrow => :count)\n",
    "\n",
    "period_image |> @vlplot(:bar, \n",
    "    x={\"period:t\", timeUnit=\"yearmonth\"}, \n",
    "    y={\"count\", axis={title=\"posts\"}, stack=:normalize},\n",
    "    color={\"im_top_cat:n\"})"
   ]
  },
  {
   "cell_type": "markdown",
   "metadata": {},
   "source": [
    "## Donations\n",
    "\n",
    "Next we load the donations, and display the number of donations over time."
   ]
  },
  {
   "cell_type": "code",
   "execution_count": 12,
   "metadata": {},
   "outputs": [
    {
     "name": "stdout",
     "output_type": "stream",
     "text": [
      "nrow(donations) = 15065\n"
     ]
    },
    {
     "data": {
      "text/plain": [
       "15065"
      ]
     },
     "execution_count": 12,
     "metadata": {},
     "output_type": "execute_result"
    }
   ],
   "source": [
    "donations = CSV.File(\"../data/donations.csv\", dateformat=\"yyyy-mm-dd HH:MM:SS\") |> DataFrame;\n",
    "\n",
    "donations.post_DOW = categorical(map(Dates.dayname, donations.post_created), levels=Dates.dayname.(1:7));\n",
    "donations.post_HOD = categorical(map(x -> Dates.value(Dates.Hour(x)), donations.post_created));\n",
    "donations.post_age = (donations.donation_created - donations.post_created) / convert(Dates.Millisecond, Dates.Hour(1));\n",
    "\n",
    "donations.likes_cat = cut(donations.likes_count, [0, 5, 10, 100, 1000], extend=true);\n",
    "donations.comments_cat = cut(donations.comments_count, 5);\n",
    "donations.post_age_cat = cut(donations.post_age, [1, 3, 24], extend=true);\n",
    "\n",
    "@show(nrow(donations))"
   ]
  },
  {
   "cell_type": "code",
   "execution_count": 13,
   "metadata": {},
   "outputs": [
    {
     "data": {
      "application/vnd.vegalite.v3+json": {
       "data": {
        "values": [
         {
          "num_donations": 4,
          "period": "2020-07-21T00:00:00"
         },
         {
          "num_donations": 101,
          "period": "2020-07-22T00:00:00"
         },
         {
          "num_donations": 150,
          "period": "2020-07-23T00:00:00"
         },
         {
          "num_donations": 81,
          "period": "2020-07-24T00:00:00"
         },
         {
          "num_donations": 54,
          "period": "2020-07-25T00:00:00"
         },
         {
          "num_donations": 162,
          "period": "2020-07-27T00:00:00"
         },
         {
          "num_donations": 267,
          "period": "2020-07-28T00:00:00"
         },
         {
          "num_donations": 206,
          "period": "2020-07-29T00:00:00"
         },
         {
          "num_donations": 158,
          "period": "2020-07-30T00:00:00"
         },
         {
          "num_donations": 59,
          "period": "2020-07-31T00:00:00"
         },
         {
          "num_donations": 42,
          "period": "2020-08-01T00:00:00"
         },
         {
          "num_donations": 214,
          "period": "2020-08-02T00:00:00"
         },
         {
          "num_donations": 231,
          "period": "2020-08-03T00:00:00"
         },
         {
          "num_donations": 158,
          "period": "2020-08-04T00:00:00"
         },
         {
          "num_donations": 235,
          "period": "2020-08-05T00:00:00"
         },
         {
          "num_donations": 209,
          "period": "2020-08-06T00:00:00"
         },
         {
          "num_donations": 59,
          "period": "2020-08-07T00:00:00"
         },
         {
          "num_donations": 144,
          "period": "2020-08-09T00:00:00"
         },
         {
          "num_donations": 222,
          "period": "2020-08-10T00:00:00"
         },
         {
          "num_donations": 186,
          "period": "2020-08-11T00:00:00"
         },
         {
          "num_donations": 127,
          "period": "2020-08-12T00:00:00"
         },
         {
          "num_donations": 132,
          "period": "2020-08-13T00:00:00"
         },
         {
          "num_donations": 171,
          "period": "2020-08-14T00:00:00"
         },
         {
          "num_donations": 35,
          "period": "2020-08-15T00:00:00"
         },
         {
          "num_donations": 99,
          "period": "2020-08-16T00:00:00"
         },
         {
          "num_donations": 157,
          "period": "2020-08-17T00:00:00"
         },
         {
          "num_donations": 362,
          "period": "2020-08-18T00:00:00"
         },
         {
          "num_donations": 277,
          "period": "2020-08-19T00:00:00"
         },
         {
          "num_donations": 387,
          "period": "2020-08-20T00:00:00"
         },
         {
          "num_donations": 207,
          "period": "2020-08-21T00:00:00"
         },
         {
          "num_donations": 135,
          "period": "2020-08-22T00:00:00"
         },
         {
          "num_donations": 261,
          "period": "2020-08-23T00:00:00"
         },
         {
          "num_donations": 905,
          "period": "2020-08-24T00:00:00"
         },
         {
          "num_donations": 244,
          "period": "2020-08-25T00:00:00"
         },
         {
          "num_donations": 175,
          "period": "2020-08-26T00:00:00"
         },
         {
          "num_donations": 132,
          "period": "2020-08-27T00:00:00"
         },
         {
          "num_donations": 92,
          "period": "2020-08-28T00:00:00"
         },
         {
          "num_donations": 164,
          "period": "2020-08-30T00:00:00"
         },
         {
          "num_donations": 187,
          "period": "2020-08-31T00:00:00"
         },
         {
          "num_donations": 241,
          "period": "2020-09-01T00:00:00"
         },
         {
          "num_donations": 232,
          "period": "2020-09-02T00:00:00"
         },
         {
          "num_donations": 104,
          "period": "2020-09-03T00:00:00"
         },
         {
          "num_donations": 44,
          "period": "2020-09-04T00:00:00"
         },
         {
          "num_donations": 130,
          "period": "2020-09-05T00:00:00"
         },
         {
          "num_donations": 198,
          "period": "2020-09-06T00:00:00"
         },
         {
          "num_donations": 177,
          "period": "2020-09-07T00:00:00"
         },
         {
          "num_donations": 132,
          "period": "2020-09-08T00:00:00"
         },
         {
          "num_donations": 103,
          "period": "2020-09-09T00:00:00"
         },
         {
          "num_donations": 91,
          "period": "2020-09-10T00:00:00"
         },
         {
          "num_donations": 48,
          "period": "2020-09-11T00:00:00"
         },
         {
          "num_donations": 21,
          "period": "2020-09-12T00:00:00"
         },
         {
          "num_donations": 135,
          "period": "2020-09-13T00:00:00"
         },
         {
          "num_donations": 66,
          "period": "2020-09-14T00:00:00"
         },
         {
          "num_donations": 319,
          "period": "2020-09-15T00:00:00"
         },
         {
          "num_donations": 200,
          "period": "2020-09-16T00:00:00"
         },
         {
          "num_donations": 155,
          "period": "2020-09-17T00:00:00"
         },
         {
          "num_donations": 104,
          "period": "2020-09-18T00:00:00"
         },
         {
          "num_donations": 104,
          "period": "2020-10-07T00:00:00"
         },
         {
          "num_donations": 72,
          "period": "2020-10-08T00:00:00"
         },
         {
          "num_donations": 51,
          "period": "2020-10-09T00:00:00"
         },
         {
          "num_donations": 60,
          "period": "2020-10-10T00:00:00"
         },
         {
          "num_donations": 57,
          "period": "2020-10-20T00:00:00"
         },
         {
          "num_donations": 160,
          "period": "2020-10-21T00:00:00"
         },
         {
          "num_donations": 111,
          "period": "2020-10-22T00:00:00"
         },
         {
          "num_donations": 29,
          "period": "2020-10-23T00:00:00"
         },
         {
          "num_donations": 31,
          "period": "2020-10-24T00:00:00"
         },
         {
          "num_donations": 15,
          "period": "2020-10-25T00:00:00"
         },
         {
          "num_donations": 115,
          "period": "2020-10-26T00:00:00"
         },
         {
          "num_donations": 72,
          "period": "2020-10-27T00:00:00"
         },
         {
          "num_donations": 84,
          "period": "2020-10-28T00:00:00"
         },
         {
          "num_donations": 50,
          "period": "2020-10-29T00:00:00"
         },
         {
          "num_donations": 60,
          "period": "2020-10-30T00:00:00"
         },
         {
          "num_donations": 61,
          "period": "2020-10-31T00:00:00"
         },
         {
          "num_donations": 124,
          "period": "2020-11-01T00:00:00"
         },
         {
          "num_donations": 158,
          "period": "2020-11-02T00:00:00"
         },
         {
          "num_donations": 171,
          "period": "2020-11-03T00:00:00"
         },
         {
          "num_donations": 87,
          "period": "2020-11-04T00:00:00"
         },
         {
          "num_donations": 118,
          "period": "2020-11-05T00:00:00"
         },
         {
          "num_donations": 64,
          "period": "2020-11-06T00:00:00"
         },
         {
          "num_donations": 33,
          "period": "2020-11-07T00:00:00"
         },
         {
          "num_donations": 38,
          "period": "2020-11-08T00:00:00"
         },
         {
          "num_donations": 104,
          "period": "2020-11-09T00:00:00"
         },
         {
          "num_donations": 140,
          "period": "2020-11-10T00:00:00"
         },
         {
          "num_donations": 97,
          "period": "2020-11-11T00:00:00"
         },
         {
          "num_donations": 102,
          "period": "2020-11-12T00:00:00"
         },
         {
          "num_donations": 146,
          "period": "2020-11-13T00:00:00"
         },
         {
          "num_donations": 35,
          "period": "2020-11-14T00:00:00"
         },
         {
          "num_donations": 22,
          "period": "2020-11-15T00:00:00"
         },
         {
          "num_donations": 94,
          "period": "2020-11-16T00:00:00"
         },
         {
          "num_donations": 104,
          "period": "2020-11-17T00:00:00"
         },
         {
          "num_donations": 130,
          "period": "2020-11-18T00:00:00"
         },
         {
          "num_donations": 217,
          "period": "2020-11-19T00:00:00"
         },
         {
          "num_donations": 103,
          "period": "2020-11-20T00:00:00"
         },
         {
          "num_donations": 12,
          "period": "2020-11-21T00:00:00"
         },
         {
          "num_donations": 1,
          "period": "2020-11-22T00:00:00"
         },
         {
          "num_donations": 35,
          "period": "2020-11-23T00:00:00"
         },
         {
          "num_donations": 43,
          "period": "2020-11-24T00:00:00"
         },
         {
          "num_donations": 13,
          "period": "2020-11-25T00:00:00"
         },
         {
          "num_donations": 9,
          "period": "2020-11-26T00:00:00"
         },
         {
          "num_donations": 11,
          "period": "2020-11-27T00:00:00"
         },
         {
          "num_donations": 13,
          "period": "2020-11-28T00:00:00"
         },
         {
          "num_donations": 11,
          "period": "2020-11-29T00:00:00"
         },
         {
          "num_donations": 40,
          "period": "2020-11-30T00:00:00"
         },
         {
          "num_donations": 33,
          "period": "2020-12-01T00:00:00"
         },
         {
          "num_donations": 14,
          "period": "2020-12-02T00:00:00"
         },
         {
          "num_donations": 6,
          "period": "2020-12-05T00:00:00"
         },
         {
          "num_donations": 3,
          "period": "2020-12-04T00:00:00"
         },
         {
          "num_donations": 6,
          "period": "2020-12-07T00:00:00"
         },
         {
          "num_donations": 6,
          "period": "2020-12-08T00:00:00"
         },
         {
          "num_donations": 2,
          "period": "2020-12-06T00:00:00"
         },
         {
          "num_donations": 6,
          "period": "2020-12-10T00:00:00"
         },
         {
          "num_donations": 12,
          "period": "2020-12-09T00:00:00"
         },
         {
          "num_donations": 2,
          "period": "2020-12-12T00:00:00"
         },
         {
          "num_donations": 3,
          "period": "2020-12-11T00:00:00"
         },
         {
          "num_donations": 7,
          "period": "2020-12-14T00:00:00"
         },
         {
          "num_donations": 6,
          "period": "2020-12-13T00:00:00"
         },
         {
          "num_donations": 4,
          "period": "2020-12-21T00:00:00"
         },
         {
          "num_donations": 55,
          "period": "2020-09-20T00:00:00"
         },
         {
          "num_donations": 61,
          "period": "2020-09-21T00:00:00"
         },
         {
          "num_donations": 92,
          "period": "2020-07-26T00:00:00"
         },
         {
          "num_donations": 112,
          "period": "2020-10-02T00:00:00"
         },
         {
          "num_donations": 136,
          "period": "2020-10-03T00:00:00"
         },
         {
          "num_donations": 12,
          "period": "2020-10-18T00:00:00"
         },
         {
          "num_donations": 8,
          "period": "2020-07-20T00:00:00"
         },
         {
          "num_donations": 84,
          "period": "2020-09-22T00:00:00"
         },
         {
          "num_donations": 61,
          "period": "2020-09-23T00:00:00"
         },
         {
          "num_donations": 76,
          "period": "2020-09-24T00:00:00"
         },
         {
          "num_donations": 15,
          "period": "2020-09-25T00:00:00"
         },
         {
          "num_donations": 99,
          "period": "2020-09-27T00:00:00"
         },
         {
          "num_donations": 115,
          "period": "2020-09-28T00:00:00"
         },
         {
          "num_donations": 139,
          "period": "2020-09-29T00:00:00"
         },
         {
          "num_donations": 32,
          "period": "2020-09-30T00:00:00"
         },
         {
          "num_donations": 20,
          "period": "2020-09-26T00:00:00"
         },
         {
          "num_donations": 82,
          "period": "2020-10-01T00:00:00"
         },
         {
          "num_donations": 85,
          "period": "2020-10-04T00:00:00"
         },
         {
          "num_donations": 82,
          "period": "2020-10-06T00:00:00"
         },
         {
          "num_donations": 97,
          "period": "2020-10-11T00:00:00"
         },
         {
          "num_donations": 60,
          "period": "2020-10-12T00:00:00"
         },
         {
          "num_donations": 135,
          "period": "2020-10-14T00:00:00"
         },
         {
          "num_donations": 86,
          "period": "2020-10-15T00:00:00"
         },
         {
          "num_donations": 6,
          "period": "2020-09-19T00:00:00"
         },
         {
          "num_donations": 27,
          "period": "2020-10-05T00:00:00"
         },
         {
          "num_donations": 11,
          "period": "2020-08-08T00:00:00"
         },
         {
          "num_donations": 12,
          "period": "2020-10-16T00:00:00"
         },
         {
          "num_donations": 1,
          "period": "2020-12-15T00:00:00"
         },
         {
          "num_donations": 5,
          "period": "2020-12-17T00:00:00"
         },
         {
          "num_donations": 6,
          "period": "2020-12-18T00:00:00"
         },
         {
          "num_donations": 4,
          "period": "2020-10-17T00:00:00"
         },
         {
          "num_donations": 37,
          "period": "2020-08-29T00:00:00"
         },
         {
          "num_donations": 3,
          "period": "2020-10-13T00:00:00"
         },
         {
          "num_donations": 1,
          "period": "2020-12-16T00:00:00"
         }
        ]
       },
       "encoding": {
        "x": {
         "field": "period",
         "timeUnit": "yearmonthdate",
         "type": "temporal"
        },
        "y": {
         "aggregate": "sum",
         "axis": {
          "title": "donations"
         },
         "field": "num_donations",
         "type": "quantitative"
        }
       },
       "mark": "bar"
      },
      "image/png": "[encoded data removed]",
      "image/svg+xml": [
       "<svg class=\"marks\" width=\"262\" height=\"247\" viewBox=\"0 0 262 247\" version=\"1.1\" xmlns=\"http://www.w3.org/2000/svg\" xmlns:xlink=\"http://www.w3.org/1999/xlink\"><g transform=\"translate(54,10)\"><g class=\"mark-group role-frame root\"><g transform=\"translate(0,0)\"><path class=\"background\" d=\"M0.5,0.5h200v200h-200Z\" style=\"fill: none; stroke: #ddd;\"></path><g><g class=\"mark-group role-axis\"><g transform=\"translate(0.5,200.5)\"><path class=\"background\" d=\"M0,0h0v0h0Z\" style=\"pointer-events: none; fill: none;\"></path><g><g class=\"mark-rule role-axis-grid\" style=\"pointer-events: none;\"><line transform=\"translate(20,-200)\" x2=\"0\" y2=\"200\" style=\"fill: none; stroke: #ddd; stroke-width: 1; opacity: 1;\"></line><line transform=\"translate(58,-200)\" x2=\"0\" y2=\"200\" style=\"fill: none; stroke: #ddd; stroke-width: 1; opacity: 1;\"></line><line transform=\"translate(95,-200)\" x2=\"0\" y2=\"200\" style=\"fill: none; stroke: #ddd; stroke-width: 1; opacity: 1;\"></line><line transform=\"translate(133,-200)\" x2=\"0\" y2=\"200\" style=\"fill: none; stroke: #ddd; stroke-width: 1; opacity: 1;\"></line><line transform=\"translate(170,-200)\" x2=\"0\" y2=\"200\" style=\"fill: none; stroke: #ddd; stroke-width: 1; opacity: 1;\"></line></g></g></g></g><g class=\"mark-group role-axis\"><g transform=\"translate(0.5,0.5)\"><path class=\"background\" d=\"M0,0h0v0h0Z\" style=\"pointer-events: none; fill: none;\"></path><g><g class=\"mark-rule role-axis-grid\" style=\"pointer-events: none;\"><line transform=\"translate(0,200)\" x2=\"200\" y2=\"0\" style=\"fill: none; stroke: #ddd; stroke-width: 1; opacity: 1;\"></line><line transform=\"translate(0,160)\" x2=\"200\" y2=\"0\" style=\"fill: none; stroke: #ddd; stroke-width: 1; opacity: 1;\"></line><line transform=\"translate(0,120)\" x2=\"200\" y2=\"0\" style=\"fill: none; stroke: #ddd; stroke-width: 1; opacity: 1;\"></line><line transform=\"translate(0,80)\" x2=\"200\" y2=\"0\" style=\"fill: none; stroke: #ddd; stroke-width: 1; opacity: 1;\"></line><line transform=\"translate(0,40)\" x2=\"200\" y2=\"0\" style=\"fill: none; stroke: #ddd; stroke-width: 1; opacity: 1;\"></line><line transform=\"translate(0,0)\" x2=\"200\" y2=\"0\" style=\"fill: none; stroke: #ddd; stroke-width: 1; opacity: 1;\"></line></g></g></g></g><g class=\"mark-rect role-mark marks\"><path d=\"M3.7334325231565355,199.2h5v0.8000000000000114h-5Z\" style=\"fill: #4c78a8;\"></path><path d=\"M4.966865035963087,179.8h5v20.19999999999999h-5Z\" style=\"fill: #4c78a8;\"></path><path d=\"M6.200297548769639,170h5v30h-5Z\" style=\"fill: #4c78a8;\"></path><path d=\"M7.433730061576188,183.8h5v16.19999999999999h-5Z\" style=\"fill: #4c78a8;\"></path><path d=\"M8.667162574382742,189.2h5v10.800000000000011h-5Z\" style=\"fill: #4c78a8;\"></path><path d=\"M11.134027599995843,167.6h5v32.400000000000006h-5Z\" style=\"fill: #4c78a8;\"></path><path d=\"M12.367460112802394,146.6h5v53.400000000000006h-5Z\" style=\"fill: #4c78a8;\"></path><path d=\"M13.60089262560895,158.8h5v41.19999999999999h-5Z\" style=\"fill: #4c78a8;\"></path><path d=\"M14.834325138415497,168.4h5v31.599999999999994h-5Z\" style=\"fill: #4c78a8;\"></path><path d=\"M16.06775765122205,188.20000000000002h5v11.799999999999983h-5Z\" style=\"fill: #4c78a8;\"></path><path d=\"M17.3011901640286,191.6h5v8.400000000000006h-5Z\" style=\"fill: #4c78a8;\"></path><path d=\"M18.534622676835152,157.20000000000002h5v42.79999999999998h-5Z\" style=\"fill: #4c78a8;\"></path><path d=\"M19.768055189641707,153.8h5v46.19999999999999h-5Z\" style=\"fill: #4c78a8;\"></path><path d=\"M21.001487702448255,168.4h5v31.599999999999994h-5Z\" style=\"fill: #4c78a8;\"></path><path d=\"M22.234920215254807,153h5v47h-5Z\" style=\"fill: #4c78a8;\"></path><path d=\"M23.46835272806136,158.20000000000002h5v41.79999999999998h-5Z\" style=\"fill: #4c78a8;\"></path><path d=\"M24.70178524086791,188.20000000000002h5v11.799999999999983h-5Z\" style=\"fill: #4c78a8;\"></path><path d=\"M27.168650266481013,171.2h5v28.80000000000001h-5Z\" style=\"fill: #4c78a8;\"></path><path d=\"M28.402082779287564,155.6h5v44.400000000000006h-5Z\" style=\"fill: #4c78a8;\"></path><path d=\"M29.63551529209412,162.8h5v37.19999999999999h-5Z\" style=\"fill: #4c78a8;\"></path><path d=\"M30.868947804900664,174.6h5v25.400000000000006h-5Z\" style=\"fill: #4c78a8;\"></path><path d=\"M32.10238031770722,173.6h5v26.400000000000006h-5Z\" style=\"fill: #4c78a8;\"></path><path d=\"M33.33581283051377,165.79999999999998h5v34.20000000000002h-5Z\" style=\"fill: #4c78a8;\"></path><path d=\"M34.569245343320326,193h5v7h-5Z\" style=\"fill: #4c78a8;\"></path><path d=\"M35.80267785612688,180.20000000000002h5v19.799999999999983h-5Z\" style=\"fill: #4c78a8;\"></path><path d=\"M37.03611036893342,168.6h5v31.400000000000006h-5Z\" style=\"fill: #4c78a8;\"></path><path d=\"M38.26954288173998,127.60000000000001h5v72.39999999999999h-5Z\" style=\"fill: #4c78a8;\"></path><path d=\"M39.502975394546525,144.6h5v55.400000000000006h-5Z\" style=\"fill: #4c78a8;\"></path><path d=\"M40.73640790735308,122.6h5v77.4h-5Z\" style=\"fill: #4c78a8;\"></path><path d=\"M41.969840420159635,158.6h5v41.400000000000006h-5Z\" style=\"fill: #4c78a8;\"></path><path d=\"M43.20327293296618,173h5v27h-5Z\" style=\"fill: #4c78a8;\"></path><path d=\"M44.43670544577274,147.8h5v52.19999999999999h-5Z\" style=\"fill: #4c78a8;\"></path><path d=\"M45.67013795857928,18.999999999999993h5v181h-5Z\" style=\"fill: #4c78a8;\"></path><path d=\"M46.90357047138584,151.2h5v48.80000000000001h-5Z\" style=\"fill: #4c78a8;\"></path><path d=\"M48.13700298419239,165h5v35h-5Z\" style=\"fill: #4c78a8;\"></path><path d=\"M49.370435496998944,173.6h5v26.400000000000006h-5Z\" style=\"fill: #4c78a8;\"></path><path d=\"M50.60386800980549,181.6h5v18.400000000000006h-5Z\" style=\"fill: #4c78a8;\"></path><path d=\"M53.0707330354186,167.2h5v32.80000000000001h-5Z\" style=\"fill: #4c78a8;\"></path><path d=\"M54.30416554822515,162.6h5v37.400000000000006h-5Z\" style=\"fill: #4c78a8;\"></path><path d=\"M55.5375980610317,151.8h5v48.19999999999999h-5Z\" style=\"fill: #4c78a8;\"></path><path d=\"M56.771030573838246,153.6h5v46.400000000000006h-5Z\" style=\"fill: #4c78a8;\"></path><path d=\"M58.0044630866448,179.20000000000002h5v20.799999999999983h-5Z\" style=\"fill: #4c78a8;\"></path><path d=\"M59.237895599451356,191.2h5v8.800000000000011h-5Z\" style=\"fill: #4c78a8;\"></path><path d=\"M60.47132811225791,174h5v26h-5Z\" style=\"fill: #4c78a8;\"></path><path d=\"M61.704760625064466,160.4h5v39.599999999999994h-5Z\" style=\"fill: #4c78a8;\"></path><path d=\"M62.938193137871,164.6h5v35.400000000000006h-5Z\" style=\"fill: #4c78a8;\"></path><path d=\"M64.17162565067756,173.6h5v26.400000000000006h-5Z\" style=\"fill: #4c78a8;\"></path><path d=\"M65.40505816348411,179.4h5v20.599999999999994h-5Z\" style=\"fill: #4c78a8;\"></path><path d=\"M66.63849067629066,181.8h5v18.19999999999999h-5Z\" style=\"fill: #4c78a8;\"></path><path d=\"M67.87192318909722,190.39999999999998h5v9.600000000000023h-5Z\" style=\"fill: #4c78a8;\"></path><path d=\"M69.10535570190376,195.79999999999998h5v4.200000000000017h-5Z\" style=\"fill: #4c78a8;\"></path><path d=\"M70.33878821471032,173h5v27h-5Z\" style=\"fill: #4c78a8;\"></path><path d=\"M71.57222072751686,186.79999999999998h5v13.200000000000017h-5Z\" style=\"fill: #4c78a8;\"></path><path d=\"M72.80565324032342,136.20000000000002h5v63.79999999999998h-5Z\" style=\"fill: #4c78a8;\"></path><path d=\"M74.03908575312998,160h5v40h-5Z\" style=\"fill: #4c78a8;\"></path><path d=\"M75.27251826593653,169h5v31h-5Z\" style=\"fill: #4c78a8;\"></path><path d=\"M76.50595077874307,179.20000000000002h5v20.799999999999983h-5Z\" style=\"fill: #4c78a8;\"></path><path d=\"M99.94116852206756,179.20000000000002h5v20.799999999999983h-5Z\" style=\"fill: #4c78a8;\"></path><path d=\"M101.17460103487412,185.60000000000002h5v14.399999999999977h-5Z\" style=\"fill: #4c78a8;\"></path><path d=\"M102.40803354768066,189.79999999999998h5v10.200000000000017h-5Z\" style=\"fill: #4c78a8;\"></path><path d=\"M103.6414660604872,188h5v12h-5Z\" style=\"fill: #4c78a8;\"></path><path d=\"M115.97579118855272,188.6h5v11.400000000000006h-5Z\" style=\"fill: #4c78a8;\"></path><path d=\"M117.20922370135928,168h5v32h-5Z\" style=\"fill: #4c78a8;\"></path><path d=\"M118.44265621416582,177.8h5v22.19999999999999h-5Z\" style=\"fill: #4c78a8;\"></path><path d=\"M119.67608872697238,194.2h5v5.800000000000011h-5Z\" style=\"fill: #4c78a8;\"></path><path d=\"M120.90952123977893,193.79999999999998h5v6.200000000000017h-5Z\" style=\"fill: #4c78a8;\"></path><path d=\"M122.14295375258547,197h5v3h-5Z\" style=\"fill: #4c78a8;\"></path><path d=\"M123.42777928675898,177h5v23h-5Z\" style=\"fill: #4c78a8;\"></path><path d=\"M124.66121179956552,185.60000000000002h5v14.399999999999977h-5Z\" style=\"fill: #4c78a8;\"></path><path d=\"M125.89464431237207,183.20000000000002h5v16.799999999999983h-5Z\" style=\"fill: #4c78a8;\"></path><path d=\"M127.12807682517862,190h5v10h-5Z\" style=\"fill: #4c78a8;\"></path><path d=\"M128.36150933798518,188h5v12h-5Z\" style=\"fill: #4c78a8;\"></path><path d=\"M129.59494185079174,187.8h5v12.199999999999989h-5Z\" style=\"fill: #4c78a8;\"></path><path d=\"M130.82837436359827,175.2h5v24.80000000000001h-5Z\" style=\"fill: #4c78a8;\"></path><path d=\"M132.06180687640483,168.4h5v31.599999999999994h-5Z\" style=\"fill: #4c78a8;\"></path><path d=\"M133.2952393892114,165.79999999999998h5v34.20000000000002h-5Z\" style=\"fill: #4c78a8;\"></path><path d=\"M134.52867190201792,182.6h5v17.400000000000006h-5Z\" style=\"fill: #4c78a8;\"></path><path d=\"M135.7621044148245,176.4h5v23.599999999999994h-5Z\" style=\"fill: #4c78a8;\"></path><path d=\"M136.99553692763104,187.2h5v12.800000000000011h-5Z\" style=\"fill: #4c78a8;\"></path><path d=\"M138.22896944043757,193.4h5v6.599999999999994h-5Z\" style=\"fill: #4c78a8;\"></path><path d=\"M139.46240195324415,192.4h5v7.599999999999994h-5Z\" style=\"fill: #4c78a8;\"></path><path d=\"M140.69583446605068,179.20000000000002h5v20.799999999999983h-5Z\" style=\"fill: #4c78a8;\"></path><path d=\"M141.92926697885724,172h5v28h-5Z\" style=\"fill: #4c78a8;\"></path><path d=\"M143.1626994916638,180.6h5v19.400000000000006h-5Z\" style=\"fill: #4c78a8;\"></path><path d=\"M144.39613200447033,179.6h5v20.400000000000006h-5Z\" style=\"fill: #4c78a8;\"></path><path d=\"M145.6295645172769,170.79999999999998h5v29.200000000000017h-5Z\" style=\"fill: #4c78a8;\"></path><path d=\"M146.86299703008345,193h5v7h-5Z\" style=\"fill: #4c78a8;\"></path><path d=\"M148.09642954289,195.6h5v4.400000000000006h-5Z\" style=\"fill: #4c78a8;\"></path><path d=\"M149.32986205569654,181.20000000000002h5v18.799999999999983h-5Z\" style=\"fill: #4c78a8;\"></path><path d=\"M150.5632945685031,179.20000000000002h5v20.799999999999983h-5Z\" style=\"fill: #4c78a8;\"></path><path d=\"M151.79672708130965,174h5v26h-5Z\" style=\"fill: #4c78a8;\"></path><path d=\"M153.0301595941162,156.6h5v43.400000000000006h-5Z\" style=\"fill: #4c78a8;\"></path><path d=\"M154.26359210692277,179.4h5v20.599999999999994h-5Z\" style=\"fill: #4c78a8;\"></path><path d=\"M155.4970246197293,197.6h5v2.4000000000000057h-5Z\" style=\"fill: #4c78a8;\"></path><path d=\"M156.73045713253586,199.8h5v0.19999999999998863h-5Z\" style=\"fill: #4c78a8;\"></path><path d=\"M157.96388964534242,193h5v7h-5Z\" style=\"fill: #4c78a8;\"></path><path d=\"M159.19732215814895,191.4h5v8.599999999999994h-5Z\" style=\"fill: #4c78a8;\"></path><path d=\"M160.43075467095554,197.4h5v2.5999999999999943h-5Z\" style=\"fill: #4c78a8;\"></path><path d=\"M161.66418718376207,198.2h5v1.8000000000000114h-5Z\" style=\"fill: #4c78a8;\"></path><path d=\"M162.8976196965686,197.8h5v2.1999999999999886h-5Z\" style=\"fill: #4c78a8;\"></path><path d=\"M164.13105220937518,197.4h5v2.5999999999999943h-5Z\" style=\"fill: #4c78a8;\"></path><path d=\"M165.36448472218171,197.8h5v2.1999999999999886h-5Z\" style=\"fill: #4c78a8;\"></path><path d=\"M166.59791723498827,192h5v8h-5Z\" style=\"fill: #4c78a8;\"></path><path d=\"M167.83134974779483,193.4h5v6.599999999999994h-5Z\" style=\"fill: #4c78a8;\"></path><path d=\"M169.06478226060136,197.2h5v2.8000000000000114h-5Z\" style=\"fill: #4c78a8;\"></path><path d=\"M172.76507979902104,198.8h5v1.1999999999999886h-5Z\" style=\"fill: #4c78a8;\"></path><path d=\"M171.53164728621448,199.4h5v0.5999999999999943h-5Z\" style=\"fill: #4c78a8;\"></path><path d=\"M175.23194482463413,198.8h5v1.1999999999999886h-5Z\" style=\"fill: #4c78a8;\"></path><path d=\"M176.46537733744069,198.8h5v1.1999999999999886h-5Z\" style=\"fill: #4c78a8;\"></path><path d=\"M173.9985123118276,199.6h5v0.4000000000000057h-5Z\" style=\"fill: #4c78a8;\"></path><path d=\"M178.9322423630538,198.8h5v1.1999999999999886h-5Z\" style=\"fill: #4c78a8;\"></path><path d=\"M177.69880985024724,197.6h5v2.4000000000000057h-5Z\" style=\"fill: #4c78a8;\"></path><path d=\"M181.3991073886669,199.6h5v0.4000000000000057h-5Z\" style=\"fill: #4c78a8;\"></path><path d=\"M180.16567487586033,199.4h5v0.5999999999999943h-5Z\" style=\"fill: #4c78a8;\"></path><path d=\"M183.86597241427998,198.6h5v1.4000000000000057h-5Z\" style=\"fill: #4c78a8;\"></path><path d=\"M182.63253990147345,198.8h5v1.1999999999999886h-5Z\" style=\"fill: #4c78a8;\"></path><path d=\"M192.50000000392586,199.2h5v0.8000000000000114h-5Z\" style=\"fill: #4c78a8;\"></path><path d=\"M78.97281580435617,189h5v11h-5Z\" style=\"fill: #4c78a8;\"></path><path d=\"M80.20624831716273,187.8h5v12.199999999999989h-5Z\" style=\"fill: #4c78a8;\"></path><path d=\"M9.900595087189291,181.6h5v18.400000000000006h-5Z\" style=\"fill: #4c78a8;\"></path><path d=\"M93.77400595803479,177.6h5v22.400000000000006h-5Z\" style=\"fill: #4c78a8;\"></path><path d=\"M95.00743847084135,172.8h5v27.19999999999999h-5Z\" style=\"fill: #4c78a8;\"></path><path d=\"M113.50892616293963,197.6h5v2.4000000000000057h-5Z\" style=\"fill: #4c78a8;\"></path><path d=\"M2.500000010349984,198.4h5v1.5999999999999943h-5Z\" style=\"fill: #4c78a8;\"></path><path d=\"M81.43968082996928,183.20000000000002h5v16.799999999999983h-5Z\" style=\"fill: #4c78a8;\"></path><path d=\"M82.67311334277584,187.8h5v12.199999999999989h-5Z\" style=\"fill: #4c78a8;\"></path><path d=\"M83.90654585558238,184.8h5v15.199999999999989h-5Z\" style=\"fill: #4c78a8;\"></path><path d=\"M85.13997836838894,197h5v3h-5Z\" style=\"fill: #4c78a8;\"></path><path d=\"M87.60684339400203,180.20000000000002h5v19.799999999999983h-5Z\" style=\"fill: #4c78a8;\"></path><path d=\"M88.84027590680859,177h5v23h-5Z\" style=\"fill: #4c78a8;\"></path><path d=\"M90.07370841961514,172.2h5v27.80000000000001h-5Z\" style=\"fill: #4c78a8;\"></path><path d=\"M91.30714093242169,193.6h5v6.400000000000006h-5Z\" style=\"fill: #4c78a8;\"></path><path d=\"M86.3734108811955,196h5v4h-5Z\" style=\"fill: #4c78a8;\"></path><path d=\"M92.54057344522825,183.6h5v16.400000000000006h-5Z\" style=\"fill: #4c78a8;\"></path><path d=\"M96.2408709836479,183h5v17h-5Z\" style=\"fill: #4c78a8;\"></path><path d=\"M98.70773600926101,183.6h5v16.400000000000006h-5Z\" style=\"fill: #4c78a8;\"></path><path d=\"M104.87489857329376,180.6h5v19.400000000000006h-5Z\" style=\"fill: #4c78a8;\"></path><path d=\"M106.1083310861003,188h5v12h-5Z\" style=\"fill: #4c78a8;\"></path><path d=\"M108.57519611171341,173h5v27h-5Z\" style=\"fill: #4c78a8;\"></path><path d=\"M109.80862862451995,182.8h5v17.19999999999999h-5Z\" style=\"fill: #4c78a8;\"></path><path d=\"M77.73938329154963,198.8h5v1.1999999999999886h-5Z\" style=\"fill: #4c78a8;\"></path><path d=\"M97.47430349645445,194.6h5v5.400000000000006h-5Z\" style=\"fill: #4c78a8;\"></path><path d=\"M25.935217753674465,197.8h5v2.1999999999999886h-5Z\" style=\"fill: #4c78a8;\"></path><path d=\"M111.04206113732653,197.6h5v2.4000000000000057h-5Z\" style=\"fill: #4c78a8;\"></path><path d=\"M185.09940492708657,199.8h5v0.19999999999998863h-5Z\" style=\"fill: #4c78a8;\"></path><path d=\"M187.56626995269963,199h5v1h-5Z\" style=\"fill: #4c78a8;\"></path><path d=\"M188.79970246550621,198.8h5v1.1999999999999886h-5Z\" style=\"fill: #4c78a8;\"></path><path d=\"M112.27549365013306,199.2h5v0.8000000000000114h-5Z\" style=\"fill: #4c78a8;\"></path><path d=\"M51.83730052261204,192.6h5v7.400000000000006h-5Z\" style=\"fill: #4c78a8;\"></path><path d=\"M107.34176359890687,199.4h5v0.5999999999999943h-5Z\" style=\"fill: #4c78a8;\"></path><path d=\"M186.3328374398931,199.8h5v0.19999999999998863h-5Z\" style=\"fill: #4c78a8;\"></path></g><g class=\"mark-group role-axis\"><g transform=\"translate(0.5,200.5)\"><path class=\"background\" d=\"M0,0h0v0h0Z\" style=\"pointer-events: none; fill: none;\"></path><g><g class=\"mark-rule role-axis-tick\" style=\"pointer-events: none;\"><line transform=\"translate(20,0)\" x2=\"0\" y2=\"5\" style=\"fill: none; stroke: #888; stroke-width: 1; opacity: 1;\"></line><line transform=\"translate(58,0)\" x2=\"0\" y2=\"5\" style=\"fill: none; stroke: #888; stroke-width: 1; opacity: 1;\"></line><line transform=\"translate(95,0)\" x2=\"0\" y2=\"5\" style=\"fill: none; stroke: #888; stroke-width: 1; opacity: 1;\"></line><line transform=\"translate(133,0)\" x2=\"0\" y2=\"5\" style=\"fill: none; stroke: #888; stroke-width: 1; opacity: 1;\"></line><line transform=\"translate(170,0)\" x2=\"0\" y2=\"5\" style=\"fill: none; stroke: #888; stroke-width: 1; opacity: 1;\"></line></g><g class=\"mark-text role-axis-label\" style=\"pointer-events: none;\"><text text-anchor=\"middle\" transform=\"translate(19.8011901640286,15)\" style=\"font-family: sans-serif; font-size: 10px; fill: #000; opacity: 1;\">Aug 01, 2020</text><text text-anchor=\"middle\" transform=\"translate(58.0375980610317,15)\" style=\"font-family: sans-serif; font-size: 10px; fill: #000; opacity: 0;\">Sep 01, 2020</text><text text-anchor=\"middle\" transform=\"translate(95.04057344522825,15)\" style=\"font-family: sans-serif; font-size: 10px; fill: #000; opacity: 1;\">Oct 01, 2020</text><text text-anchor=\"middle\" transform=\"translate(133.32837436359827,15)\" style=\"font-family: sans-serif; font-size: 10px; fill: #000; opacity: 0;\">Nov 01, 2020</text><text text-anchor=\"middle\" transform=\"translate(170.33134974779483,15)\" style=\"font-family: sans-serif; font-size: 10px; fill: #000; opacity: 1;\">Dec 01, 2020</text></g><g class=\"mark-rule role-axis-domain\" style=\"pointer-events: none;\"><line transform=\"translate(0,0)\" x2=\"200\" y2=\"0\" style=\"fill: none; stroke: #888; stroke-width: 1; opacity: 1;\"></line></g><g class=\"mark-text role-axis-title\" style=\"pointer-events: none;\"><text text-anchor=\"middle\" transform=\"translate(100,30)\" style=\"font-family: sans-serif; font-size: 11px; font-weight: bold; fill: #000; opacity: 1;\">period (year-month-date)</text></g></g></g></g><g class=\"mark-group role-axis\"><g transform=\"translate(0.5,0.5)\"><path class=\"background\" d=\"M0,0h0v0h0Z\" style=\"pointer-events: none; fill: none;\"></path><g><g class=\"mark-rule role-axis-tick\" style=\"pointer-events: none;\"><line transform=\"translate(0,200)\" x2=\"-5\" y2=\"0\" style=\"fill: none; stroke: #888; stroke-width: 1; opacity: 1;\"></line><line transform=\"translate(0,160)\" x2=\"-5\" y2=\"0\" style=\"fill: none; stroke: #888; stroke-width: 1; opacity: 1;\"></line><line transform=\"translate(0,120)\" x2=\"-5\" y2=\"0\" style=\"fill: none; stroke: #888; stroke-width: 1; opacity: 1;\"></line><line transform=\"translate(0,80)\" x2=\"-5\" y2=\"0\" style=\"fill: none; stroke: #888; stroke-width: 1; opacity: 1;\"></line><line transform=\"translate(0,40)\" x2=\"-5\" y2=\"0\" style=\"fill: none; stroke: #888; stroke-width: 1; opacity: 1;\"></line><line transform=\"translate(0,0)\" x2=\"-5\" y2=\"0\" style=\"fill: none; stroke: #888; stroke-width: 1; opacity: 1;\"></line></g><g class=\"mark-text role-axis-label\" style=\"pointer-events: none;\"><text text-anchor=\"end\" transform=\"translate(-7,203)\" style=\"font-family: sans-serif; font-size: 10px; fill: #000; opacity: 1;\">0</text><text text-anchor=\"end\" transform=\"translate(-7,163)\" style=\"font-family: sans-serif; font-size: 10px; fill: #000; opacity: 1;\">200</text><text text-anchor=\"end\" transform=\"translate(-7,123)\" style=\"font-family: sans-serif; font-size: 10px; fill: #000; opacity: 1;\">400</text><text text-anchor=\"end\" transform=\"translate(-7,83)\" style=\"font-family: sans-serif; font-size: 10px; fill: #000; opacity: 1;\">600</text><text text-anchor=\"end\" transform=\"translate(-7,42.99999999999999)\" style=\"font-family: sans-serif; font-size: 10px; fill: #000; opacity: 1;\">800</text><text text-anchor=\"end\" transform=\"translate(-7,3)\" style=\"font-family: sans-serif; font-size: 10px; fill: #000; opacity: 1;\">1,000</text></g><g class=\"mark-rule role-axis-domain\" style=\"pointer-events: none;\"><line transform=\"translate(0,200)\" x2=\"0\" y2=\"-200\" style=\"fill: none; stroke: #888; stroke-width: 1; opacity: 1;\"></line></g><g class=\"mark-text role-axis-title\" style=\"pointer-events: none;\"><text text-anchor=\"middle\" transform=\"translate(-38,100) rotate(-90) translate(0,-2)\" style=\"font-family: sans-serif; font-size: 11px; font-weight: bold; fill: #000; opacity: 1;\">donations</text></g></g></g></g></g></g></g></g></svg>"
      ],
      "text/plain": [
       "VegaLite.VLSpec{:plot}"
      ]
     },
     "execution_count": 13,
     "metadata": {},
     "output_type": "execute_result"
    }
   ],
   "source": [
    "period_donations = combine(\n",
    "    groupby(transform(donations, :post_created => ByRow(t -> round(t, Dates.Day)) => :period), :period),\n",
    "    nrow => :num_donations)\n",
    "\n",
    "period_donations |> @vlplot(:bar, \n",
    "    x={\"period:t\", timeUnit=\"yearmonthdate\"}, \n",
    "    y={\"sum(num_donations)\", axis={title=\"donations\"}},\n",
    ")"
   ]
  },
  {
   "cell_type": "code",
   "execution_count": 14,
   "metadata": {},
   "outputs": [],
   "source": [
    "df = innerjoin(select(donations, Not(:post_created)), posts, on=:post_id);"
   ]
  },
  {
   "cell_type": "markdown",
   "metadata": {},
   "source": [
    "## RQ1: What posts are overrepresented in the encounters?\n",
    "\n",
    "To answer this question, we need to describe what posts are overrepresented in general. This might be due to popularity of the post, or due to biases in Instagram’s recommendations. We are interested in topics, derived from words in the caption and from Google Vision API labels for the post’s images."
   ]
  },
  {
   "cell_type": "code",
   "execution_count": 15,
   "metadata": {},
   "outputs": [
    {
     "data": {
      "application/vnd.vegalite.v3+json": {
       "data": {
        "values": [
         {
          "cap_top_cat": "topic 4",
          "donations": 1950,
          "encounter": 0
         },
         {
          "cap_top_cat": "topic 1",
          "donations": 3466,
          "encounter": 0
         },
         {
          "cap_top_cat": "topic 3",
          "donations": 1599,
          "encounter": 0
         },
         {
          "cap_top_cat": "topic 5",
          "donations": 402,
          "encounter": 0
         },
         {
          "cap_top_cat": "topic 2",
          "donations": 1886,
          "encounter": 0
         },
         {
          "cap_top_cat": "topic 4",
          "donations": 511,
          "encounter": 1
         },
         {
          "cap_top_cat": "topic 2",
          "donations": 55,
          "encounter": 1
         },
         {
          "cap_top_cat": "topic 1",
          "donations": 104,
          "encounter": 1
         },
         {
          "cap_top_cat": "topic 5",
          "donations": 39,
          "encounter": 1
         },
         {
          "cap_top_cat": "topic 3",
          "donations": 150,
          "encounter": 1
         }
        ]
       },
       "encoding": {
        "color": {
         "field": "encounter",
         "type": "ordinal"
        },
        "column": {
         "field": "cap_top_cat",
         "type": "ordinal"
        },
        "x": {
         "field": "encounter",
         "type": "ordinal"
        },
        "y": {
         "field": "donations",
         "type": "quantitative"
        }
       },
       "mark": "bar"
      },
      "image/png": "[encoded data removed]",
      "image/svg+xml": [
       "<svg class=\"marks\" width=\"441\" height=\"291\" viewBox=\"0 0 441 291\" version=\"1.1\" xmlns=\"http://www.w3.org/2000/svg\" xmlns:xlink=\"http://www.w3.org/1999/xlink\"><g transform=\"translate(55,57)\"><g class=\"mark-group role-frame root\"><g transform=\"translate(0,0)\"><path class=\"background\" d=\"M0,0h0v0h0Z\" style=\"fill: none;\"></path><g><g class=\"mark-group role-column-title column-title\"><g transform=\"translate(144,-31)\"><path class=\"background\" d=\"M0,0h0v0h0Z\" style=\"fill: none;\"></path><g><g class=\"mark-group role-title\"><g transform=\"translate(0,-21)\"><path class=\"background\" d=\"M0,0h0v0h0Z\" style=\"pointer-events: none; fill: none;\"></path><g><g class=\"mark-text role-title-text\" style=\"pointer-events: none;\"><text text-anchor=\"middle\" transform=\"translate(0,9)\" style=\"font-family: sans-serif; font-size: 11px; font-weight: bold; fill: #000; opacity: 1;\">cap_top_cat</text></g></g></g></g></g></g></g><g class=\"mark-group role-row-header row_header\"><g transform=\"translate(-1,0)\"><path class=\"background\" d=\"M0,0h0v200h0Z\" style=\"fill: none;\"></path><g><g class=\"mark-group role-axis\"><g transform=\"translate(0.5,0.5)\"><path class=\"background\" d=\"M0,0h0v0h0Z\" style=\"pointer-events: none; fill: none;\"></path><g><g class=\"mark-rule role-axis-tick\" style=\"pointer-events: none;\"><line transform=\"translate(0,200)\" x2=\"-5\" y2=\"0\" style=\"fill: none; stroke: #888; stroke-width: 1; opacity: 1;\"></line><line transform=\"translate(0,171)\" x2=\"-5\" y2=\"0\" style=\"fill: none; stroke: #888; stroke-width: 1; opacity: 1;\"></line><line transform=\"translate(0,143)\" x2=\"-5\" y2=\"0\" style=\"fill: none; stroke: #888; stroke-width: 1; opacity: 1;\"></line><line transform=\"translate(0,114)\" x2=\"-5\" y2=\"0\" style=\"fill: none; stroke: #888; stroke-width: 1; opacity: 1;\"></line><line transform=\"translate(0,86)\" x2=\"-5\" y2=\"0\" style=\"fill: none; stroke: #888; stroke-width: 1; opacity: 1;\"></line><line transform=\"translate(0,57)\" x2=\"-5\" y2=\"0\" style=\"fill: none; stroke: #888; stroke-width: 1; opacity: 1;\"></line><line transform=\"translate(0,29)\" x2=\"-5\" y2=\"0\" style=\"fill: none; stroke: #888; stroke-width: 1; opacity: 1;\"></line><line transform=\"translate(0,0)\" x2=\"-5\" y2=\"0\" style=\"fill: none; stroke: #888; stroke-width: 1; opacity: 1;\"></line></g><g class=\"mark-text role-axis-label\" style=\"pointer-events: none;\"><text text-anchor=\"end\" transform=\"translate(-7,203)\" style=\"font-family: sans-serif; font-size: 10px; fill: #000; opacity: 1;\">0</text><text text-anchor=\"end\" transform=\"translate(-7,174.42857142857144)\" style=\"font-family: sans-serif; font-size: 10px; fill: #000; opacity: 1;\">500</text><text text-anchor=\"end\" transform=\"translate(-7,145.85714285714286)\" style=\"font-family: sans-serif; font-size: 10px; fill: #000; opacity: 1;\">1,000</text><text text-anchor=\"end\" transform=\"translate(-7,117.28571428571428)\" style=\"font-family: sans-serif; font-size: 10px; fill: #000; opacity: 1;\">1,500</text><text text-anchor=\"end\" transform=\"translate(-7,88.71428571428572)\" style=\"font-family: sans-serif; font-size: 10px; fill: #000; opacity: 1;\">2,000</text><text text-anchor=\"end\" transform=\"translate(-7,60.14285714285714)\" style=\"font-family: sans-serif; font-size: 10px; fill: #000; opacity: 1;\">2,500</text><text text-anchor=\"end\" transform=\"translate(-7,31.57142857142858)\" style=\"font-family: sans-serif; font-size: 10px; fill: #000; opacity: 1;\">3,000</text><text text-anchor=\"end\" transform=\"translate(-7,3)\" style=\"font-family: sans-serif; font-size: 10px; fill: #000; opacity: 1;\">3,500</text></g><g class=\"mark-rule role-axis-domain\" style=\"pointer-events: none;\"><line transform=\"translate(0,200)\" x2=\"0\" y2=\"-200\" style=\"fill: none; stroke: #888; stroke-width: 1; opacity: 1;\"></line></g><g class=\"mark-text role-axis-title\" style=\"pointer-events: none;\"><text text-anchor=\"middle\" transform=\"translate(-38,100) rotate(-90) translate(0,-2)\" style=\"font-family: sans-serif; font-size: 11px; font-weight: bold; fill: #000; opacity: 1;\">donations</text></g></g></g></g></g></g></g><g class=\"mark-group role-column-header column_header\"><g transform=\"translate(0,-1)\"><path class=\"background\" d=\"M0,0h40v0h-40Z\" style=\"fill: none;\"></path><g><g class=\"mark-group role-title\"><g transform=\"translate(20,-20)\"><path class=\"background\" d=\"M0,0h0v0h0Z\" style=\"pointer-events: none; fill: none;\"></path><g><g class=\"mark-text role-title-text\" style=\"pointer-events: none;\"><text text-anchor=\"middle\" transform=\"translate(0,8)\" style=\"font-family: sans-serif; font-size: 10px; fill: #000; opacity: 1;\">topic 1</text></g></g></g></g></g></g><g transform=\"translate(62,-1)\"><path class=\"background\" d=\"M0,0h40v0h-40Z\" style=\"fill: none;\"></path><g><g class=\"mark-group role-title\"><g transform=\"translate(20,-20)\"><path class=\"background\" d=\"M0,0h0v0h0Z\" style=\"pointer-events: none; fill: none;\"></path><g><g class=\"mark-text role-title-text\" style=\"pointer-events: none;\"><text text-anchor=\"middle\" transform=\"translate(0,8)\" style=\"font-family: sans-serif; font-size: 10px; fill: #000; opacity: 1;\">topic 2</text></g></g></g></g></g></g><g transform=\"translate(124,-1)\"><path class=\"background\" d=\"M0,0h40v0h-40Z\" style=\"fill: none;\"></path><g><g class=\"mark-group role-title\"><g transform=\"translate(20,-20)\"><path class=\"background\" d=\"M0,0h0v0h0Z\" style=\"pointer-events: none; fill: none;\"></path><g><g class=\"mark-text role-title-text\" style=\"pointer-events: none;\"><text text-anchor=\"middle\" transform=\"translate(0,8)\" style=\"font-family: sans-serif; font-size: 10px; fill: #000; opacity: 1;\">topic 3</text></g></g></g></g></g></g><g transform=\"translate(186,-1)\"><path class=\"background\" d=\"M0,0h40v0h-40Z\" style=\"fill: none;\"></path><g><g class=\"mark-group role-title\"><g transform=\"translate(20,-20)\"><path class=\"background\" d=\"M0,0h0v0h0Z\" style=\"pointer-events: none; fill: none;\"></path><g><g class=\"mark-text role-title-text\" style=\"pointer-events: none;\"><text text-anchor=\"middle\" transform=\"translate(0,8)\" style=\"font-family: sans-serif; font-size: 10px; fill: #000; opacity: 1;\">topic 4</text></g></g></g></g></g></g><g transform=\"translate(248,-1)\"><path class=\"background\" d=\"M0,0h40v0h-40Z\" style=\"fill: none;\"></path><g><g class=\"mark-group role-title\"><g transform=\"translate(20,-20)\"><path class=\"background\" d=\"M0,0h0v0h0Z\" style=\"pointer-events: none; fill: none;\"></path><g><g class=\"mark-text role-title-text\" style=\"pointer-events: none;\"><text text-anchor=\"middle\" transform=\"translate(0,8)\" style=\"font-family: sans-serif; font-size: 10px; fill: #000; opacity: 1;\">topic 5</text></g></g></g></g></g></g></g><g class=\"mark-group role-column-footer column_footer\"><g transform=\"translate(0,201)\"><path class=\"background\" d=\"M0,0h40v0h-40Z\" style=\"fill: none;\"></path><g><g class=\"mark-group role-axis\"><g transform=\"translate(0.5,0.5)\"><path class=\"background\" d=\"M0,0h0v0h0Z\" style=\"pointer-events: none; fill: none;\"></path><g><g class=\"mark-rule role-axis-tick\" style=\"pointer-events: none;\"><line transform=\"translate(10,0)\" x2=\"0\" y2=\"5\" style=\"fill: none; stroke: #888; stroke-width: 1; opacity: 1;\"></line><line transform=\"translate(30,0)\" x2=\"0\" y2=\"5\" style=\"fill: none; stroke: #888; stroke-width: 1; opacity: 1;\"></line></g><g class=\"mark-text role-axis-label\" style=\"pointer-events: none;\"><text text-anchor=\"end\" transform=\"translate(9.5,7) rotate(270) translate(0,3)\" style=\"font-family: sans-serif; font-size: 10px; fill: #000; opacity: 1;\">0</text><text text-anchor=\"end\" transform=\"translate(29.5,7) rotate(270) translate(0,3)\" style=\"font-family: sans-serif; font-size: 10px; fill: #000; opacity: 1;\">1</text></g><g class=\"mark-rule role-axis-domain\" style=\"pointer-events: none;\"><line transform=\"translate(0,0)\" x2=\"40\" y2=\"0\" style=\"fill: none; stroke: #888; stroke-width: 1; opacity: 1;\"></line></g><g class=\"mark-text role-axis-title\" style=\"pointer-events: none;\"><text text-anchor=\"middle\" transform=\"translate(20,26)\" style=\"font-family: sans-serif; font-size: 11px; font-weight: bold; fill: #000; opacity: 1;\">encounter</text></g></g></g></g></g></g><g transform=\"translate(62,201)\"><path class=\"background\" d=\"M0,0h40v0h-40Z\" style=\"fill: none;\"></path><g><g class=\"mark-group role-axis\"><g transform=\"translate(0.5,0.5)\"><path class=\"background\" d=\"M0,0h0v0h0Z\" style=\"pointer-events: none; fill: none;\"></path><g><g class=\"mark-rule role-axis-tick\" style=\"pointer-events: none;\"><line transform=\"translate(10,0)\" x2=\"0\" y2=\"5\" style=\"fill: none; stroke: #888; stroke-width: 1; opacity: 1;\"></line><line transform=\"translate(30,0)\" x2=\"0\" y2=\"5\" style=\"fill: none; stroke: #888; stroke-width: 1; opacity: 1;\"></line></g><g class=\"mark-text role-axis-label\" style=\"pointer-events: none;\"><text text-anchor=\"end\" transform=\"translate(9.5,7) rotate(270) translate(0,3)\" style=\"font-family: sans-serif; font-size: 10px; fill: #000; opacity: 1;\">0</text><text text-anchor=\"end\" transform=\"translate(29.5,7) rotate(270) translate(0,3)\" style=\"font-family: sans-serif; font-size: 10px; fill: #000; opacity: 1;\">1</text></g><g class=\"mark-rule role-axis-domain\" style=\"pointer-events: none;\"><line transform=\"translate(0,0)\" x2=\"40\" y2=\"0\" style=\"fill: none; stroke: #888; stroke-width: 1; opacity: 1;\"></line></g><g class=\"mark-text role-axis-title\" style=\"pointer-events: none;\"><text text-anchor=\"middle\" transform=\"translate(20,26)\" style=\"font-family: sans-serif; font-size: 11px; font-weight: bold; fill: #000; opacity: 1;\">encounter</text></g></g></g></g></g></g><g transform=\"translate(124,201)\"><path class=\"background\" d=\"M0,0h40v0h-40Z\" style=\"fill: none;\"></path><g><g class=\"mark-group role-axis\"><g transform=\"translate(0.5,0.5)\"><path class=\"background\" d=\"M0,0h0v0h0Z\" style=\"pointer-events: none; fill: none;\"></path><g><g class=\"mark-rule role-axis-tick\" style=\"pointer-events: none;\"><line transform=\"translate(10,0)\" x2=\"0\" y2=\"5\" style=\"fill: none; stroke: #888; stroke-width: 1; opacity: 1;\"></line><line transform=\"translate(30,0)\" x2=\"0\" y2=\"5\" style=\"fill: none; stroke: #888; stroke-width: 1; opacity: 1;\"></line></g><g class=\"mark-text role-axis-label\" style=\"pointer-events: none;\"><text text-anchor=\"end\" transform=\"translate(9.5,7) rotate(270) translate(0,3)\" style=\"font-family: sans-serif; font-size: 10px; fill: #000; opacity: 1;\">0</text><text text-anchor=\"end\" transform=\"translate(29.5,7) rotate(270) translate(0,3)\" style=\"font-family: sans-serif; font-size: 10px; fill: #000; opacity: 1;\">1</text></g><g class=\"mark-rule role-axis-domain\" style=\"pointer-events: none;\"><line transform=\"translate(0,0)\" x2=\"40\" y2=\"0\" style=\"fill: none; stroke: #888; stroke-width: 1; opacity: 1;\"></line></g><g class=\"mark-text role-axis-title\" style=\"pointer-events: none;\"><text text-anchor=\"middle\" transform=\"translate(20,26)\" style=\"font-family: sans-serif; font-size: 11px; font-weight: bold; fill: #000; opacity: 1;\">encounter</text></g></g></g></g></g></g><g transform=\"translate(186,201)\"><path class=\"background\" d=\"M0,0h40v0h-40Z\" style=\"fill: none;\"></path><g><g class=\"mark-group role-axis\"><g transform=\"translate(0.5,0.5)\"><path class=\"background\" d=\"M0,0h0v0h0Z\" style=\"pointer-events: none; fill: none;\"></path><g><g class=\"mark-rule role-axis-tick\" style=\"pointer-events: none;\"><line transform=\"translate(10,0)\" x2=\"0\" y2=\"5\" style=\"fill: none; stroke: #888; stroke-width: 1; opacity: 1;\"></line><line transform=\"translate(30,0)\" x2=\"0\" y2=\"5\" style=\"fill: none; stroke: #888; stroke-width: 1; opacity: 1;\"></line></g><g class=\"mark-text role-axis-label\" style=\"pointer-events: none;\"><text text-anchor=\"end\" transform=\"translate(9.5,7) rotate(270) translate(0,3)\" style=\"font-family: sans-serif; font-size: 10px; fill: #000; opacity: 1;\">0</text><text text-anchor=\"end\" transform=\"translate(29.5,7) rotate(270) translate(0,3)\" style=\"font-family: sans-serif; font-size: 10px; fill: #000; opacity: 1;\">1</text></g><g class=\"mark-rule role-axis-domain\" style=\"pointer-events: none;\"><line transform=\"translate(0,0)\" x2=\"40\" y2=\"0\" style=\"fill: none; stroke: #888; stroke-width: 1; opacity: 1;\"></line></g><g class=\"mark-text role-axis-title\" style=\"pointer-events: none;\"><text text-anchor=\"middle\" transform=\"translate(20,26)\" style=\"font-family: sans-serif; font-size: 11px; font-weight: bold; fill: #000; opacity: 1;\">encounter</text></g></g></g></g></g></g><g transform=\"translate(248,201)\"><path class=\"background\" d=\"M0,0h40v0h-40Z\" style=\"fill: none;\"></path><g><g class=\"mark-group role-axis\"><g transform=\"translate(0.5,0.5)\"><path class=\"background\" d=\"M0,0h0v0h0Z\" style=\"pointer-events: none; fill: none;\"></path><g><g class=\"mark-rule role-axis-tick\" style=\"pointer-events: none;\"><line transform=\"translate(10,0)\" x2=\"0\" y2=\"5\" style=\"fill: none; stroke: #888; stroke-width: 1; opacity: 1;\"></line><line transform=\"translate(30,0)\" x2=\"0\" y2=\"5\" style=\"fill: none; stroke: #888; stroke-width: 1; opacity: 1;\"></line></g><g class=\"mark-text role-axis-label\" style=\"pointer-events: none;\"><text text-anchor=\"end\" transform=\"translate(9.5,7) rotate(270) translate(0,3)\" style=\"font-family: sans-serif; font-size: 10px; fill: #000; opacity: 1;\">0</text><text text-anchor=\"end\" transform=\"translate(29.5,7) rotate(270) translate(0,3)\" style=\"font-family: sans-serif; font-size: 10px; fill: #000; opacity: 1;\">1</text></g><g class=\"mark-rule role-axis-domain\" style=\"pointer-events: none;\"><line transform=\"translate(0,0)\" x2=\"40\" y2=\"0\" style=\"fill: none; stroke: #888; stroke-width: 1; opacity: 1;\"></line></g><g class=\"mark-text role-axis-title\" style=\"pointer-events: none;\"><text text-anchor=\"middle\" transform=\"translate(20,26)\" style=\"font-family: sans-serif; font-size: 11px; font-weight: bold; fill: #000; opacity: 1;\">encounter</text></g></g></g></g></g></g></g><g class=\"mark-group role-scope cell\"><g transform=\"translate(0,0)\"><path class=\"background\" d=\"M0.5,0.5h40v200h-40Z\" style=\"fill: none; stroke: #ddd;\"></path><g><g class=\"mark-group role-axis\"><g transform=\"translate(0.5,0.5)\"><path class=\"background\" d=\"M0,0h0v0h0Z\" style=\"pointer-events: none; fill: none;\"></path><g><g class=\"mark-rule role-axis-grid\" style=\"pointer-events: none;\"><line transform=\"translate(0,200)\" x2=\"40\" y2=\"0\" style=\"fill: none; stroke: #ddd; stroke-width: 1; opacity: 1;\"></line><line transform=\"translate(0,171)\" x2=\"40\" y2=\"0\" style=\"fill: none; stroke: #ddd; stroke-width: 1; opacity: 1;\"></line><line transform=\"translate(0,143)\" x2=\"40\" y2=\"0\" style=\"fill: none; stroke: #ddd; stroke-width: 1; opacity: 1;\"></line><line transform=\"translate(0,114)\" x2=\"40\" y2=\"0\" style=\"fill: none; stroke: #ddd; stroke-width: 1; opacity: 1;\"></line><line transform=\"translate(0,86)\" x2=\"40\" y2=\"0\" style=\"fill: none; stroke: #ddd; stroke-width: 1; opacity: 1;\"></line><line transform=\"translate(0,57)\" x2=\"40\" y2=\"0\" style=\"fill: none; stroke: #ddd; stroke-width: 1; opacity: 1;\"></line><line transform=\"translate(0,29)\" x2=\"40\" y2=\"0\" style=\"fill: none; stroke: #ddd; stroke-width: 1; opacity: 1;\"></line><line transform=\"translate(0,0)\" x2=\"40\" y2=\"0\" style=\"fill: none; stroke: #ddd; stroke-width: 1; opacity: 1;\"></line></g></g></g></g><g class=\"mark-rect role-mark child_marks\"><path d=\"M1,1.942857142857135h18v198.05714285714288h-18Z\" style=\"fill: rgb(134, 188, 220);\"></path><path d=\"M21,194.05714285714285h18v5.94285714285715h-18Z\" style=\"fill: rgb(56, 135, 192);\"></path></g></g></g><g transform=\"translate(62,0)\"><path class=\"background\" d=\"M0.5,0.5h40v200h-40Z\" style=\"fill: none; stroke: #ddd;\"></path><g><g class=\"mark-group role-axis\"><g transform=\"translate(0.5,0.5)\"><path class=\"background\" d=\"M0,0h0v0h0Z\" style=\"pointer-events: none; fill: none;\"></path><g><g class=\"mark-rule role-axis-grid\" style=\"pointer-events: none;\"><line transform=\"translate(0,200)\" x2=\"40\" y2=\"0\" style=\"fill: none; stroke: #ddd; stroke-width: 1; opacity: 1;\"></line><line transform=\"translate(0,171)\" x2=\"40\" y2=\"0\" style=\"fill: none; stroke: #ddd; stroke-width: 1; opacity: 1;\"></line><line transform=\"translate(0,143)\" x2=\"40\" y2=\"0\" style=\"fill: none; stroke: #ddd; stroke-width: 1; opacity: 1;\"></line><line transform=\"translate(0,114)\" x2=\"40\" y2=\"0\" style=\"fill: none; stroke: #ddd; stroke-width: 1; opacity: 1;\"></line><line transform=\"translate(0,86)\" x2=\"40\" y2=\"0\" style=\"fill: none; stroke: #ddd; stroke-width: 1; opacity: 1;\"></line><line transform=\"translate(0,57)\" x2=\"40\" y2=\"0\" style=\"fill: none; stroke: #ddd; stroke-width: 1; opacity: 1;\"></line><line transform=\"translate(0,29)\" x2=\"40\" y2=\"0\" style=\"fill: none; stroke: #ddd; stroke-width: 1; opacity: 1;\"></line><line transform=\"translate(0,0)\" x2=\"40\" y2=\"0\" style=\"fill: none; stroke: #ddd; stroke-width: 1; opacity: 1;\"></line></g></g></g></g><g class=\"mark-rect role-mark child_marks\"><path d=\"M1,92.22857142857144h18v107.77142857142856h-18Z\" style=\"fill: rgb(134, 188, 220);\"></path><path d=\"M21,196.85714285714286h18v3.142857142857139h-18Z\" style=\"fill: rgb(56, 135, 192);\"></path></g></g></g><g transform=\"translate(124,0)\"><path class=\"background\" d=\"M0.5,0.5h40v200h-40Z\" style=\"fill: none; stroke: #ddd;\"></path><g><g class=\"mark-group role-axis\"><g transform=\"translate(0.5,0.5)\"><path class=\"background\" d=\"M0,0h0v0h0Z\" style=\"pointer-events: none; fill: none;\"></path><g><g class=\"mark-rule role-axis-grid\" style=\"pointer-events: none;\"><line transform=\"translate(0,200)\" x2=\"40\" y2=\"0\" style=\"fill: none; stroke: #ddd; stroke-width: 1; opacity: 1;\"></line><line transform=\"translate(0,171)\" x2=\"40\" y2=\"0\" style=\"fill: none; stroke: #ddd; stroke-width: 1; opacity: 1;\"></line><line transform=\"translate(0,143)\" x2=\"40\" y2=\"0\" style=\"fill: none; stroke: #ddd; stroke-width: 1; opacity: 1;\"></line><line transform=\"translate(0,114)\" x2=\"40\" y2=\"0\" style=\"fill: none; stroke: #ddd; stroke-width: 1; opacity: 1;\"></line><line transform=\"translate(0,86)\" x2=\"40\" y2=\"0\" style=\"fill: none; stroke: #ddd; stroke-width: 1; opacity: 1;\"></line><line transform=\"translate(0,57)\" x2=\"40\" y2=\"0\" style=\"fill: none; stroke: #ddd; stroke-width: 1; opacity: 1;\"></line><line transform=\"translate(0,29)\" x2=\"40\" y2=\"0\" style=\"fill: none; stroke: #ddd; stroke-width: 1; opacity: 1;\"></line><line transform=\"translate(0,0)\" x2=\"40\" y2=\"0\" style=\"fill: none; stroke: #ddd; stroke-width: 1; opacity: 1;\"></line></g></g></g></g><g class=\"mark-rect role-mark child_marks\"><path d=\"M1,108.62857142857143h18v91.37142857142857h-18Z\" style=\"fill: rgb(134, 188, 220);\"></path><path d=\"M21,191.42857142857144h18v8.571428571428555h-18Z\" style=\"fill: rgb(56, 135, 192);\"></path></g></g></g><g transform=\"translate(186,0)\"><path class=\"background\" d=\"M0.5,0.5h40v200h-40Z\" style=\"fill: none; stroke: #ddd;\"></path><g><g class=\"mark-group role-axis\"><g transform=\"translate(0.5,0.5)\"><path class=\"background\" d=\"M0,0h0v0h0Z\" style=\"pointer-events: none; fill: none;\"></path><g><g class=\"mark-rule role-axis-grid\" style=\"pointer-events: none;\"><line transform=\"translate(0,200)\" x2=\"40\" y2=\"0\" style=\"fill: none; stroke: #ddd; stroke-width: 1; opacity: 1;\"></line><line transform=\"translate(0,171)\" x2=\"40\" y2=\"0\" style=\"fill: none; stroke: #ddd; stroke-width: 1; opacity: 1;\"></line><line transform=\"translate(0,143)\" x2=\"40\" y2=\"0\" style=\"fill: none; stroke: #ddd; stroke-width: 1; opacity: 1;\"></line><line transform=\"translate(0,114)\" x2=\"40\" y2=\"0\" style=\"fill: none; stroke: #ddd; stroke-width: 1; opacity: 1;\"></line><line transform=\"translate(0,86)\" x2=\"40\" y2=\"0\" style=\"fill: none; stroke: #ddd; stroke-width: 1; opacity: 1;\"></line><line transform=\"translate(0,57)\" x2=\"40\" y2=\"0\" style=\"fill: none; stroke: #ddd; stroke-width: 1; opacity: 1;\"></line><line transform=\"translate(0,29)\" x2=\"40\" y2=\"0\" style=\"fill: none; stroke: #ddd; stroke-width: 1; opacity: 1;\"></line><line transform=\"translate(0,0)\" x2=\"40\" y2=\"0\" style=\"fill: none; stroke: #ddd; stroke-width: 1; opacity: 1;\"></line></g></g></g></g><g class=\"mark-rect role-mark child_marks\"><path d=\"M1,88.57142857142857h18v111.42857142857143h-18Z\" style=\"fill: rgb(134, 188, 220);\"></path><path d=\"M21,170.79999999999998h18v29.200000000000017h-18Z\" style=\"fill: rgb(56, 135, 192);\"></path></g></g></g><g transform=\"translate(248,0)\"><path class=\"background\" d=\"M0.5,0.5h40v200h-40Z\" style=\"fill: none; stroke: #ddd;\"></path><g><g class=\"mark-group role-axis\"><g transform=\"translate(0.5,0.5)\"><path class=\"background\" d=\"M0,0h0v0h0Z\" style=\"pointer-events: none; fill: none;\"></path><g><g class=\"mark-rule role-axis-grid\" style=\"pointer-events: none;\"><line transform=\"translate(0,200)\" x2=\"40\" y2=\"0\" style=\"fill: none; stroke: #ddd; stroke-width: 1; opacity: 1;\"></line><line transform=\"translate(0,171)\" x2=\"40\" y2=\"0\" style=\"fill: none; stroke: #ddd; stroke-width: 1; opacity: 1;\"></line><line transform=\"translate(0,143)\" x2=\"40\" y2=\"0\" style=\"fill: none; stroke: #ddd; stroke-width: 1; opacity: 1;\"></line><line transform=\"translate(0,114)\" x2=\"40\" y2=\"0\" style=\"fill: none; stroke: #ddd; stroke-width: 1; opacity: 1;\"></line><line transform=\"translate(0,86)\" x2=\"40\" y2=\"0\" style=\"fill: none; stroke: #ddd; stroke-width: 1; opacity: 1;\"></line><line transform=\"translate(0,57)\" x2=\"40\" y2=\"0\" style=\"fill: none; stroke: #ddd; stroke-width: 1; opacity: 1;\"></line><line transform=\"translate(0,29)\" x2=\"40\" y2=\"0\" style=\"fill: none; stroke: #ddd; stroke-width: 1; opacity: 1;\"></line><line transform=\"translate(0,0)\" x2=\"40\" y2=\"0\" style=\"fill: none; stroke: #ddd; stroke-width: 1; opacity: 1;\"></line></g></g></g></g><g class=\"mark-rect role-mark child_marks\"><path d=\"M1,177.0285714285714h18v22.97142857142859h-18Z\" style=\"fill: rgb(134, 188, 220);\"></path><path d=\"M21,197.77142857142857h18v2.2285714285714278h-18Z\" style=\"fill: rgb(56, 135, 192);\"></path></g></g></g></g><g class=\"mark-group role-legend\"><g transform=\"translate(318,0)\"><path class=\"background\" d=\"M0,0h63v40h-63Z\" style=\"pointer-events: none; fill: none;\"></path><g><g class=\"mark-group role-legend-entry\"><g transform=\"translate(0,16)\"><path class=\"background\" d=\"M0,0h0v0h0Z\" style=\"pointer-events: none; fill: none;\"></path><g><g class=\"mark-group role-scope\"><g transform=\"translate(0,0)\"><path class=\"background\" d=\"M0,0h22v11h-22Z\" style=\"pointer-events: none; fill: none; opacity: 1;\"></path><g><g class=\"mark-symbol role-legend-symbol\" style=\"pointer-events: none;\"><path transform=\"translate(6,6)\" d=\"M-5,-5h10v10h-10Z\" style=\"fill: rgb(134, 188, 220); stroke-width: 1.5; opacity: 1;\"></path></g><g class=\"mark-text role-legend-label\" style=\"pointer-events: none;\"><text text-anchor=\"start\" transform=\"translate(16,9)\" style=\"font-family: sans-serif; font-size: 10px; fill: #000; opacity: 1;\">0</text></g></g></g><g transform=\"translate(0,13)\"><path class=\"background\" d=\"M0,0h22v11h-22Z\" style=\"pointer-events: none; fill: none; opacity: 1;\"></path><g><g class=\"mark-symbol role-legend-symbol\" style=\"pointer-events: none;\"><path transform=\"translate(6,6)\" d=\"M-5,-5h10v10h-10Z\" style=\"fill: rgb(56, 135, 192); stroke-width: 1.5; opacity: 1;\"></path></g><g class=\"mark-text role-legend-label\" style=\"pointer-events: none;\"><text text-anchor=\"start\" transform=\"translate(16,9)\" style=\"font-family: sans-serif; font-size: 10px; fill: #000; opacity: 1;\">1</text></g></g></g></g></g></g></g><g class=\"mark-text role-legend-title\" style=\"pointer-events: none;\"><text text-anchor=\"start\" transform=\"translate(0,9)\" style=\"font-family: sans-serif; font-size: 11px; font-weight: bold; fill: #000; opacity: 1;\">encounter</text></g></g></g></g></g></g></g></g></svg>"
      ],
      "text/plain": [
       "VegaLite.VLSpec{:plot}"
      ]
     },
     "execution_count": 15,
     "metadata": {},
     "output_type": "execute_result"
    }
   ],
   "source": [
    "combine(groupby(df, [:cap_top_cat, :encounter]), nrow => :donations) |>\n",
    "@vlplot(\n",
    "    :bar,\n",
    "    column = \"cap_top_cat:o\",\n",
    "    color = \"encounter:o\",\n",
    "    x = \"encounter:o\",\n",
    "    y = \"donations\"\n",
    ")"
   ]
  },
  {
   "cell_type": "code",
   "execution_count": 16,
   "metadata": {},
   "outputs": [
    {
     "data": {
      "application/vnd.vegalite.v3+json": {
       "data": {
        "values": [
         {
          "donations": 2913,
          "encounter": 0,
          "im_top_cat": "clothing"
         },
         {
          "donations": 2185,
          "encounter": 0,
          "im_top_cat": "outdoor"
         },
         {
          "donations": 1222,
          "encounter": 0,
          "im_top_cat": "text"
         },
         {
          "donations": 1057,
          "encounter": 0,
          "im_top_cat": "food"
         },
         {
          "donations": 42,
          "encounter": 1,
          "im_top_cat": "food"
         },
         {
          "donations": 115,
          "encounter": 1,
          "im_top_cat": "text"
         },
         {
          "donations": 196,
          "encounter": 1,
          "im_top_cat": "clothing"
         },
         {
          "donations": 194,
          "encounter": 1,
          "im_top_cat": "outdoor"
         },
         {
          "donations": 312,
          "encounter": 1,
          "im_top_cat": "bodies"
         },
         {
          "donations": 1926,
          "encounter": 0,
          "im_top_cat": "bodies"
         }
        ]
       },
       "encoding": {
        "color": {
         "field": "encounter",
         "type": "ordinal"
        },
        "column": {
         "field": "im_top_cat",
         "type": "ordinal"
        },
        "x": {
         "field": "encounter",
         "type": "ordinal"
        },
        "y": {
         "field": "donations",
         "type": "quantitative"
        }
       },
       "mark": "bar"
      },
      "image/png": "[encoded data removed]",
      "image/svg+xml": [
       "<svg class=\"marks\" width=\"441\" height=\"291\" viewBox=\"0 0 441 291\" version=\"1.1\" xmlns=\"http://www.w3.org/2000/svg\" xmlns:xlink=\"http://www.w3.org/1999/xlink\"><g transform=\"translate(55,57)\"><g class=\"mark-group role-frame root\"><g transform=\"translate(0,0)\"><path class=\"background\" d=\"M0,0h0v0h0Z\" style=\"fill: none;\"></path><g><g class=\"mark-group role-column-title column-title\"><g transform=\"translate(144,-31)\"><path class=\"background\" d=\"M0,0h0v0h0Z\" style=\"fill: none;\"></path><g><g class=\"mark-group role-title\"><g transform=\"translate(0,-21)\"><path class=\"background\" d=\"M0,0h0v0h0Z\" style=\"pointer-events: none; fill: none;\"></path><g><g class=\"mark-text role-title-text\" style=\"pointer-events: none;\"><text text-anchor=\"middle\" transform=\"translate(0,9)\" style=\"font-family: sans-serif; font-size: 11px; font-weight: bold; fill: #000; opacity: 1;\">im_top_cat</text></g></g></g></g></g></g></g><g class=\"mark-group role-row-header row_header\"><g transform=\"translate(-1,0)\"><path class=\"background\" d=\"M0,0h0v200h0Z\" style=\"fill: none;\"></path><g><g class=\"mark-group role-axis\"><g transform=\"translate(0.5,0.5)\"><path class=\"background\" d=\"M0,0h0v0h0Z\" style=\"pointer-events: none; fill: none;\"></path><g><g class=\"mark-rule role-axis-tick\" style=\"pointer-events: none;\"><line transform=\"translate(0,200)\" x2=\"-5\" y2=\"0\" style=\"fill: none; stroke: #888; stroke-width: 1; opacity: 1;\"></line><line transform=\"translate(0,167)\" x2=\"-5\" y2=\"0\" style=\"fill: none; stroke: #888; stroke-width: 1; opacity: 1;\"></line><line transform=\"translate(0,133)\" x2=\"-5\" y2=\"0\" style=\"fill: none; stroke: #888; stroke-width: 1; opacity: 1;\"></line><line transform=\"translate(0,100)\" x2=\"-5\" y2=\"0\" style=\"fill: none; stroke: #888; stroke-width: 1; opacity: 1;\"></line><line transform=\"translate(0,67)\" x2=\"-5\" y2=\"0\" style=\"fill: none; stroke: #888; stroke-width: 1; opacity: 1;\"></line><line transform=\"translate(0,33)\" x2=\"-5\" y2=\"0\" style=\"fill: none; stroke: #888; stroke-width: 1; opacity: 1;\"></line><line transform=\"translate(0,0)\" x2=\"-5\" y2=\"0\" style=\"fill: none; stroke: #888; stroke-width: 1; opacity: 1;\"></line></g><g class=\"mark-text role-axis-label\" style=\"pointer-events: none;\"><text text-anchor=\"end\" transform=\"translate(-7,203)\" style=\"font-family: sans-serif; font-size: 10px; fill: #000; opacity: 1;\">0</text><text text-anchor=\"end\" transform=\"translate(-7,169.66666666666669)\" style=\"font-family: sans-serif; font-size: 10px; fill: #000; opacity: 1;\">500</text><text text-anchor=\"end\" transform=\"translate(-7,136.33333333333334)\" style=\"font-family: sans-serif; font-size: 10px; fill: #000; opacity: 1;\">1,000</text><text text-anchor=\"end\" transform=\"translate(-7,103)\" style=\"font-family: sans-serif; font-size: 10px; fill: #000; opacity: 1;\">1,500</text><text text-anchor=\"end\" transform=\"translate(-7,69.66666666666667)\" style=\"font-family: sans-serif; font-size: 10px; fill: #000; opacity: 1;\">2,000</text><text text-anchor=\"end\" transform=\"translate(-7,36.33333333333333)\" style=\"font-family: sans-serif; font-size: 10px; fill: #000; opacity: 1;\">2,500</text><text text-anchor=\"end\" transform=\"translate(-7,3)\" style=\"font-family: sans-serif; font-size: 10px; fill: #000; opacity: 1;\">3,000</text></g><g class=\"mark-rule role-axis-domain\" style=\"pointer-events: none;\"><line transform=\"translate(0,200)\" x2=\"0\" y2=\"-200\" style=\"fill: none; stroke: #888; stroke-width: 1; opacity: 1;\"></line></g><g class=\"mark-text role-axis-title\" style=\"pointer-events: none;\"><text text-anchor=\"middle\" transform=\"translate(-38,100) rotate(-90) translate(0,-2)\" style=\"font-family: sans-serif; font-size: 11px; font-weight: bold; fill: #000; opacity: 1;\">donations</text></g></g></g></g></g></g></g><g class=\"mark-group role-column-header column_header\"><g transform=\"translate(0,-1)\"><path class=\"background\" d=\"M0,0h40v0h-40Z\" style=\"fill: none;\"></path><g><g class=\"mark-group role-title\"><g transform=\"translate(20,-20)\"><path class=\"background\" d=\"M0,0h0v0h0Z\" style=\"pointer-events: none; fill: none;\"></path><g><g class=\"mark-text role-title-text\" style=\"pointer-events: none;\"><text text-anchor=\"middle\" transform=\"translate(0,8)\" style=\"font-family: sans-serif; font-size: 10px; fill: #000; opacity: 1;\">bodies</text></g></g></g></g></g></g><g transform=\"translate(62,-1)\"><path class=\"background\" d=\"M0,0h40v0h-40Z\" style=\"fill: none;\"></path><g><g class=\"mark-group role-title\"><g transform=\"translate(20,-20)\"><path class=\"background\" d=\"M0,0h0v0h0Z\" style=\"pointer-events: none; fill: none;\"></path><g><g class=\"mark-text role-title-text\" style=\"pointer-events: none;\"><text text-anchor=\"middle\" transform=\"translate(0,8)\" style=\"font-family: sans-serif; font-size: 10px; fill: #000; opacity: 1;\">clothing</text></g></g></g></g></g></g><g transform=\"translate(124,-1)\"><path class=\"background\" d=\"M0,0h40v0h-40Z\" style=\"fill: none;\"></path><g><g class=\"mark-group role-title\"><g transform=\"translate(20,-20)\"><path class=\"background\" d=\"M0,0h0v0h0Z\" style=\"pointer-events: none; fill: none;\"></path><g><g class=\"mark-text role-title-text\" style=\"pointer-events: none;\"><text text-anchor=\"middle\" transform=\"translate(0,8)\" style=\"font-family: sans-serif; font-size: 10px; fill: #000; opacity: 1;\">food</text></g></g></g></g></g></g><g transform=\"translate(186,-1)\"><path class=\"background\" d=\"M0,0h40v0h-40Z\" style=\"fill: none;\"></path><g><g class=\"mark-group role-title\"><g transform=\"translate(20,-20)\"><path class=\"background\" d=\"M0,0h0v0h0Z\" style=\"pointer-events: none; fill: none;\"></path><g><g class=\"mark-text role-title-text\" style=\"pointer-events: none;\"><text text-anchor=\"middle\" transform=\"translate(0,8)\" style=\"font-family: sans-serif; font-size: 10px; fill: #000; opacity: 1;\">outdoor</text></g></g></g></g></g></g><g transform=\"translate(248,-1)\"><path class=\"background\" d=\"M0,0h40v0h-40Z\" style=\"fill: none;\"></path><g><g class=\"mark-group role-title\"><g transform=\"translate(20,-20)\"><path class=\"background\" d=\"M0,0h0v0h0Z\" style=\"pointer-events: none; fill: none;\"></path><g><g class=\"mark-text role-title-text\" style=\"pointer-events: none;\"><text text-anchor=\"middle\" transform=\"translate(0,8)\" style=\"font-family: sans-serif; font-size: 10px; fill: #000; opacity: 1;\">text</text></g></g></g></g></g></g></g><g class=\"mark-group role-column-footer column_footer\"><g transform=\"translate(0,201)\"><path class=\"background\" d=\"M0,0h40v0h-40Z\" style=\"fill: none;\"></path><g><g class=\"mark-group role-axis\"><g transform=\"translate(0.5,0.5)\"><path class=\"background\" d=\"M0,0h0v0h0Z\" style=\"pointer-events: none; fill: none;\"></path><g><g class=\"mark-rule role-axis-tick\" style=\"pointer-events: none;\"><line transform=\"translate(10,0)\" x2=\"0\" y2=\"5\" style=\"fill: none; stroke: #888; stroke-width: 1; opacity: 1;\"></line><line transform=\"translate(30,0)\" x2=\"0\" y2=\"5\" style=\"fill: none; stroke: #888; stroke-width: 1; opacity: 1;\"></line></g><g class=\"mark-text role-axis-label\" style=\"pointer-events: none;\"><text text-anchor=\"end\" transform=\"translate(9.5,7) rotate(270) translate(0,3)\" style=\"font-family: sans-serif; font-size: 10px; fill: #000; opacity: 1;\">0</text><text text-anchor=\"end\" transform=\"translate(29.5,7) rotate(270) translate(0,3)\" style=\"font-family: sans-serif; font-size: 10px; fill: #000; opacity: 1;\">1</text></g><g class=\"mark-rule role-axis-domain\" style=\"pointer-events: none;\"><line transform=\"translate(0,0)\" x2=\"40\" y2=\"0\" style=\"fill: none; stroke: #888; stroke-width: 1; opacity: 1;\"></line></g><g class=\"mark-text role-axis-title\" style=\"pointer-events: none;\"><text text-anchor=\"middle\" transform=\"translate(20,26)\" style=\"font-family: sans-serif; font-size: 11px; font-weight: bold; fill: #000; opacity: 1;\">encounter</text></g></g></g></g></g></g><g transform=\"translate(62,201)\"><path class=\"background\" d=\"M0,0h40v0h-40Z\" style=\"fill: none;\"></path><g><g class=\"mark-group role-axis\"><g transform=\"translate(0.5,0.5)\"><path class=\"background\" d=\"M0,0h0v0h0Z\" style=\"pointer-events: none; fill: none;\"></path><g><g class=\"mark-rule role-axis-tick\" style=\"pointer-events: none;\"><line transform=\"translate(10,0)\" x2=\"0\" y2=\"5\" style=\"fill: none; stroke: #888; stroke-width: 1; opacity: 1;\"></line><line transform=\"translate(30,0)\" x2=\"0\" y2=\"5\" style=\"fill: none; stroke: #888; stroke-width: 1; opacity: 1;\"></line></g><g class=\"mark-text role-axis-label\" style=\"pointer-events: none;\"><text text-anchor=\"end\" transform=\"translate(9.5,7) rotate(270) translate(0,3)\" style=\"font-family: sans-serif; font-size: 10px; fill: #000; opacity: 1;\">0</text><text text-anchor=\"end\" transform=\"translate(29.5,7) rotate(270) translate(0,3)\" style=\"font-family: sans-serif; font-size: 10px; fill: #000; opacity: 1;\">1</text></g><g class=\"mark-rule role-axis-domain\" style=\"pointer-events: none;\"><line transform=\"translate(0,0)\" x2=\"40\" y2=\"0\" style=\"fill: none; stroke: #888; stroke-width: 1; opacity: 1;\"></line></g><g class=\"mark-text role-axis-title\" style=\"pointer-events: none;\"><text text-anchor=\"middle\" transform=\"translate(20,26)\" style=\"font-family: sans-serif; font-size: 11px; font-weight: bold; fill: #000; opacity: 1;\">encounter</text></g></g></g></g></g></g><g transform=\"translate(124,201)\"><path class=\"background\" d=\"M0,0h40v0h-40Z\" style=\"fill: none;\"></path><g><g class=\"mark-group role-axis\"><g transform=\"translate(0.5,0.5)\"><path class=\"background\" d=\"M0,0h0v0h0Z\" style=\"pointer-events: none; fill: none;\"></path><g><g class=\"mark-rule role-axis-tick\" style=\"pointer-events: none;\"><line transform=\"translate(10,0)\" x2=\"0\" y2=\"5\" style=\"fill: none; stroke: #888; stroke-width: 1; opacity: 1;\"></line><line transform=\"translate(30,0)\" x2=\"0\" y2=\"5\" style=\"fill: none; stroke: #888; stroke-width: 1; opacity: 1;\"></line></g><g class=\"mark-text role-axis-label\" style=\"pointer-events: none;\"><text text-anchor=\"end\" transform=\"translate(9.5,7) rotate(270) translate(0,3)\" style=\"font-family: sans-serif; font-size: 10px; fill: #000; opacity: 1;\">0</text><text text-anchor=\"end\" transform=\"translate(29.5,7) rotate(270) translate(0,3)\" style=\"font-family: sans-serif; font-size: 10px; fill: #000; opacity: 1;\">1</text></g><g class=\"mark-rule role-axis-domain\" style=\"pointer-events: none;\"><line transform=\"translate(0,0)\" x2=\"40\" y2=\"0\" style=\"fill: none; stroke: #888; stroke-width: 1; opacity: 1;\"></line></g><g class=\"mark-text role-axis-title\" style=\"pointer-events: none;\"><text text-anchor=\"middle\" transform=\"translate(20,26)\" style=\"font-family: sans-serif; font-size: 11px; font-weight: bold; fill: #000; opacity: 1;\">encounter</text></g></g></g></g></g></g><g transform=\"translate(186,201)\"><path class=\"background\" d=\"M0,0h40v0h-40Z\" style=\"fill: none;\"></path><g><g class=\"mark-group role-axis\"><g transform=\"translate(0.5,0.5)\"><path class=\"background\" d=\"M0,0h0v0h0Z\" style=\"pointer-events: none; fill: none;\"></path><g><g class=\"mark-rule role-axis-tick\" style=\"pointer-events: none;\"><line transform=\"translate(10,0)\" x2=\"0\" y2=\"5\" style=\"fill: none; stroke: #888; stroke-width: 1; opacity: 1;\"></line><line transform=\"translate(30,0)\" x2=\"0\" y2=\"5\" style=\"fill: none; stroke: #888; stroke-width: 1; opacity: 1;\"></line></g><g class=\"mark-text role-axis-label\" style=\"pointer-events: none;\"><text text-anchor=\"end\" transform=\"translate(9.5,7) rotate(270) translate(0,3)\" style=\"font-family: sans-serif; font-size: 10px; fill: #000; opacity: 1;\">0</text><text text-anchor=\"end\" transform=\"translate(29.5,7) rotate(270) translate(0,3)\" style=\"font-family: sans-serif; font-size: 10px; fill: #000; opacity: 1;\">1</text></g><g class=\"mark-rule role-axis-domain\" style=\"pointer-events: none;\"><line transform=\"translate(0,0)\" x2=\"40\" y2=\"0\" style=\"fill: none; stroke: #888; stroke-width: 1; opacity: 1;\"></line></g><g class=\"mark-text role-axis-title\" style=\"pointer-events: none;\"><text text-anchor=\"middle\" transform=\"translate(20,26)\" style=\"font-family: sans-serif; font-size: 11px; font-weight: bold; fill: #000; opacity: 1;\">encounter</text></g></g></g></g></g></g><g transform=\"translate(248,201)\"><path class=\"background\" d=\"M0,0h40v0h-40Z\" style=\"fill: none;\"></path><g><g class=\"mark-group role-axis\"><g transform=\"translate(0.5,0.5)\"><path class=\"background\" d=\"M0,0h0v0h0Z\" style=\"pointer-events: none; fill: none;\"></path><g><g class=\"mark-rule role-axis-tick\" style=\"pointer-events: none;\"><line transform=\"translate(10,0)\" x2=\"0\" y2=\"5\" style=\"fill: none; stroke: #888; stroke-width: 1; opacity: 1;\"></line><line transform=\"translate(30,0)\" x2=\"0\" y2=\"5\" style=\"fill: none; stroke: #888; stroke-width: 1; opacity: 1;\"></line></g><g class=\"mark-text role-axis-label\" style=\"pointer-events: none;\"><text text-anchor=\"end\" transform=\"translate(9.5,7) rotate(270) translate(0,3)\" style=\"font-family: sans-serif; font-size: 10px; fill: #000; opacity: 1;\">0</text><text text-anchor=\"end\" transform=\"translate(29.5,7) rotate(270) translate(0,3)\" style=\"font-family: sans-serif; font-size: 10px; fill: #000; opacity: 1;\">1</text></g><g class=\"mark-rule role-axis-domain\" style=\"pointer-events: none;\"><line transform=\"translate(0,0)\" x2=\"40\" y2=\"0\" style=\"fill: none; stroke: #888; stroke-width: 1; opacity: 1;\"></line></g><g class=\"mark-text role-axis-title\" style=\"pointer-events: none;\"><text text-anchor=\"middle\" transform=\"translate(20,26)\" style=\"font-family: sans-serif; font-size: 11px; font-weight: bold; fill: #000; opacity: 1;\">encounter</text></g></g></g></g></g></g></g><g class=\"mark-group role-scope cell\"><g transform=\"translate(0,0)\"><path class=\"background\" d=\"M0.5,0.5h40v200h-40Z\" style=\"fill: none; stroke: #ddd;\"></path><g><g class=\"mark-group role-axis\"><g transform=\"translate(0.5,0.5)\"><path class=\"background\" d=\"M0,0h0v0h0Z\" style=\"pointer-events: none; fill: none;\"></path><g><g class=\"mark-rule role-axis-grid\" style=\"pointer-events: none;\"><line transform=\"translate(0,200)\" x2=\"40\" y2=\"0\" style=\"fill: none; stroke: #ddd; stroke-width: 1; opacity: 1;\"></line><line transform=\"translate(0,167)\" x2=\"40\" y2=\"0\" style=\"fill: none; stroke: #ddd; stroke-width: 1; opacity: 1;\"></line><line transform=\"translate(0,133)\" x2=\"40\" y2=\"0\" style=\"fill: none; stroke: #ddd; stroke-width: 1; opacity: 1;\"></line><line transform=\"translate(0,100)\" x2=\"40\" y2=\"0\" style=\"fill: none; stroke: #ddd; stroke-width: 1; opacity: 1;\"></line><line transform=\"translate(0,67)\" x2=\"40\" y2=\"0\" style=\"fill: none; stroke: #ddd; stroke-width: 1; opacity: 1;\"></line><line transform=\"translate(0,33)\" x2=\"40\" y2=\"0\" style=\"fill: none; stroke: #ddd; stroke-width: 1; opacity: 1;\"></line><line transform=\"translate(0,0)\" x2=\"40\" y2=\"0\" style=\"fill: none; stroke: #ddd; stroke-width: 1; opacity: 1;\"></line></g></g></g></g><g class=\"mark-rect role-mark child_marks\"><path d=\"M21,179.20000000000002h18v20.799999999999983h-18Z\" style=\"fill: rgb(56, 135, 192);\"></path><path d=\"M1,71.6h18v128.4h-18Z\" style=\"fill: rgb(134, 188, 220);\"></path></g></g></g><g transform=\"translate(62,0)\"><path class=\"background\" d=\"M0.5,0.5h40v200h-40Z\" style=\"fill: none; stroke: #ddd;\"></path><g><g class=\"mark-group role-axis\"><g transform=\"translate(0.5,0.5)\"><path class=\"background\" d=\"M0,0h0v0h0Z\" style=\"pointer-events: none; fill: none;\"></path><g><g class=\"mark-rule role-axis-grid\" style=\"pointer-events: none;\"><line transform=\"translate(0,200)\" x2=\"40\" y2=\"0\" style=\"fill: none; stroke: #ddd; stroke-width: 1; opacity: 1;\"></line><line transform=\"translate(0,167)\" x2=\"40\" y2=\"0\" style=\"fill: none; stroke: #ddd; stroke-width: 1; opacity: 1;\"></line><line transform=\"translate(0,133)\" x2=\"40\" y2=\"0\" style=\"fill: none; stroke: #ddd; stroke-width: 1; opacity: 1;\"></line><line transform=\"translate(0,100)\" x2=\"40\" y2=\"0\" style=\"fill: none; stroke: #ddd; stroke-width: 1; opacity: 1;\"></line><line transform=\"translate(0,67)\" x2=\"40\" y2=\"0\" style=\"fill: none; stroke: #ddd; stroke-width: 1; opacity: 1;\"></line><line transform=\"translate(0,33)\" x2=\"40\" y2=\"0\" style=\"fill: none; stroke: #ddd; stroke-width: 1; opacity: 1;\"></line><line transform=\"translate(0,0)\" x2=\"40\" y2=\"0\" style=\"fill: none; stroke: #ddd; stroke-width: 1; opacity: 1;\"></line></g></g></g></g><g class=\"mark-rect role-mark child_marks\"><path d=\"M1,5.800000000000005h18v194.2h-18Z\" style=\"fill: rgb(134, 188, 220);\"></path><path d=\"M21,186.93333333333334h18v13.066666666666663h-18Z\" style=\"fill: rgb(56, 135, 192);\"></path></g></g></g><g transform=\"translate(124,0)\"><path class=\"background\" d=\"M0.5,0.5h40v200h-40Z\" style=\"fill: none; stroke: #ddd;\"></path><g><g class=\"mark-group role-axis\"><g transform=\"translate(0.5,0.5)\"><path class=\"background\" d=\"M0,0h0v0h0Z\" style=\"pointer-events: none; fill: none;\"></path><g><g class=\"mark-rule role-axis-grid\" style=\"pointer-events: none;\"><line transform=\"translate(0,200)\" x2=\"40\" y2=\"0\" style=\"fill: none; stroke: #ddd; stroke-width: 1; opacity: 1;\"></line><line transform=\"translate(0,167)\" x2=\"40\" y2=\"0\" style=\"fill: none; stroke: #ddd; stroke-width: 1; opacity: 1;\"></line><line transform=\"translate(0,133)\" x2=\"40\" y2=\"0\" style=\"fill: none; stroke: #ddd; stroke-width: 1; opacity: 1;\"></line><line transform=\"translate(0,100)\" x2=\"40\" y2=\"0\" style=\"fill: none; stroke: #ddd; stroke-width: 1; opacity: 1;\"></line><line transform=\"translate(0,67)\" x2=\"40\" y2=\"0\" style=\"fill: none; stroke: #ddd; stroke-width: 1; opacity: 1;\"></line><line transform=\"translate(0,33)\" x2=\"40\" y2=\"0\" style=\"fill: none; stroke: #ddd; stroke-width: 1; opacity: 1;\"></line><line transform=\"translate(0,0)\" x2=\"40\" y2=\"0\" style=\"fill: none; stroke: #ddd; stroke-width: 1; opacity: 1;\"></line></g></g></g></g><g class=\"mark-rect role-mark child_marks\"><path d=\"M1,129.53333333333333h18v70.46666666666667h-18Z\" style=\"fill: rgb(134, 188, 220);\"></path><path d=\"M21,197.2h18v2.8000000000000114h-18Z\" style=\"fill: rgb(56, 135, 192);\"></path></g></g></g><g transform=\"translate(186,0)\"><path class=\"background\" d=\"M0.5,0.5h40v200h-40Z\" style=\"fill: none; stroke: #ddd;\"></path><g><g class=\"mark-group role-axis\"><g transform=\"translate(0.5,0.5)\"><path class=\"background\" d=\"M0,0h0v0h0Z\" style=\"pointer-events: none; fill: none;\"></path><g><g class=\"mark-rule role-axis-grid\" style=\"pointer-events: none;\"><line transform=\"translate(0,200)\" x2=\"40\" y2=\"0\" style=\"fill: none; stroke: #ddd; stroke-width: 1; opacity: 1;\"></line><line transform=\"translate(0,167)\" x2=\"40\" y2=\"0\" style=\"fill: none; stroke: #ddd; stroke-width: 1; opacity: 1;\"></line><line transform=\"translate(0,133)\" x2=\"40\" y2=\"0\" style=\"fill: none; stroke: #ddd; stroke-width: 1; opacity: 1;\"></line><line transform=\"translate(0,100)\" x2=\"40\" y2=\"0\" style=\"fill: none; stroke: #ddd; stroke-width: 1; opacity: 1;\"></line><line transform=\"translate(0,67)\" x2=\"40\" y2=\"0\" style=\"fill: none; stroke: #ddd; stroke-width: 1; opacity: 1;\"></line><line transform=\"translate(0,33)\" x2=\"40\" y2=\"0\" style=\"fill: none; stroke: #ddd; stroke-width: 1; opacity: 1;\"></line><line transform=\"translate(0,0)\" x2=\"40\" y2=\"0\" style=\"fill: none; stroke: #ddd; stroke-width: 1; opacity: 1;\"></line></g></g></g></g><g class=\"mark-rect role-mark child_marks\"><path d=\"M1,54.33333333333332h18v145.66666666666669h-18Z\" style=\"fill: rgb(134, 188, 220);\"></path><path d=\"M21,187.06666666666666h18v12.933333333333337h-18Z\" style=\"fill: rgb(56, 135, 192);\"></path></g></g></g><g transform=\"translate(248,0)\"><path class=\"background\" d=\"M0.5,0.5h40v200h-40Z\" style=\"fill: none; stroke: #ddd;\"></path><g><g class=\"mark-group role-axis\"><g transform=\"translate(0.5,0.5)\"><path class=\"background\" d=\"M0,0h0v0h0Z\" style=\"pointer-events: none; fill: none;\"></path><g><g class=\"mark-rule role-axis-grid\" style=\"pointer-events: none;\"><line transform=\"translate(0,200)\" x2=\"40\" y2=\"0\" style=\"fill: none; stroke: #ddd; stroke-width: 1; opacity: 1;\"></line><line transform=\"translate(0,167)\" x2=\"40\" y2=\"0\" style=\"fill: none; stroke: #ddd; stroke-width: 1; opacity: 1;\"></line><line transform=\"translate(0,133)\" x2=\"40\" y2=\"0\" style=\"fill: none; stroke: #ddd; stroke-width: 1; opacity: 1;\"></line><line transform=\"translate(0,100)\" x2=\"40\" y2=\"0\" style=\"fill: none; stroke: #ddd; stroke-width: 1; opacity: 1;\"></line><line transform=\"translate(0,67)\" x2=\"40\" y2=\"0\" style=\"fill: none; stroke: #ddd; stroke-width: 1; opacity: 1;\"></line><line transform=\"translate(0,33)\" x2=\"40\" y2=\"0\" style=\"fill: none; stroke: #ddd; stroke-width: 1; opacity: 1;\"></line><line transform=\"translate(0,0)\" x2=\"40\" y2=\"0\" style=\"fill: none; stroke: #ddd; stroke-width: 1; opacity: 1;\"></line></g></g></g></g><g class=\"mark-rect role-mark child_marks\"><path d=\"M1,118.53333333333333h18v81.46666666666667h-18Z\" style=\"fill: rgb(134, 188, 220);\"></path><path d=\"M21,192.33333333333334h18v7.666666666666657h-18Z\" style=\"fill: rgb(56, 135, 192);\"></path></g></g></g></g><g class=\"mark-group role-legend\"><g transform=\"translate(318,0)\"><path class=\"background\" d=\"M0,0h63v40h-63Z\" style=\"pointer-events: none; fill: none;\"></path><g><g class=\"mark-group role-legend-entry\"><g transform=\"translate(0,16)\"><path class=\"background\" d=\"M0,0h0v0h0Z\" style=\"pointer-events: none; fill: none;\"></path><g><g class=\"mark-group role-scope\"><g transform=\"translate(0,0)\"><path class=\"background\" d=\"M0,0h22v11h-22Z\" style=\"pointer-events: none; fill: none; opacity: 1;\"></path><g><g class=\"mark-symbol role-legend-symbol\" style=\"pointer-events: none;\"><path transform=\"translate(6,6)\" d=\"M-5,-5h10v10h-10Z\" style=\"fill: rgb(134, 188, 220); stroke-width: 1.5; opacity: 1;\"></path></g><g class=\"mark-text role-legend-label\" style=\"pointer-events: none;\"><text text-anchor=\"start\" transform=\"translate(16,9)\" style=\"font-family: sans-serif; font-size: 10px; fill: #000; opacity: 1;\">0</text></g></g></g><g transform=\"translate(0,13)\"><path class=\"background\" d=\"M0,0h22v11h-22Z\" style=\"pointer-events: none; fill: none; opacity: 1;\"></path><g><g class=\"mark-symbol role-legend-symbol\" style=\"pointer-events: none;\"><path transform=\"translate(6,6)\" d=\"M-5,-5h10v10h-10Z\" style=\"fill: rgb(56, 135, 192); stroke-width: 1.5; opacity: 1;\"></path></g><g class=\"mark-text role-legend-label\" style=\"pointer-events: none;\"><text text-anchor=\"start\" transform=\"translate(16,9)\" style=\"font-family: sans-serif; font-size: 10px; fill: #000; opacity: 1;\">1</text></g></g></g></g></g></g></g><g class=\"mark-text role-legend-title\" style=\"pointer-events: none;\"><text text-anchor=\"start\" transform=\"translate(0,9)\" style=\"font-family: sans-serif; font-size: 11px; font-weight: bold; fill: #000; opacity: 1;\">encounter</text></g></g></g></g></g></g></g></g></svg>"
      ],
      "text/plain": [
       "VegaLite.VLSpec{:plot}"
      ]
     },
     "execution_count": 16,
     "metadata": {},
     "output_type": "execute_result"
    }
   ],
   "source": [
    "combine(groupby(df, [:im_top_cat, :encounter]), nrow => :donations) |>\n",
    "@vlplot(\n",
    "    :bar,\n",
    "    column = \"im_top_cat:o\",\n",
    "    color = \"encounter:o\",\n",
    "    x = \"encounter:o\",\n",
    "    y = :donations\n",
    ")"
   ]
  },
  {
   "cell_type": "code",
   "execution_count": 17,
   "metadata": {},
   "outputs": [
    {
     "data": {
      "text/html": [
       "<table class=\"data-frame\"><thead><tr><th></th><th>im_top_cat</th><th>encounter</th><th>donations</th></tr><tr><th></th><th>String</th><th>Int64</th><th>Int64</th></tr></thead><tbody><p>10 rows × 3 columns</p><tr><th>1</th><td>clothing</td><td>0</td><td>2913</td></tr><tr><th>2</th><td>outdoor</td><td>0</td><td>2185</td></tr><tr><th>3</th><td>text</td><td>0</td><td>1222</td></tr><tr><th>4</th><td>food</td><td>0</td><td>1057</td></tr><tr><th>5</th><td>food</td><td>1</td><td>42</td></tr><tr><th>6</th><td>text</td><td>1</td><td>115</td></tr><tr><th>7</th><td>clothing</td><td>1</td><td>196</td></tr><tr><th>8</th><td>outdoor</td><td>1</td><td>194</td></tr><tr><th>9</th><td>bodies</td><td>1</td><td>312</td></tr><tr><th>10</th><td>bodies</td><td>0</td><td>1926</td></tr></tbody></table>"
      ],
      "text/latex": [
       "\\begin{tabular}{r|ccc}\n",
       "\t& im\\_top\\_cat & encounter & donations\\\\\n",
       "\t\\hline\n",
       "\t& String & Int64 & Int64\\\\\n",
       "\t\\hline\n",
       "\t1 & clothing & 0 & 2913 \\\\\n",
       "\t2 & outdoor & 0 & 2185 \\\\\n",
       "\t3 & text & 0 & 1222 \\\\\n",
       "\t4 & food & 0 & 1057 \\\\\n",
       "\t5 & food & 1 & 42 \\\\\n",
       "\t6 & text & 1 & 115 \\\\\n",
       "\t7 & clothing & 1 & 196 \\\\\n",
       "\t8 & outdoor & 1 & 194 \\\\\n",
       "\t9 & bodies & 1 & 312 \\\\\n",
       "\t10 & bodies & 0 & 1926 \\\\\n",
       "\\end{tabular}\n"
      ],
      "text/plain": [
       "\u001b[1m10×3 DataFrame\u001b[0m\n",
       "\u001b[1m Row \u001b[0m│\u001b[1m im_top_cat \u001b[0m\u001b[1m encounter \u001b[0m\u001b[1m donations \u001b[0m\n",
       "\u001b[1m     \u001b[0m│\u001b[90m String     \u001b[0m\u001b[90m Int64     \u001b[0m\u001b[90m Int64     \u001b[0m\n",
       "─────┼──────────────────────────────────\n",
       "   1 │ clothing            0       2913\n",
       "   2 │ outdoor             0       2185\n",
       "   3 │ text                0       1222\n",
       "   4 │ food                0       1057\n",
       "   5 │ food                1         42\n",
       "   6 │ text                1        115\n",
       "   7 │ clothing            1        196\n",
       "   8 │ outdoor             1        194\n",
       "   9 │ bodies              1        312\n",
       "  10 │ bodies              0       1926"
      ]
     },
     "execution_count": 17,
     "metadata": {},
     "output_type": "execute_result"
    }
   ],
   "source": [
    "combine(groupby(df, [:im_top_cat, :encounter]), nrow => :donations)"
   ]
  },
  {
   "cell_type": "markdown",
   "metadata": {},
   "source": [
    "## RQ2: What posts are overrepresented given their popularity? \n",
    "Since overrepresentation is likely to driven by popularity, we analyse what types of posts are overrepresented if we **correct for effects of post popularity**. Remaining variations in post popularity can indicate biases in Instagram’s recommendations. The biases might be limited to the population of donors."
   ]
  },
  {
   "cell_type": "code",
   "execution_count": 18,
   "metadata": {},
   "outputs": [],
   "source": [
    "baseline_formula = @formula(encounter ~ 1 \n",
    "    + log1p(post_age) + log1p(likes_count) + log1p(comments_count) + log1p(follows)\n",
    "    + post_age_cat + likes_cat + comments_cat\n",
    "    + post_DOW + post_HOD\n",
    "    );\n",
    "baseline_model = glm(baseline_formula, df, Binomial(), LogitLink());\n",
    "df.pred_popularity = predict(baseline_model, df);"
   ]
  },
  {
   "cell_type": "code",
   "execution_count": 19,
   "metadata": {},
   "outputs": [
    {
     "data": {
      "application/vnd.vegalite.v3+json": {
       "data": {
        "values": [
         {
          "encounter_mean": 0.04127161182375906,
          "pred_popularity_cat": "[0.0, 0.2)"
         },
         {
          "encounter_mean": 0.2460881934566145,
          "pred_popularity_cat": "[0.2, 0.4)"
         },
         {
          "encounter_mean": 0.5821428571428572,
          "pred_popularity_cat": "[0.4, 0.6)"
         },
         {
          "encounter_mean": 0.6209150326797386,
          "pred_popularity_cat": "[0.6, 0.8)"
         },
         {
          "encounter_mean": 0.9508196721311475,
          "pred_popularity_cat": "[0.8, 1.0]"
         }
        ]
       },
       "encoding": {
        "x": {
         "field": "pred_popularity_cat",
         "type": "ordinal"
        },
        "y": {
         "field": "encounter_mean",
         "type": "quantitative"
        }
       },
       "mark": "bar"
      },
      "image/png": "[encoded data removed]",
      "image/svg+xml": [
       "<svg class=\"marks\" width=\"159\" height=\"281\" viewBox=\"0 0 159 281\" version=\"1.1\" xmlns=\"http://www.w3.org/2000/svg\" xmlns:xlink=\"http://www.w3.org/1999/xlink\"><g transform=\"translate(42,10)\"><g class=\"mark-group role-frame root\"><g transform=\"translate(0,0)\"><path class=\"background\" d=\"M0.5,0.5h100v200h-100Z\" style=\"fill: none; stroke: #ddd;\"></path><g><g class=\"mark-group role-axis\"><g transform=\"translate(0.5,0.5)\"><path class=\"background\" d=\"M0,0h0v0h0Z\" style=\"pointer-events: none; fill: none;\"></path><g><g class=\"mark-rule role-axis-grid\" style=\"pointer-events: none;\"><line transform=\"translate(0,200)\" x2=\"100\" y2=\"0\" style=\"fill: none; stroke: #ddd; stroke-width: 1; opacity: 1;\"></line><line transform=\"translate(0,160)\" x2=\"100\" y2=\"0\" style=\"fill: none; stroke: #ddd; stroke-width: 1; opacity: 1;\"></line><line transform=\"translate(0,120)\" x2=\"100\" y2=\"0\" style=\"fill: none; stroke: #ddd; stroke-width: 1; opacity: 1;\"></line><line transform=\"translate(0,80)\" x2=\"100\" y2=\"0\" style=\"fill: none; stroke: #ddd; stroke-width: 1; opacity: 1;\"></line><line transform=\"translate(0,40)\" x2=\"100\" y2=\"0\" style=\"fill: none; stroke: #ddd; stroke-width: 1; opacity: 1;\"></line><line transform=\"translate(0,0)\" x2=\"100\" y2=\"0\" style=\"fill: none; stroke: #ddd; stroke-width: 1; opacity: 1;\"></line></g></g></g></g><g class=\"mark-rect role-mark marks\"><path d=\"M1,191.7456776352482h18v8.2543223647518h-18Z\" style=\"fill: #4c78a8;\"></path><path d=\"M21,150.7823613086771h18v49.21763869132289h-18Z\" style=\"fill: #4c78a8;\"></path><path d=\"M41,83.57142857142857h18v116.42857142857143h-18Z\" style=\"fill: #4c78a8;\"></path><path d=\"M61,75.81699346405229h18v124.18300653594771h-18Z\" style=\"fill: #4c78a8;\"></path><path d=\"M81,9.836065573770503h18v190.1639344262295h-18Z\" style=\"fill: #4c78a8;\"></path></g><g class=\"mark-group role-axis\"><g transform=\"translate(0.5,200.5)\"><path class=\"background\" d=\"M0,0h0v0h0Z\" style=\"pointer-events: none; fill: none;\"></path><g><g class=\"mark-rule role-axis-tick\" style=\"pointer-events: none;\"><line transform=\"translate(10,0)\" x2=\"0\" y2=\"5\" style=\"fill: none; stroke: #888; stroke-width: 1; opacity: 1;\"></line><line transform=\"translate(30,0)\" x2=\"0\" y2=\"5\" style=\"fill: none; stroke: #888; stroke-width: 1; opacity: 1;\"></line><line transform=\"translate(50,0)\" x2=\"0\" y2=\"5\" style=\"fill: none; stroke: #888; stroke-width: 1; opacity: 1;\"></line><line transform=\"translate(70,0)\" x2=\"0\" y2=\"5\" style=\"fill: none; stroke: #888; stroke-width: 1; opacity: 1;\"></line><line transform=\"translate(90,0)\" x2=\"0\" y2=\"5\" style=\"fill: none; stroke: #888; stroke-width: 1; opacity: 1;\"></line></g><g class=\"mark-text role-axis-label\" style=\"pointer-events: none;\"><text text-anchor=\"end\" transform=\"translate(9.5,7) rotate(270) translate(0,3)\" style=\"font-family: sans-serif; font-size: 10px; fill: #000; opacity: 1;\">[0.0, 0.2)</text><text text-anchor=\"end\" transform=\"translate(29.5,7) rotate(270) translate(0,3)\" style=\"font-family: sans-serif; font-size: 10px; fill: #000; opacity: 1;\">[0.2, 0.4)</text><text text-anchor=\"end\" transform=\"translate(49.5,7) rotate(270) translate(0,3)\" style=\"font-family: sans-serif; font-size: 10px; fill: #000; opacity: 1;\">[0.4, 0.6)</text><text text-anchor=\"end\" transform=\"translate(69.5,7) rotate(270) translate(0,3)\" style=\"font-family: sans-serif; font-size: 10px; fill: #000; opacity: 1;\">[0.6, 0.8)</text><text text-anchor=\"end\" transform=\"translate(89.5,7) rotate(270) translate(0,3)\" style=\"font-family: sans-serif; font-size: 10px; fill: #000; opacity: 1;\">[0.8, 1.0]</text></g><g class=\"mark-rule role-axis-domain\" style=\"pointer-events: none;\"><line transform=\"translate(0,0)\" x2=\"100\" y2=\"0\" style=\"fill: none; stroke: #888; stroke-width: 1; opacity: 1;\"></line></g><g class=\"mark-text role-axis-title\" style=\"pointer-events: none;\"><text text-anchor=\"middle\" transform=\"translate(50,64)\" style=\"font-family: sans-serif; font-size: 11px; font-weight: bold; fill: #000; opacity: 1;\">pred_popularity_cat</text></g></g></g></g><g class=\"mark-group role-axis\"><g transform=\"translate(0.5,0.5)\"><path class=\"background\" d=\"M0,0h0v0h0Z\" style=\"pointer-events: none; fill: none;\"></path><g><g class=\"mark-rule role-axis-tick\" style=\"pointer-events: none;\"><line transform=\"translate(0,200)\" x2=\"-5\" y2=\"0\" style=\"fill: none; stroke: #888; stroke-width: 1; opacity: 1;\"></line><line transform=\"translate(0,160)\" x2=\"-5\" y2=\"0\" style=\"fill: none; stroke: #888; stroke-width: 1; opacity: 1;\"></line><line transform=\"translate(0,120)\" x2=\"-5\" y2=\"0\" style=\"fill: none; stroke: #888; stroke-width: 1; opacity: 1;\"></line><line transform=\"translate(0,80)\" x2=\"-5\" y2=\"0\" style=\"fill: none; stroke: #888; stroke-width: 1; opacity: 1;\"></line><line transform=\"translate(0,40)\" x2=\"-5\" y2=\"0\" style=\"fill: none; stroke: #888; stroke-width: 1; opacity: 1;\"></line><line transform=\"translate(0,0)\" x2=\"-5\" y2=\"0\" style=\"fill: none; stroke: #888; stroke-width: 1; opacity: 1;\"></line></g><g class=\"mark-text role-axis-label\" style=\"pointer-events: none;\"><text text-anchor=\"end\" transform=\"translate(-7,203)\" style=\"font-family: sans-serif; font-size: 10px; fill: #000; opacity: 1;\">0.0</text><text text-anchor=\"end\" transform=\"translate(-7,163)\" style=\"font-family: sans-serif; font-size: 10px; fill: #000; opacity: 1;\">0.2</text><text text-anchor=\"end\" transform=\"translate(-7,123)\" style=\"font-family: sans-serif; font-size: 10px; fill: #000; opacity: 1;\">0.4</text><text text-anchor=\"end\" transform=\"translate(-7,83)\" style=\"font-family: sans-serif; font-size: 10px; fill: #000; opacity: 1;\">0.6</text><text text-anchor=\"end\" transform=\"translate(-7,42.99999999999999)\" style=\"font-family: sans-serif; font-size: 10px; fill: #000; opacity: 1;\">0.8</text><text text-anchor=\"end\" transform=\"translate(-7,3)\" style=\"font-family: sans-serif; font-size: 10px; fill: #000; opacity: 1;\">1.0</text></g><g class=\"mark-rule role-axis-domain\" style=\"pointer-events: none;\"><line transform=\"translate(0,200)\" x2=\"0\" y2=\"-200\" style=\"fill: none; stroke: #888; stroke-width: 1; opacity: 1;\"></line></g><g class=\"mark-text role-axis-title\" style=\"pointer-events: none;\"><text text-anchor=\"middle\" transform=\"translate(-26,100) rotate(-90) translate(0,-2)\" style=\"font-family: sans-serif; font-size: 11px; font-weight: bold; fill: #000; opacity: 1;\">encounter_mean</text></g></g></g></g></g></g></g></g></svg>"
      ],
      "text/plain": [
       "VegaLite.VLSpec{:plot}"
      ]
     },
     "execution_count": 19,
     "metadata": {},
     "output_type": "execute_result"
    }
   ],
   "source": [
    "df.pred_popularity_cat = cut(df.pred_popularity, 0:.2:1, extend=true);\n",
    "combine(groupby(df, :pred_popularity_cat), :encounter=>mean) |> \n",
    "    @vlplot(:bar, x=\"pred_popularity_cat:o\", y=:encounter_mean)"
   ]
  },
  {
   "cell_type": "markdown",
   "metadata": {},
   "source": [
    "This figure shows the encounter frequency is well predicted with the logisitic regression model for popularity. Thus, a large part of the observed encounters can be explained by the presence of competing posts (i.e. time of day or day of week effects), and by the popularity of a post in relation to it's age (through post age, likes and comments). We use this model as a popularity factor, to analyse how much properties of the post content *additionally* changes the probability of encountering a post."
   ]
  },
  {
   "cell_type": "code",
   "execution_count": 29,
   "metadata": {},
   "outputs": [],
   "source": [
    "odds(p) = p / (1-p);\n",
    "logit(p) = log(odds(p));\n",
    "\n",
    "f2 = @formula(\n",
    "    encounter ~ 1\n",
    "        + logit(pred_popularity) # Here we re-use the prediction from the popularity model.\n",
    "        + (im_top2 + im_top3 + im_top4 + im_top5)\n",
    "        + (cap_top2 + cap_top3 + cap_top4 + cap_top5)\n",
    "        + image_adult_categorical + image_medical_categorical + image_racy_categorical + image_spoof_categorical + image_violence_categorical\n",
    "    );\n",
    "\n",
    "m2 = glm(f2, df, Binomial(), LogitLink());\n",
    "df.prediction_RQ2 = predict(m2, df);"
   ]
  },
  {
   "cell_type": "markdown",
   "metadata": {},
   "source": [
    "Now we can compare the predictions of the baseline popularity model, and the model that uses topic information in addition to the popularity factors. Differences between the predictions are due to topics. If a topic results in a increased chance of an encouter, we call this a positive bias. To compute the bias, we convert the predictions of both models to log-odds using the logit transform, and compute the difference."
   ]
  },
  {
   "cell_type": "code",
   "execution_count": 30,
   "metadata": {},
   "outputs": [],
   "source": [
    "df.bias = logit.(df.prediction_RQ2) - logit.(df.pred_popularity);"
   ]
  },
  {
   "cell_type": "markdown",
   "metadata": {},
   "source": [
    "Now we can analyze the bias per caption topic."
   ]
  },
  {
   "cell_type": "code",
   "execution_count": 31,
   "metadata": {},
   "outputs": [
    {
     "data": {
      "application/vnd.vegalite.v3+json": {
       "data": {
        "values": [
         {
          "bias_mean": 0.14170754622424933,
          "cap_top_cat": "topic 4"
         },
         {
          "bias_mean": -0.6983037700427512,
          "cap_top_cat": "topic 1"
         },
         {
          "bias_mean": -0.26759941171620416,
          "cap_top_cat": "topic 3"
         },
         {
          "bias_mean": 0.5336780606213938,
          "cap_top_cat": "topic 5"
         },
         {
          "bias_mean": -1.395680397843918,
          "cap_top_cat": "topic 2"
         }
        ]
       },
       "encoding": {
        "color": {
         "field": "bias_mean",
         "type": "quantitative"
        },
        "x": {
         "field": "cap_top_cat",
         "type": "ordinal"
        },
        "y": {
         "field": "bias_mean",
         "type": "quantitative"
        }
       },
       "mark": "bar"
      },
      "image/png": "[encoded data removed]",
      "image/svg+xml": [
       "<svg class=\"marks\" width=\"234\" height=\"266\" viewBox=\"0 0 234 266\" version=\"1.1\" xmlns=\"http://www.w3.org/2000/svg\" xmlns:xlink=\"http://www.w3.org/1999/xlink\"><defs><linearGradient id=\"gradient_0\" x1=\"0\" x2=\"0\" y1=\"1\" y2=\"0\"><stop offset=\"0\" stop-color=\"rgb(207, 225, 242)\"></stop><stop offset=\"0.049591820236466584\" stop-color=\"rgb(199, 221, 239)\"></stop><stop offset=\"0.10142252051988827\" stop-color=\"rgb(190, 216, 236)\"></stop><stop offset=\"0.15325322080330986\" stop-color=\"rgb(178, 211, 232)\"></stop><stop offset=\"0.20508392108673157\" stop-color=\"rgb(167, 205, 229)\"></stop><stop offset=\"0.2569146213701532\" stop-color=\"rgb(154, 199, 225)\"></stop><stop offset=\"0.3087453216535748\" stop-color=\"rgb(141, 192, 221)\"></stop><stop offset=\"0.36057602193699656\" stop-color=\"rgb(127, 184, 218)\"></stop><stop offset=\"0.4124067222204182\" stop-color=\"rgb(113, 176, 214)\"></stop><stop offset=\"0.4642374225038398\" stop-color=\"rgb(100, 168, 210)\"></stop><stop offset=\"0.5160681227872614\" stop-color=\"rgb(87, 160, 206)\"></stop><stop offset=\"0.5678988230706831\" stop-color=\"rgb(76, 151, 201)\"></stop><stop offset=\"0.6197295233541048\" stop-color=\"rgb(65, 143, 196)\"></stop><stop offset=\"0.6715602236375264\" stop-color=\"rgb(55, 134, 192)\"></stop><stop offset=\"0.7233909239209481\" stop-color=\"rgb(45, 125, 186)\"></stop><stop offset=\"0.7752216242043698\" stop-color=\"rgb(36, 115, 181)\"></stop><stop offset=\"0.8270523244877913\" stop-color=\"rgb(28, 106, 174)\"></stop><stop offset=\"0.878883024771213\" stop-color=\"rgb(21, 96, 167)\"></stop><stop offset=\"0.9307137250546348\" stop-color=\"rgb(16, 86, 158)\"></stop><stop offset=\"0.9825444253380563\" stop-color=\"rgb(11, 77, 147)\"></stop><stop offset=\"1\" stop-color=\"rgb(10, 74, 144)\"></stop></linearGradient></defs><g transform=\"translate(46,5)\"><g class=\"mark-group role-frame root\"><g transform=\"translate(0,0)\"><path class=\"background\" d=\"M0.5,0.5h100v200h-100Z\" style=\"fill: none; stroke: #ddd;\"></path><g><g class=\"mark-group role-axis\"><g transform=\"translate(0.5,0.5)\"><path class=\"background\" d=\"M0,0h0v0h0Z\" style=\"pointer-events: none; fill: none;\"></path><g><g class=\"mark-rule role-axis-grid\" style=\"pointer-events: none;\"><line transform=\"translate(0,160)\" x2=\"100\" y2=\"0\" style=\"fill: none; stroke: #ddd; stroke-width: 1; opacity: 1;\"></line><line transform=\"translate(0,110)\" x2=\"100\" y2=\"0\" style=\"fill: none; stroke: #ddd; stroke-width: 1; opacity: 1;\"></line><line transform=\"translate(0,60)\" x2=\"100\" y2=\"0\" style=\"fill: none; stroke: #ddd; stroke-width: 1; opacity: 1;\"></line><line transform=\"translate(0,10)\" x2=\"100\" y2=\"0\" style=\"fill: none; stroke: #ddd; stroke-width: 1; opacity: 1;\"></line></g></g></g></g><g class=\"mark-rect role-mark marks\"><path d=\"M61,45.82924537757507h18v14.170754622424937h-18Z\" style=\"fill: rgb(33, 112, 178);\"></path><path d=\"M1,60.00000000000001h18v69.83037700427514h-18Z\" style=\"fill: rgb(126, 184, 218);\"></path><path d=\"M41,60.00000000000001h18v26.75994117162042h-18Z\" style=\"fill: rgb(72, 149, 199);\"></path><path d=\"M81,6.632193937860631h18v53.36780606213938h-18Z\" style=\"fill: rgb(10, 74, 144);\"></path><path d=\"M21,60.00000000000001h18v139.56803978439183h-18Z\" style=\"fill: rgb(207, 225, 242);\"></path></g><g class=\"mark-group role-legend\"><g transform=\"translate(118,0)\"><path class=\"background\" d=\"M0,0h65v216h-65Z\" style=\"pointer-events: none; fill: none;\"></path><g><g class=\"mark-group role-legend-entry\"><g transform=\"translate(0,16)\"><path class=\"background\" d=\"M0,0h0v0h0Z\" style=\"pointer-events: none; fill: none;\"></path><g><g class=\"mark-rect role-legend-gradient\" style=\"pointer-events: none;\"><path d=\"M0,0h16v200h-16Z\" style=\"fill: url(#gradient_0); stroke: #ddd; stroke-width: 0; opacity: 1;\"></path></g><g class=\"mark-text role-legend-label\" style=\"pointer-events: none;\"><text text-anchor=\"start\" transform=\"translate(18,161.98321578265367)\" style=\"font-family: sans-serif; font-size: 10px; fill: #000; opacity: 1;\">-1.0</text><text text-anchor=\"start\" transform=\"translate(18,110.15251549923204)\" style=\"font-family: sans-serif; font-size: 10px; fill: #000; opacity: 1;\">-0.5</text><text text-anchor=\"start\" transform=\"translate(18,58.32181521581039)\" style=\"font-family: sans-serif; font-size: 10px; fill: #000; opacity: 1;\">0.0</text><text text-anchor=\"start\" transform=\"translate(18,6.491114932388739)\" style=\"font-family: sans-serif; font-size: 10px; fill: #000; opacity: 1;\">0.5</text></g></g></g></g><g class=\"mark-text role-legend-title\" style=\"pointer-events: none;\"><text text-anchor=\"start\" transform=\"translate(0,9)\" style=\"font-family: sans-serif; font-size: 11px; font-weight: bold; fill: #000; opacity: 1;\">bias_mean</text></g></g></g></g><g class=\"mark-group role-axis\"><g transform=\"translate(0.5,200.5)\"><path class=\"background\" d=\"M0,0h0v0h0Z\" style=\"pointer-events: none; fill: none;\"></path><g><g class=\"mark-rule role-axis-tick\" style=\"pointer-events: none;\"><line transform=\"translate(10,0)\" x2=\"0\" y2=\"5\" style=\"fill: none; stroke: #888; stroke-width: 1; opacity: 1;\"></line><line transform=\"translate(30,0)\" x2=\"0\" y2=\"5\" style=\"fill: none; stroke: #888; stroke-width: 1; opacity: 1;\"></line><line transform=\"translate(50,0)\" x2=\"0\" y2=\"5\" style=\"fill: none; stroke: #888; stroke-width: 1; opacity: 1;\"></line><line transform=\"translate(70,0)\" x2=\"0\" y2=\"5\" style=\"fill: none; stroke: #888; stroke-width: 1; opacity: 1;\"></line><line transform=\"translate(90,0)\" x2=\"0\" y2=\"5\" style=\"fill: none; stroke: #888; stroke-width: 1; opacity: 1;\"></line></g><g class=\"mark-text role-axis-label\" style=\"pointer-events: none;\"><text text-anchor=\"end\" transform=\"translate(9.5,7) rotate(270) translate(0,3)\" style=\"font-family: sans-serif; font-size: 10px; fill: #000; opacity: 1;\">topic 1</text><text text-anchor=\"end\" transform=\"translate(29.5,7) rotate(270) translate(0,3)\" style=\"font-family: sans-serif; font-size: 10px; fill: #000; opacity: 1;\">topic 2</text><text text-anchor=\"end\" transform=\"translate(49.5,7) rotate(270) translate(0,3)\" style=\"font-family: sans-serif; font-size: 10px; fill: #000; opacity: 1;\">topic 3</text><text text-anchor=\"end\" transform=\"translate(69.5,7) rotate(270) translate(0,3)\" style=\"font-family: sans-serif; font-size: 10px; fill: #000; opacity: 1;\">topic 4</text><text text-anchor=\"end\" transform=\"translate(89.5,7) rotate(270) translate(0,3)\" style=\"font-family: sans-serif; font-size: 10px; fill: #000; opacity: 1;\">topic 5</text></g><g class=\"mark-rule role-axis-domain\" style=\"pointer-events: none;\"><line transform=\"translate(0,0)\" x2=\"100\" y2=\"0\" style=\"fill: none; stroke: #888; stroke-width: 1; opacity: 1;\"></line></g><g class=\"mark-text role-axis-title\" style=\"pointer-events: none;\"><text text-anchor=\"middle\" transform=\"translate(50,54)\" style=\"font-family: sans-serif; font-size: 11px; font-weight: bold; fill: #000; opacity: 1;\">cap_top_cat</text></g></g></g></g><g class=\"mark-group role-axis\"><g transform=\"translate(0.5,0.5)\"><path class=\"background\" d=\"M0,0h0v0h0Z\" style=\"pointer-events: none; fill: none;\"></path><g><g class=\"mark-rule role-axis-tick\" style=\"pointer-events: none;\"><line transform=\"translate(0,160)\" x2=\"-5\" y2=\"0\" style=\"fill: none; stroke: #888; stroke-width: 1; opacity: 1;\"></line><line transform=\"translate(0,110)\" x2=\"-5\" y2=\"0\" style=\"fill: none; stroke: #888; stroke-width: 1; opacity: 1;\"></line><line transform=\"translate(0,60)\" x2=\"-5\" y2=\"0\" style=\"fill: none; stroke: #888; stroke-width: 1; opacity: 1;\"></line><line transform=\"translate(0,10)\" x2=\"-5\" y2=\"0\" style=\"fill: none; stroke: #888; stroke-width: 1; opacity: 1;\"></line></g><g class=\"mark-text role-axis-label\" style=\"pointer-events: none;\"><text text-anchor=\"end\" transform=\"translate(-7,163)\" style=\"font-family: sans-serif; font-size: 10px; fill: #000; opacity: 1;\">-1.0</text><text text-anchor=\"end\" transform=\"translate(-7,113.00000000000001)\" style=\"font-family: sans-serif; font-size: 10px; fill: #000; opacity: 1;\">-0.5</text><text text-anchor=\"end\" transform=\"translate(-7,63.00000000000001)\" style=\"font-family: sans-serif; font-size: 10px; fill: #000; opacity: 1;\">0.0</text><text text-anchor=\"end\" transform=\"translate(-7,13.000000000000009)\" style=\"font-family: sans-serif; font-size: 10px; fill: #000; opacity: 1;\">0.5</text></g><g class=\"mark-rule role-axis-domain\" style=\"pointer-events: none;\"><line transform=\"translate(0,200)\" x2=\"0\" y2=\"-200\" style=\"fill: none; stroke: #888; stroke-width: 1; opacity: 1;\"></line></g><g class=\"mark-text role-axis-title\" style=\"pointer-events: none;\"><text text-anchor=\"middle\" transform=\"translate(-30,100) rotate(-90) translate(0,-2)\" style=\"font-family: sans-serif; font-size: 11px; font-weight: bold; fill: #000; opacity: 1;\">bias_mean</text></g></g></g></g></g></g></g></g></svg>"
      ],
      "text/plain": [
       "VegaLite.VLSpec{:plot}"
      ]
     },
     "execution_count": 31,
     "metadata": {},
     "output_type": "execute_result"
    }
   ],
   "source": [
    "combine(groupby(df, :cap_top_cat), :bias=>mean) |> \n",
    "    @vlplot(:bar, x=\"cap_top_cat:o\", y=:bias_mean, color=:bias_mean)"
   ]
  },
  {
   "cell_type": "markdown",
   "metadata": {},
   "source": [
    "Images with the topics `bodies`, and `outdoor` are more likely to reach the donor's feed, while `clothing` and images of `food` are less likely to reach the donor's feed."
   ]
  },
  {
   "cell_type": "code",
   "execution_count": 37,
   "metadata": {},
   "outputs": [
    {
     "data": {
      "application/vnd.vegalite.v3+json": {
       "data": {
        "values": [
         {
          "bias_mean": -1.281853431598788,
          "im_top_cat": "clothing"
         },
         {
          "bias_mean": 0.17477204672008517,
          "im_top_cat": "outdoor"
         },
         {
          "bias_mean": -0.6094691393615728,
          "im_top_cat": "text"
         },
         {
          "bias_mean": -0.891654546595476,
          "im_top_cat": "food"
         },
         {
          "bias_mean": 0.12439277004512862,
          "im_top_cat": "bodies"
         }
        ]
       },
       "encoding": {
        "color": {
         "field": "bias_mean",
         "type": "quantitative"
        },
        "x": {
         "field": "im_top_cat",
         "type": "ordinal"
        },
        "y": {
         "field": "bias_mean",
         "type": "quantitative"
        }
       },
       "mark": "bar"
      },
      "image/png": "[encoded data removed]",
      "image/svg+xml": [
       "<svg class=\"marks\" width=\"234\" height=\"272\" viewBox=\"0 0 234 272\" version=\"1.1\" xmlns=\"http://www.w3.org/2000/svg\" xmlns:xlink=\"http://www.w3.org/1999/xlink\"><defs><linearGradient id=\"gradient_0\" x1=\"0\" x2=\"0\" y1=\"1\" y2=\"0\"><stop offset=\"0\" stop-color=\"rgb(207, 225, 242)\"></stop><stop offset=\"0.056193876062951356\" stop-color=\"rgb(197, 220, 239)\"></stop><stop offset=\"0.12484570282861543\" stop-color=\"rgb(185, 214, 234)\"></stop><stop offset=\"0.19349752959427965\" stop-color=\"rgb(169, 207, 229)\"></stop><stop offset=\"0.26214935635994385\" stop-color=\"rgb(152, 198, 225)\"></stop><stop offset=\"0.33080118312560797\" stop-color=\"rgb(135, 188, 220)\"></stop><stop offset=\"0.3994530098912722\" stop-color=\"rgb(116, 178, 215)\"></stop><stop offset=\"0.46810483665693636\" stop-color=\"rgb(99, 168, 210)\"></stop><stop offset=\"0.5367566634226005\" stop-color=\"rgb(83, 157, 204)\"></stop><stop offset=\"0.6054084901882647\" stop-color=\"rgb(68, 145, 198)\"></stop><stop offset=\"0.6740603169539289\" stop-color=\"rgb(54, 133, 191)\"></stop><stop offset=\"0.742712143719593\" stop-color=\"rgb(42, 121, 184)\"></stop><stop offset=\"0.8113639704852572\" stop-color=\"rgb(30, 109, 176)\"></stop><stop offset=\"0.8800157972509214\" stop-color=\"rgb(21, 96, 167)\"></stop><stop offset=\"0.9486676240165857\" stop-color=\"rgb(14, 83, 154)\"></stop><stop offset=\"1\" stop-color=\"rgb(10, 74, 144)\"></stop></linearGradient></defs><g transform=\"translate(46,5)\"><g class=\"mark-group role-frame root\"><g transform=\"translate(0,0)\"><path class=\"background\" d=\"M0.5,0.5h100v200h-100Z\" style=\"fill: none; stroke: #ddd;\"></path><g><g class=\"mark-group role-axis\"><g transform=\"translate(0.5,0.5)\"><path class=\"background\" d=\"M0,0h0v0h0Z\" style=\"pointer-events: none; fill: none;\"></path><g><g class=\"mark-rule role-axis-grid\" style=\"pointer-events: none;\"><line transform=\"translate(0,150)\" x2=\"100\" y2=\"0\" style=\"fill: none; stroke: #ddd; stroke-width: 1; opacity: 1;\"></line><line transform=\"translate(0,88)\" x2=\"100\" y2=\"0\" style=\"fill: none; stroke: #ddd; stroke-width: 1; opacity: 1;\"></line><line transform=\"translate(0,25)\" x2=\"100\" y2=\"0\" style=\"fill: none; stroke: #ddd; stroke-width: 1; opacity: 1;\"></line></g></g></g></g><g class=\"mark-rect role-mark marks\"><path d=\"M21,25h18v160.23167894984852h-18Z\" style=\"fill: rgb(207, 225, 242);\"></path><path d=\"M61,3.1534941599893562h18v21.846505840010643h-18Z\" style=\"fill: rgb(10, 74, 144);\"></path><path d=\"M81,25h18v76.18364242019659h-18Z\" style=\"fill: rgb(101, 169, 210);\"></path><path d=\"M41,25h18v111.45681832443452h-18Z\" style=\"fill: rgb(151, 197, 224);\"></path><path d=\"M1,9.450903744358929h18v15.549096255641071h-18Z\" style=\"fill: rgb(13, 80, 151);\"></path></g><g class=\"mark-group role-legend\"><g transform=\"translate(118,0)\"><path class=\"background\" d=\"M0,0h65v216h-65Z\" style=\"pointer-events: none; fill: none;\"></path><g><g class=\"mark-group role-legend-entry\"><g transform=\"translate(0,16)\"><path class=\"background\" d=\"M0,0h0v0h0Z\" style=\"pointer-events: none; fill: none;\"></path><g><g class=\"mark-rect role-legend-gradient\" style=\"pointer-events: none;\"><path d=\"M0,0h16v200h-16Z\" style=\"fill: url(#gradient_0); stroke: #ddd; stroke-width: 0; opacity: 1;\"></path></g><g class=\"mark-text role-legend-label\" style=\"pointer-events: none;\"><text text-anchor=\"start\" transform=\"translate(18,164.30049408114405)\" style=\"font-family: sans-serif; font-size: 10px; fill: #000; opacity: 1;\">-1.0</text><text text-anchor=\"start\" transform=\"translate(18,95.6486673154799)\" style=\"font-family: sans-serif; font-size: 10px; fill: #000; opacity: 1;\">-0.5</text><text text-anchor=\"start\" transform=\"translate(18,26.996840549815722)\" style=\"font-family: sans-serif; font-size: 10px; fill: #000; opacity: 1;\">0.0</text></g></g></g></g><g class=\"mark-text role-legend-title\" style=\"pointer-events: none;\"><text text-anchor=\"start\" transform=\"translate(0,9)\" style=\"font-family: sans-serif; font-size: 11px; font-weight: bold; fill: #000; opacity: 1;\">bias_mean</text></g></g></g></g><g class=\"mark-group role-axis\"><g transform=\"translate(0.5,200.5)\"><path class=\"background\" d=\"M0,0h0v0h0Z\" style=\"pointer-events: none; fill: none;\"></path><g><g class=\"mark-rule role-axis-tick\" style=\"pointer-events: none;\"><line transform=\"translate(10,0)\" x2=\"0\" y2=\"5\" style=\"fill: none; stroke: #888; stroke-width: 1; opacity: 1;\"></line><line transform=\"translate(30,0)\" x2=\"0\" y2=\"5\" style=\"fill: none; stroke: #888; stroke-width: 1; opacity: 1;\"></line><line transform=\"translate(50,0)\" x2=\"0\" y2=\"5\" style=\"fill: none; stroke: #888; stroke-width: 1; opacity: 1;\"></line><line transform=\"translate(70,0)\" x2=\"0\" y2=\"5\" style=\"fill: none; stroke: #888; stroke-width: 1; opacity: 1;\"></line><line transform=\"translate(90,0)\" x2=\"0\" y2=\"5\" style=\"fill: none; stroke: #888; stroke-width: 1; opacity: 1;\"></line></g><g class=\"mark-text role-axis-label\" style=\"pointer-events: none;\"><text text-anchor=\"end\" transform=\"translate(9.5,7) rotate(270) translate(0,3)\" style=\"font-family: sans-serif; font-size: 10px; fill: #000; opacity: 1;\">bodies</text><text text-anchor=\"end\" transform=\"translate(29.5,7) rotate(270) translate(0,3)\" style=\"font-family: sans-serif; font-size: 10px; fill: #000; opacity: 1;\">clothing</text><text text-anchor=\"end\" transform=\"translate(49.5,7) rotate(270) translate(0,3)\" style=\"font-family: sans-serif; font-size: 10px; fill: #000; opacity: 1;\">food</text><text text-anchor=\"end\" transform=\"translate(69.5,7) rotate(270) translate(0,3)\" style=\"font-family: sans-serif; font-size: 10px; fill: #000; opacity: 1;\">outdoor</text><text text-anchor=\"end\" transform=\"translate(89.5,7) rotate(270) translate(0,3)\" style=\"font-family: sans-serif; font-size: 10px; fill: #000; opacity: 1;\">text</text></g><g class=\"mark-rule role-axis-domain\" style=\"pointer-events: none;\"><line transform=\"translate(0,0)\" x2=\"100\" y2=\"0\" style=\"fill: none; stroke: #888; stroke-width: 1; opacity: 1;\"></line></g><g class=\"mark-text role-axis-title\" style=\"pointer-events: none;\"><text text-anchor=\"middle\" transform=\"translate(50,60)\" style=\"font-family: sans-serif; font-size: 11px; font-weight: bold; fill: #000; opacity: 1;\">im_top_cat</text></g></g></g></g><g class=\"mark-group role-axis\"><g transform=\"translate(0.5,0.5)\"><path class=\"background\" d=\"M0,0h0v0h0Z\" style=\"pointer-events: none; fill: none;\"></path><g><g class=\"mark-rule role-axis-tick\" style=\"pointer-events: none;\"><line transform=\"translate(0,150)\" x2=\"-5\" y2=\"0\" style=\"fill: none; stroke: #888; stroke-width: 1; opacity: 1;\"></line><line transform=\"translate(0,88)\" x2=\"-5\" y2=\"0\" style=\"fill: none; stroke: #888; stroke-width: 1; opacity: 1;\"></line><line transform=\"translate(0,25)\" x2=\"-5\" y2=\"0\" style=\"fill: none; stroke: #888; stroke-width: 1; opacity: 1;\"></line></g><g class=\"mark-text role-axis-label\" style=\"pointer-events: none;\"><text text-anchor=\"end\" transform=\"translate(-7,153)\" style=\"font-family: sans-serif; font-size: 10px; fill: #000; opacity: 1;\">-1.0</text><text text-anchor=\"end\" transform=\"translate(-7,90.5)\" style=\"font-family: sans-serif; font-size: 10px; fill: #000; opacity: 1;\">-0.5</text><text text-anchor=\"end\" transform=\"translate(-7,28)\" style=\"font-family: sans-serif; font-size: 10px; fill: #000; opacity: 1;\">0.0</text></g><g class=\"mark-rule role-axis-domain\" style=\"pointer-events: none;\"><line transform=\"translate(0,200)\" x2=\"0\" y2=\"-200\" style=\"fill: none; stroke: #888; stroke-width: 1; opacity: 1;\"></line></g><g class=\"mark-text role-axis-title\" style=\"pointer-events: none;\"><text text-anchor=\"middle\" transform=\"translate(-30,100) rotate(-90) translate(0,-2)\" style=\"font-family: sans-serif; font-size: 11px; font-weight: bold; fill: #000; opacity: 1;\">bias_mean</text></g></g></g></g></g></g></g></g></svg>"
      ],
      "text/plain": [
       "VegaLite.VLSpec{:plot}"
      ]
     },
     "execution_count": 37,
     "metadata": {},
     "output_type": "execute_result"
    }
   ],
   "source": [
    "combine(groupby(df, :im_top_cat), :bias=>mean) |> \n",
    "    @vlplot(:bar, x=\"im_top_cat:o\", y=:bias_mean, color=:bias_mean)"
   ]
  },
  {
   "cell_type": "markdown",
   "metadata": {},
   "source": [
    " Note that this bias might not generalize to other posters, and might not generalize to other users than the donors that participated in this experiment."
   ]
  },
  {
   "cell_type": "markdown",
   "metadata": {},
   "source": [
    "## RQ3: Is the overrepresentation the same in all subgroups? \n",
    "\n",
    "Do the results hold robustly in sub groups? If so, they are more likely to generalize to a wider population. Here we split the data in months, and analyze if the bias is indeed higher for encountered posts than non-encountered posts in each month."
   ]
  },
  {
   "cell_type": "code",
   "execution_count": 33,
   "metadata": {},
   "outputs": [
    {
     "data": {
      "application/vnd.vegalite.v3+json": {
       "data": {
        "values": [
         {
          "bias_mean": -0.23671199621557681,
          "encounter": 0,
          "period": "2020-07-01T00:00:00"
         },
         {
          "bias_mean": -0.06901098243407984,
          "encounter": 0,
          "period": "2020-08-01T00:00:00"
         },
         {
          "bias_mean": 0.16125365235466604,
          "encounter": 1,
          "period": "2020-08-01T00:00:00"
         },
         {
          "bias_mean": -0.2960909363370729,
          "encounter": 0,
          "period": "2020-09-01T00:00:00"
         },
         {
          "bias_mean": 0.3652824254790728,
          "encounter": 1,
          "period": "2020-09-01T00:00:00"
         },
         {
          "bias_mean": -1.0215134924700848,
          "encounter": 0,
          "period": "2020-10-01T00:00:00"
         },
         {
          "bias_mean": 0.1897271326416624,
          "encounter": 1,
          "period": "2020-10-01T00:00:00"
         },
         {
          "bias_mean": -1.6681050462794587,
          "encounter": 0,
          "period": "2020-11-01T00:00:00"
         },
         {
          "bias_mean": -2.5156890262874203,
          "encounter": 0,
          "period": "2020-12-01T00:00:00"
         },
         {
          "bias_mean": 0.18880793576219146,
          "encounter": 1,
          "period": "2020-12-01T00:00:00"
         },
         {
          "bias_mean": 0.0660623670652933,
          "encounter": 1,
          "period": "2020-11-01T00:00:00"
         },
         {
          "bias_mean": 0.181575860352261,
          "encounter": 1,
          "period": "2020-07-01T00:00:00"
         }
        ]
       },
       "encoding": {
        "color": {
         "field": "encounter",
         "type": "ordinal"
        },
        "column": {
         "field": "period",
         "timeUnit": "yearmonth",
         "type": "ordinal"
        },
        "x": {
         "field": "encounter",
         "type": "ordinal"
        },
        "y": {
         "axis": {
          "title": "bias"
         },
         "field": "bias_mean",
         "type": "quantitative"
        }
       },
       "mark": "bar"
      },
      "image/png": "[encoded data removed]",
      "image/svg+xml": [
       "<svg class=\"marks\" width=\"495\" height=\"291\" viewBox=\"0 0 495 291\" version=\"1.1\" xmlns=\"http://www.w3.org/2000/svg\" xmlns:xlink=\"http://www.w3.org/1999/xlink\"><g transform=\"translate(47,57)\"><g class=\"mark-group role-frame root\"><g transform=\"translate(0,0)\"><path class=\"background\" d=\"M0,0h0v0h0Z\" style=\"fill: none;\"></path><g><g class=\"mark-group role-column-title column-title\"><g transform=\"translate(175,-31)\"><path class=\"background\" d=\"M0,0h0v0h0Z\" style=\"fill: none;\"></path><g><g class=\"mark-group role-title\"><g transform=\"translate(0,-21)\"><path class=\"background\" d=\"M0,0h0v0h0Z\" style=\"pointer-events: none; fill: none;\"></path><g><g class=\"mark-text role-title-text\" style=\"pointer-events: none;\"><text text-anchor=\"middle\" transform=\"translate(0,9)\" style=\"font-family: sans-serif; font-size: 11px; font-weight: bold; fill: #000; opacity: 1;\">period (year-month)</text></g></g></g></g></g></g></g><g class=\"mark-group role-row-header row_header\"><g transform=\"translate(-1,0)\"><path class=\"background\" d=\"M0,0h0v200h0Z\" style=\"fill: none;\"></path><g><g class=\"mark-group role-axis\"><g transform=\"translate(0.5,0.5)\"><path class=\"background\" d=\"M0,0h0v0h0Z\" style=\"pointer-events: none; fill: none;\"></path><g><g class=\"mark-rule role-axis-tick\" style=\"pointer-events: none;\"><line transform=\"translate(0,193)\" x2=\"-5\" y2=\"0\" style=\"fill: none; stroke: #888; stroke-width: 1; opacity: 1;\"></line><line transform=\"translate(0,160)\" x2=\"-5\" y2=\"0\" style=\"fill: none; stroke: #888; stroke-width: 1; opacity: 1;\"></line><line transform=\"translate(0,127)\" x2=\"-5\" y2=\"0\" style=\"fill: none; stroke: #888; stroke-width: 1; opacity: 1;\"></line><line transform=\"translate(0,93)\" x2=\"-5\" y2=\"0\" style=\"fill: none; stroke: #888; stroke-width: 1; opacity: 1;\"></line><line transform=\"translate(0,60)\" x2=\"-5\" y2=\"0\" style=\"fill: none; stroke: #888; stroke-width: 1; opacity: 1;\"></line><line transform=\"translate(0,27)\" x2=\"-5\" y2=\"0\" style=\"fill: none; stroke: #888; stroke-width: 1; opacity: 1;\"></line></g><g class=\"mark-text role-axis-label\" style=\"pointer-events: none;\"><text text-anchor=\"end\" transform=\"translate(-7,196.33333333333334)\" style=\"font-family: sans-serif; font-size: 10px; fill: #000; opacity: 1;\">-2.5</text><text text-anchor=\"end\" transform=\"translate(-7,163)\" style=\"font-family: sans-serif; font-size: 10px; fill: #000; opacity: 1;\">-2.0</text><text text-anchor=\"end\" transform=\"translate(-7,129.66666666666666)\" style=\"font-family: sans-serif; font-size: 10px; fill: #000; opacity: 1;\">-1.5</text><text text-anchor=\"end\" transform=\"translate(-7,96.33333333333333)\" style=\"font-family: sans-serif; font-size: 10px; fill: #000; opacity: 1;\">-1.0</text><text text-anchor=\"end\" transform=\"translate(-7,62.999999999999986)\" style=\"font-family: sans-serif; font-size: 10px; fill: #000; opacity: 1;\">-0.5</text><text text-anchor=\"end\" transform=\"translate(-7,29.66666666666666)\" style=\"font-family: sans-serif; font-size: 10px; fill: #000; opacity: 1;\">0.0</text></g><g class=\"mark-rule role-axis-domain\" style=\"pointer-events: none;\"><line transform=\"translate(0,200)\" x2=\"0\" y2=\"-200\" style=\"fill: none; stroke: #888; stroke-width: 1; opacity: 1;\"></line></g><g class=\"mark-text role-axis-title\" style=\"pointer-events: none;\"><text text-anchor=\"middle\" transform=\"translate(-30,100) rotate(-90) translate(0,-2)\" style=\"font-family: sans-serif; font-size: 11px; font-weight: bold; fill: #000; opacity: 1;\">bias</text></g></g></g></g></g></g></g><g class=\"mark-group role-column-header column_header\"><g transform=\"translate(0,-1)\"><path class=\"background\" d=\"M0,0h40v0h-40Z\" style=\"fill: none;\"></path><g><g class=\"mark-group role-title\"><g transform=\"translate(20,-20)\"><path class=\"background\" d=\"M0,0h0v0h0Z\" style=\"pointer-events: none; fill: none;\"></path><g><g class=\"mark-text role-title-text\" style=\"pointer-events: none;\"><text text-anchor=\"middle\" transform=\"translate(0,8)\" style=\"font-family: sans-serif; font-size: 10px; fill: #000; opacity: 1;\">Jul 2020</text></g></g></g></g></g></g><g transform=\"translate(62,-1)\"><path class=\"background\" d=\"M0,0h40v0h-40Z\" style=\"fill: none;\"></path><g><g class=\"mark-group role-title\"><g transform=\"translate(20,-20)\"><path class=\"background\" d=\"M0,0h0v0h0Z\" style=\"pointer-events: none; fill: none;\"></path><g><g class=\"mark-text role-title-text\" style=\"pointer-events: none;\"><text text-anchor=\"middle\" transform=\"translate(0,8)\" style=\"font-family: sans-serif; font-size: 10px; fill: #000; opacity: 1;\">Aug 2020</text></g></g></g></g></g></g><g transform=\"translate(124,-1)\"><path class=\"background\" d=\"M0,0h40v0h-40Z\" style=\"fill: none;\"></path><g><g class=\"mark-group role-title\"><g transform=\"translate(20,-20)\"><path class=\"background\" d=\"M0,0h0v0h0Z\" style=\"pointer-events: none; fill: none;\"></path><g><g class=\"mark-text role-title-text\" style=\"pointer-events: none;\"><text text-anchor=\"middle\" transform=\"translate(0,8)\" style=\"font-family: sans-serif; font-size: 10px; fill: #000; opacity: 1;\">Sep 2020</text></g></g></g></g></g></g><g transform=\"translate(186,-1)\"><path class=\"background\" d=\"M0,0h40v0h-40Z\" style=\"fill: none;\"></path><g><g class=\"mark-group role-title\"><g transform=\"translate(20,-20)\"><path class=\"background\" d=\"M0,0h0v0h0Z\" style=\"pointer-events: none; fill: none;\"></path><g><g class=\"mark-text role-title-text\" style=\"pointer-events: none;\"><text text-anchor=\"middle\" transform=\"translate(0,8)\" style=\"font-family: sans-serif; font-size: 10px; fill: #000; opacity: 1;\">Oct 2020</text></g></g></g></g></g></g><g transform=\"translate(248,-1)\"><path class=\"background\" d=\"M0,0h40v0h-40Z\" style=\"fill: none;\"></path><g><g class=\"mark-group role-title\"><g transform=\"translate(20,-20)\"><path class=\"background\" d=\"M0,0h0v0h0Z\" style=\"pointer-events: none; fill: none;\"></path><g><g class=\"mark-text role-title-text\" style=\"pointer-events: none;\"><text text-anchor=\"middle\" transform=\"translate(0,8)\" style=\"font-family: sans-serif; font-size: 10px; fill: #000; opacity: 1;\">Nov 2020</text></g></g></g></g></g></g><g transform=\"translate(310,-1)\"><path class=\"background\" d=\"M0,0h40v0h-40Z\" style=\"fill: none;\"></path><g><g class=\"mark-group role-title\"><g transform=\"translate(20,-20)\"><path class=\"background\" d=\"M0,0h0v0h0Z\" style=\"pointer-events: none; fill: none;\"></path><g><g class=\"mark-text role-title-text\" style=\"pointer-events: none;\"><text text-anchor=\"middle\" transform=\"translate(0,8)\" style=\"font-family: sans-serif; font-size: 10px; fill: #000; opacity: 1;\">Dec 2020</text></g></g></g></g></g></g></g><g class=\"mark-group role-column-footer column_footer\"><g transform=\"translate(0,201)\"><path class=\"background\" d=\"M0,0h40v0h-40Z\" style=\"fill: none;\"></path><g><g class=\"mark-group role-axis\"><g transform=\"translate(0.5,0.5)\"><path class=\"background\" d=\"M0,0h0v0h0Z\" style=\"pointer-events: none; fill: none;\"></path><g><g class=\"mark-rule role-axis-tick\" style=\"pointer-events: none;\"><line transform=\"translate(10,0)\" x2=\"0\" y2=\"5\" style=\"fill: none; stroke: #888; stroke-width: 1; opacity: 1;\"></line><line transform=\"translate(30,0)\" x2=\"0\" y2=\"5\" style=\"fill: none; stroke: #888; stroke-width: 1; opacity: 1;\"></line></g><g class=\"mark-text role-axis-label\" style=\"pointer-events: none;\"><text text-anchor=\"end\" transform=\"translate(9.5,7) rotate(270) translate(0,3)\" style=\"font-family: sans-serif; font-size: 10px; fill: #000; opacity: 1;\">0</text><text text-anchor=\"end\" transform=\"translate(29.5,7) rotate(270) translate(0,3)\" style=\"font-family: sans-serif; font-size: 10px; fill: #000; opacity: 1;\">1</text></g><g class=\"mark-rule role-axis-domain\" style=\"pointer-events: none;\"><line transform=\"translate(0,0)\" x2=\"40\" y2=\"0\" style=\"fill: none; stroke: #888; stroke-width: 1; opacity: 1;\"></line></g><g class=\"mark-text role-axis-title\" style=\"pointer-events: none;\"><text text-anchor=\"middle\" transform=\"translate(20,26)\" style=\"font-family: sans-serif; font-size: 11px; font-weight: bold; fill: #000; opacity: 1;\">encounter</text></g></g></g></g></g></g><g transform=\"translate(62,201)\"><path class=\"background\" d=\"M0,0h40v0h-40Z\" style=\"fill: none;\"></path><g><g class=\"mark-group role-axis\"><g transform=\"translate(0.5,0.5)\"><path class=\"background\" d=\"M0,0h0v0h0Z\" style=\"pointer-events: none; fill: none;\"></path><g><g class=\"mark-rule role-axis-tick\" style=\"pointer-events: none;\"><line transform=\"translate(10,0)\" x2=\"0\" y2=\"5\" style=\"fill: none; stroke: #888; stroke-width: 1; opacity: 1;\"></line><line transform=\"translate(30,0)\" x2=\"0\" y2=\"5\" style=\"fill: none; stroke: #888; stroke-width: 1; opacity: 1;\"></line></g><g class=\"mark-text role-axis-label\" style=\"pointer-events: none;\"><text text-anchor=\"end\" transform=\"translate(9.5,7) rotate(270) translate(0,3)\" style=\"font-family: sans-serif; font-size: 10px; fill: #000; opacity: 1;\">0</text><text text-anchor=\"end\" transform=\"translate(29.5,7) rotate(270) translate(0,3)\" style=\"font-family: sans-serif; font-size: 10px; fill: #000; opacity: 1;\">1</text></g><g class=\"mark-rule role-axis-domain\" style=\"pointer-events: none;\"><line transform=\"translate(0,0)\" x2=\"40\" y2=\"0\" style=\"fill: none; stroke: #888; stroke-width: 1; opacity: 1;\"></line></g><g class=\"mark-text role-axis-title\" style=\"pointer-events: none;\"><text text-anchor=\"middle\" transform=\"translate(20,26)\" style=\"font-family: sans-serif; font-size: 11px; font-weight: bold; fill: #000; opacity: 1;\">encounter</text></g></g></g></g></g></g><g transform=\"translate(124,201)\"><path class=\"background\" d=\"M0,0h40v0h-40Z\" style=\"fill: none;\"></path><g><g class=\"mark-group role-axis\"><g transform=\"translate(0.5,0.5)\"><path class=\"background\" d=\"M0,0h0v0h0Z\" style=\"pointer-events: none; fill: none;\"></path><g><g class=\"mark-rule role-axis-tick\" style=\"pointer-events: none;\"><line transform=\"translate(10,0)\" x2=\"0\" y2=\"5\" style=\"fill: none; stroke: #888; stroke-width: 1; opacity: 1;\"></line><line transform=\"translate(30,0)\" x2=\"0\" y2=\"5\" style=\"fill: none; stroke: #888; stroke-width: 1; opacity: 1;\"></line></g><g class=\"mark-text role-axis-label\" style=\"pointer-events: none;\"><text text-anchor=\"end\" transform=\"translate(9.5,7) rotate(270) translate(0,3)\" style=\"font-family: sans-serif; font-size: 10px; fill: #000; opacity: 1;\">0</text><text text-anchor=\"end\" transform=\"translate(29.5,7) rotate(270) translate(0,3)\" style=\"font-family: sans-serif; font-size: 10px; fill: #000; opacity: 1;\">1</text></g><g class=\"mark-rule role-axis-domain\" style=\"pointer-events: none;\"><line transform=\"translate(0,0)\" x2=\"40\" y2=\"0\" style=\"fill: none; stroke: #888; stroke-width: 1; opacity: 1;\"></line></g><g class=\"mark-text role-axis-title\" style=\"pointer-events: none;\"><text text-anchor=\"middle\" transform=\"translate(20,26)\" style=\"font-family: sans-serif; font-size: 11px; font-weight: bold; fill: #000; opacity: 1;\">encounter</text></g></g></g></g></g></g><g transform=\"translate(186,201)\"><path class=\"background\" d=\"M0,0h40v0h-40Z\" style=\"fill: none;\"></path><g><g class=\"mark-group role-axis\"><g transform=\"translate(0.5,0.5)\"><path class=\"background\" d=\"M0,0h0v0h0Z\" style=\"pointer-events: none; fill: none;\"></path><g><g class=\"mark-rule role-axis-tick\" style=\"pointer-events: none;\"><line transform=\"translate(10,0)\" x2=\"0\" y2=\"5\" style=\"fill: none; stroke: #888; stroke-width: 1; opacity: 1;\"></line><line transform=\"translate(30,0)\" x2=\"0\" y2=\"5\" style=\"fill: none; stroke: #888; stroke-width: 1; opacity: 1;\"></line></g><g class=\"mark-text role-axis-label\" style=\"pointer-events: none;\"><text text-anchor=\"end\" transform=\"translate(9.5,7) rotate(270) translate(0,3)\" style=\"font-family: sans-serif; font-size: 10px; fill: #000; opacity: 1;\">0</text><text text-anchor=\"end\" transform=\"translate(29.5,7) rotate(270) translate(0,3)\" style=\"font-family: sans-serif; font-size: 10px; fill: #000; opacity: 1;\">1</text></g><g class=\"mark-rule role-axis-domain\" style=\"pointer-events: none;\"><line transform=\"translate(0,0)\" x2=\"40\" y2=\"0\" style=\"fill: none; stroke: #888; stroke-width: 1; opacity: 1;\"></line></g><g class=\"mark-text role-axis-title\" style=\"pointer-events: none;\"><text text-anchor=\"middle\" transform=\"translate(20,26)\" style=\"font-family: sans-serif; font-size: 11px; font-weight: bold; fill: #000; opacity: 1;\">encounter</text></g></g></g></g></g></g><g transform=\"translate(248,201)\"><path class=\"background\" d=\"M0,0h40v0h-40Z\" style=\"fill: none;\"></path><g><g class=\"mark-group role-axis\"><g transform=\"translate(0.5,0.5)\"><path class=\"background\" d=\"M0,0h0v0h0Z\" style=\"pointer-events: none; fill: none;\"></path><g><g class=\"mark-rule role-axis-tick\" style=\"pointer-events: none;\"><line transform=\"translate(10,0)\" x2=\"0\" y2=\"5\" style=\"fill: none; stroke: #888; stroke-width: 1; opacity: 1;\"></line><line transform=\"translate(30,0)\" x2=\"0\" y2=\"5\" style=\"fill: none; stroke: #888; stroke-width: 1; opacity: 1;\"></line></g><g class=\"mark-text role-axis-label\" style=\"pointer-events: none;\"><text text-anchor=\"end\" transform=\"translate(9.5,7) rotate(270) translate(0,3)\" style=\"font-family: sans-serif; font-size: 10px; fill: #000; opacity: 1;\">0</text><text text-anchor=\"end\" transform=\"translate(29.5,7) rotate(270) translate(0,3)\" style=\"font-family: sans-serif; font-size: 10px; fill: #000; opacity: 1;\">1</text></g><g class=\"mark-rule role-axis-domain\" style=\"pointer-events: none;\"><line transform=\"translate(0,0)\" x2=\"40\" y2=\"0\" style=\"fill: none; stroke: #888; stroke-width: 1; opacity: 1;\"></line></g><g class=\"mark-text role-axis-title\" style=\"pointer-events: none;\"><text text-anchor=\"middle\" transform=\"translate(20,26)\" style=\"font-family: sans-serif; font-size: 11px; font-weight: bold; fill: #000; opacity: 1;\">encounter</text></g></g></g></g></g></g><g transform=\"translate(310,201)\"><path class=\"background\" d=\"M0,0h40v0h-40Z\" style=\"fill: none;\"></path><g><g class=\"mark-group role-axis\"><g transform=\"translate(0.5,0.5)\"><path class=\"background\" d=\"M0,0h0v0h0Z\" style=\"pointer-events: none; fill: none;\"></path><g><g class=\"mark-rule role-axis-tick\" style=\"pointer-events: none;\"><line transform=\"translate(10,0)\" x2=\"0\" y2=\"5\" style=\"fill: none; stroke: #888; stroke-width: 1; opacity: 1;\"></line><line transform=\"translate(30,0)\" x2=\"0\" y2=\"5\" style=\"fill: none; stroke: #888; stroke-width: 1; opacity: 1;\"></line></g><g class=\"mark-text role-axis-label\" style=\"pointer-events: none;\"><text text-anchor=\"end\" transform=\"translate(9.5,7) rotate(270) translate(0,3)\" style=\"font-family: sans-serif; font-size: 10px; fill: #000; opacity: 1;\">0</text><text text-anchor=\"end\" transform=\"translate(29.5,7) rotate(270) translate(0,3)\" style=\"font-family: sans-serif; font-size: 10px; fill: #000; opacity: 1;\">1</text></g><g class=\"mark-rule role-axis-domain\" style=\"pointer-events: none;\"><line transform=\"translate(0,0)\" x2=\"40\" y2=\"0\" style=\"fill: none; stroke: #888; stroke-width: 1; opacity: 1;\"></line></g><g class=\"mark-text role-axis-title\" style=\"pointer-events: none;\"><text text-anchor=\"middle\" transform=\"translate(20,26)\" style=\"font-family: sans-serif; font-size: 11px; font-weight: bold; fill: #000; opacity: 1;\">encounter</text></g></g></g></g></g></g></g><g class=\"mark-group role-scope cell\"><g transform=\"translate(0,0)\"><path class=\"background\" d=\"M0.5,0.5h40v200h-40Z\" style=\"fill: none; stroke: #ddd;\"></path><g><g class=\"mark-group role-axis\"><g transform=\"translate(0.5,0.5)\"><path class=\"background\" d=\"M0,0h0v0h0Z\" style=\"pointer-events: none; fill: none;\"></path><g><g class=\"mark-rule role-axis-grid\" style=\"pointer-events: none;\"><line transform=\"translate(0,193)\" x2=\"40\" y2=\"0\" style=\"fill: none; stroke: #ddd; stroke-width: 1; opacity: 1;\"></line><line transform=\"translate(0,160)\" x2=\"40\" y2=\"0\" style=\"fill: none; stroke: #ddd; stroke-width: 1; opacity: 1;\"></line><line transform=\"translate(0,127)\" x2=\"40\" y2=\"0\" style=\"fill: none; stroke: #ddd; stroke-width: 1; opacity: 1;\"></line><line transform=\"translate(0,93)\" x2=\"40\" y2=\"0\" style=\"fill: none; stroke: #ddd; stroke-width: 1; opacity: 1;\"></line><line transform=\"translate(0,60)\" x2=\"40\" y2=\"0\" style=\"fill: none; stroke: #ddd; stroke-width: 1; opacity: 1;\"></line><line transform=\"translate(0,27)\" x2=\"40\" y2=\"0\" style=\"fill: none; stroke: #ddd; stroke-width: 1; opacity: 1;\"></line></g></g></g></g><g class=\"mark-rect role-mark child_marks\"><path d=\"M1,26.66666666666666h18v15.780799747705121h-18Z\" style=\"fill: rgb(134, 188, 220);\"></path><path d=\"M21,14.561609309849267h18v12.105057356817394h-18Z\" style=\"fill: rgb(56, 135, 192);\"></path></g></g></g><g transform=\"translate(62,0)\"><path class=\"background\" d=\"M0.5,0.5h40v200h-40Z\" style=\"fill: none; stroke: #ddd;\"></path><g><g class=\"mark-group role-axis\"><g transform=\"translate(0.5,0.5)\"><path class=\"background\" d=\"M0,0h0v0h0Z\" style=\"pointer-events: none; fill: none;\"></path><g><g class=\"mark-rule role-axis-grid\" style=\"pointer-events: none;\"><line transform=\"translate(0,193)\" x2=\"40\" y2=\"0\" style=\"fill: none; stroke: #ddd; stroke-width: 1; opacity: 1;\"></line><line transform=\"translate(0,160)\" x2=\"40\" y2=\"0\" style=\"fill: none; stroke: #ddd; stroke-width: 1; opacity: 1;\"></line><line transform=\"translate(0,127)\" x2=\"40\" y2=\"0\" style=\"fill: none; stroke: #ddd; stroke-width: 1; opacity: 1;\"></line><line transform=\"translate(0,93)\" x2=\"40\" y2=\"0\" style=\"fill: none; stroke: #ddd; stroke-width: 1; opacity: 1;\"></line><line transform=\"translate(0,60)\" x2=\"40\" y2=\"0\" style=\"fill: none; stroke: #ddd; stroke-width: 1; opacity: 1;\"></line><line transform=\"translate(0,27)\" x2=\"40\" y2=\"0\" style=\"fill: none; stroke: #ddd; stroke-width: 1; opacity: 1;\"></line></g></g></g></g><g class=\"mark-rect role-mark child_marks\"><path d=\"M1,26.66666666666666h18v4.600732162271992h-18Z\" style=\"fill: rgb(134, 188, 220);\"></path><path d=\"M21,15.916423176355575h18v10.750243490311085h-18Z\" style=\"fill: rgb(56, 135, 192);\"></path></g></g></g><g transform=\"translate(124,0)\"><path class=\"background\" d=\"M0.5,0.5h40v200h-40Z\" style=\"fill: none; stroke: #ddd;\"></path><g><g class=\"mark-group role-axis\"><g transform=\"translate(0.5,0.5)\"><path class=\"background\" d=\"M0,0h0v0h0Z\" style=\"pointer-events: none; fill: none;\"></path><g><g class=\"mark-rule role-axis-grid\" style=\"pointer-events: none;\"><line transform=\"translate(0,193)\" x2=\"40\" y2=\"0\" style=\"fill: none; stroke: #ddd; stroke-width: 1; opacity: 1;\"></line><line transform=\"translate(0,160)\" x2=\"40\" y2=\"0\" style=\"fill: none; stroke: #ddd; stroke-width: 1; opacity: 1;\"></line><line transform=\"translate(0,127)\" x2=\"40\" y2=\"0\" style=\"fill: none; stroke: #ddd; stroke-width: 1; opacity: 1;\"></line><line transform=\"translate(0,93)\" x2=\"40\" y2=\"0\" style=\"fill: none; stroke: #ddd; stroke-width: 1; opacity: 1;\"></line><line transform=\"translate(0,60)\" x2=\"40\" y2=\"0\" style=\"fill: none; stroke: #ddd; stroke-width: 1; opacity: 1;\"></line><line transform=\"translate(0,27)\" x2=\"40\" y2=\"0\" style=\"fill: none; stroke: #ddd; stroke-width: 1; opacity: 1;\"></line></g></g></g></g><g class=\"mark-rect role-mark child_marks\"><path d=\"M1,26.66666666666666h18v19.739395755804853h-18Z\" style=\"fill: rgb(134, 188, 220);\"></path><path d=\"M21,2.3145049680618035h18v24.352161698604856h-18Z\" style=\"fill: rgb(56, 135, 192);\"></path></g></g></g><g transform=\"translate(186,0)\"><path class=\"background\" d=\"M0.5,0.5h40v200h-40Z\" style=\"fill: none; stroke: #ddd;\"></path><g><g class=\"mark-group role-axis\"><g transform=\"translate(0.5,0.5)\"><path class=\"background\" d=\"M0,0h0v0h0Z\" style=\"pointer-events: none; fill: none;\"></path><g><g class=\"mark-rule role-axis-grid\" style=\"pointer-events: none;\"><line transform=\"translate(0,193)\" x2=\"40\" y2=\"0\" style=\"fill: none; stroke: #ddd; stroke-width: 1; opacity: 1;\"></line><line transform=\"translate(0,160)\" x2=\"40\" y2=\"0\" style=\"fill: none; stroke: #ddd; stroke-width: 1; opacity: 1;\"></line><line transform=\"translate(0,127)\" x2=\"40\" y2=\"0\" style=\"fill: none; stroke: #ddd; stroke-width: 1; opacity: 1;\"></line><line transform=\"translate(0,93)\" x2=\"40\" y2=\"0\" style=\"fill: none; stroke: #ddd; stroke-width: 1; opacity: 1;\"></line><line transform=\"translate(0,60)\" x2=\"40\" y2=\"0\" style=\"fill: none; stroke: #ddd; stroke-width: 1; opacity: 1;\"></line><line transform=\"translate(0,27)\" x2=\"40\" y2=\"0\" style=\"fill: none; stroke: #ddd; stroke-width: 1; opacity: 1;\"></line></g></g></g></g><g class=\"mark-rect role-mark child_marks\"><path d=\"M1,26.66666666666666h18v68.10089949800566h-18Z\" style=\"fill: rgb(134, 188, 220);\"></path><path d=\"M21,14.018191157222493h18v12.648475509444168h-18Z\" style=\"fill: rgb(56, 135, 192);\"></path></g></g></g><g transform=\"translate(248,0)\"><path class=\"background\" d=\"M0.5,0.5h40v200h-40Z\" style=\"fill: none; stroke: #ddd;\"></path><g><g class=\"mark-group role-axis\"><g transform=\"translate(0.5,0.5)\"><path class=\"background\" d=\"M0,0h0v0h0Z\" style=\"pointer-events: none; fill: none;\"></path><g><g class=\"mark-rule role-axis-grid\" style=\"pointer-events: none;\"><line transform=\"translate(0,193)\" x2=\"40\" y2=\"0\" style=\"fill: none; stroke: #ddd; stroke-width: 1; opacity: 1;\"></line><line transform=\"translate(0,160)\" x2=\"40\" y2=\"0\" style=\"fill: none; stroke: #ddd; stroke-width: 1; opacity: 1;\"></line><line transform=\"translate(0,127)\" x2=\"40\" y2=\"0\" style=\"fill: none; stroke: #ddd; stroke-width: 1; opacity: 1;\"></line><line transform=\"translate(0,93)\" x2=\"40\" y2=\"0\" style=\"fill: none; stroke: #ddd; stroke-width: 1; opacity: 1;\"></line><line transform=\"translate(0,60)\" x2=\"40\" y2=\"0\" style=\"fill: none; stroke: #ddd; stroke-width: 1; opacity: 1;\"></line><line transform=\"translate(0,27)\" x2=\"40\" y2=\"0\" style=\"fill: none; stroke: #ddd; stroke-width: 1; opacity: 1;\"></line></g></g></g></g><g class=\"mark-rect role-mark child_marks\"><path d=\"M1,26.66666666666666h18v111.20700308529723h-18Z\" style=\"fill: rgb(134, 188, 220);\"></path><path d=\"M21,22.26250886231378h18v4.404157804352881h-18Z\" style=\"fill: rgb(56, 135, 192);\"></path></g></g></g><g transform=\"translate(310,0)\"><path class=\"background\" d=\"M0.5,0.5h40v200h-40Z\" style=\"fill: none; stroke: #ddd;\"></path><g><g class=\"mark-group role-axis\"><g transform=\"translate(0.5,0.5)\"><path class=\"background\" d=\"M0,0h0v0h0Z\" style=\"pointer-events: none; fill: none;\"></path><g><g class=\"mark-rule role-axis-grid\" style=\"pointer-events: none;\"><line transform=\"translate(0,193)\" x2=\"40\" y2=\"0\" style=\"fill: none; stroke: #ddd; stroke-width: 1; opacity: 1;\"></line><line transform=\"translate(0,160)\" x2=\"40\" y2=\"0\" style=\"fill: none; stroke: #ddd; stroke-width: 1; opacity: 1;\"></line><line transform=\"translate(0,127)\" x2=\"40\" y2=\"0\" style=\"fill: none; stroke: #ddd; stroke-width: 1; opacity: 1;\"></line><line transform=\"translate(0,93)\" x2=\"40\" y2=\"0\" style=\"fill: none; stroke: #ddd; stroke-width: 1; opacity: 1;\"></line><line transform=\"translate(0,60)\" x2=\"40\" y2=\"0\" style=\"fill: none; stroke: #ddd; stroke-width: 1; opacity: 1;\"></line><line transform=\"translate(0,27)\" x2=\"40\" y2=\"0\" style=\"fill: none; stroke: #ddd; stroke-width: 1; opacity: 1;\"></line></g></g></g></g><g class=\"mark-rect role-mark child_marks\"><path d=\"M1,26.66666666666666h18v167.7126017524947h-18Z\" style=\"fill: rgb(134, 188, 220);\"></path><path d=\"M21,14.079470949187222h18v12.587195717479439h-18Z\" style=\"fill: rgb(56, 135, 192);\"></path></g></g></g></g><g class=\"mark-group role-legend\"><g transform=\"translate(380,0)\"><path class=\"background\" d=\"M0,0h63v40h-63Z\" style=\"pointer-events: none; fill: none;\"></path><g><g class=\"mark-group role-legend-entry\"><g transform=\"translate(0,16)\"><path class=\"background\" d=\"M0,0h0v0h0Z\" style=\"pointer-events: none; fill: none;\"></path><g><g class=\"mark-group role-scope\"><g transform=\"translate(0,0)\"><path class=\"background\" d=\"M0,0h22v11h-22Z\" style=\"pointer-events: none; fill: none; opacity: 1;\"></path><g><g class=\"mark-symbol role-legend-symbol\" style=\"pointer-events: none;\"><path transform=\"translate(6,6)\" d=\"M-5,-5h10v10h-10Z\" style=\"fill: rgb(134, 188, 220); stroke-width: 1.5; opacity: 1;\"></path></g><g class=\"mark-text role-legend-label\" style=\"pointer-events: none;\"><text text-anchor=\"start\" transform=\"translate(16,9)\" style=\"font-family: sans-serif; font-size: 10px; fill: #000; opacity: 1;\">0</text></g></g></g><g transform=\"translate(0,13)\"><path class=\"background\" d=\"M0,0h22v11h-22Z\" style=\"pointer-events: none; fill: none; opacity: 1;\"></path><g><g class=\"mark-symbol role-legend-symbol\" style=\"pointer-events: none;\"><path transform=\"translate(6,6)\" d=\"M-5,-5h10v10h-10Z\" style=\"fill: rgb(56, 135, 192); stroke-width: 1.5; opacity: 1;\"></path></g><g class=\"mark-text role-legend-label\" style=\"pointer-events: none;\"><text text-anchor=\"start\" transform=\"translate(16,9)\" style=\"font-family: sans-serif; font-size: 10px; fill: #000; opacity: 1;\">1</text></g></g></g></g></g></g></g><g class=\"mark-text role-legend-title\" style=\"pointer-events: none;\"><text text-anchor=\"start\" transform=\"translate(0,9)\" style=\"font-family: sans-serif; font-size: 11px; font-weight: bold; fill: #000; opacity: 1;\">encounter</text></g></g></g></g></g></g></g></g></svg>"
      ],
      "text/plain": [
       "VegaLite.VLSpec{:plot}"
      ]
     },
     "execution_count": 33,
     "metadata": {},
     "output_type": "execute_result"
    }
   ],
   "source": [
    "period_bias = combine(\n",
    "    groupby(transform(df, :post_created => ByRow(t -> floor(t, Dates.Month)) => :period), [:period, :encounter]),\n",
    "    :bias => mean)\n",
    "\n",
    "period_bias |> @vlplot(:bar, \n",
    "    column={\"period:o\", timeUnit=\"yearmonth\"}, \n",
    "    x = \"encounter:o\",\n",
    "    y = {\"bias_mean\", axis={title=\"bias\"}},\n",
    "    color = \"encounter:o\",\n",
    ")"
   ]
  },
  {
   "cell_type": "markdown",
   "metadata": {},
   "source": [
    "Within each month, a lower bias is observed for non-encounters than encounters. Thus the bias is robust over different months. Note though that the bias varies strongly from month to month. Since the bias is a function of caption and image topics, this suggests that the *content* has changed from month to month."
   ]
  },
  {
   "cell_type": "markdown",
   "metadata": {},
   "source": [
    "# Appendix"
   ]
  },
  {
   "cell_type": "markdown",
   "metadata": {},
   "source": [
    "#### Image topic 1\n",
    "\n",
    "![](topic1.jpg)\n",
    "\n",
    "#### Image topic 2\n",
    "\n",
    "![](topic2.jpg)\n",
    "\n",
    "#### Image topic 3\n",
    "\n",
    "![](topic3.jpg)\n",
    "\n",
    "#### Image topic 4\n",
    "\n",
    "![](topic4.jpg)\n",
    "\n",
    "#### Image topic 5\n",
    "\n",
    "![](topic5.jpg)"
   ]
  },
  {
   "cell_type": "code",
   "execution_count": 25,
   "metadata": {},
   "outputs": [
    {
     "data": {
      "text/plain": [
       "StatsModels.TableRegressionModel{GeneralizedLinearModel{GLM.GlmResp{Array{Float64,1},Binomial{Float64},LogitLink},GLM.DensePredChol{Float64,LinearAlgebra.Cholesky{Float64,Array{Float64,2}}}},Array{Float64,2}}\n",
       "\n",
       "encounter ~ 1 + :(log1p(post_age)) + :(log1p(likes_count)) + :(log1p(comments_count)) + :(log1p(follows)) + post_age_cat + likes_cat + comments_cat + post_DOW + post_HOD\n",
       "\n",
       "Coefficients:\n",
       "───────────────────────────────────────────────────────────────────────────────────────────────────────\n",
       "                                          Coef.   Std. Error       z  Pr(>|z|)    Lower 95%   Upper 95%\n",
       "───────────────────────────────────────────────────────────────────────────────────────────────────────\n",
       "(Intercept)                           0.0168452  324.744        0.00    1.0000  -636.47      636.504\n",
       "log1p(post_age)                      -0.826284     0.111979    -7.38    <1e-12    -1.04576    -0.606809\n",
       "log1p(likes_count)                    0.425347     0.0651977    6.52    <1e-10     0.297562    0.553132\n",
       "log1p(comments_count)                -0.231032     0.0625873   -3.69    0.0002    -0.353701   -0.108363\n",
       "log1p(follows)                       -1.33439      0.0530905  -25.13    <1e-99    -1.43845    -1.23034\n",
       "post_age_cat: [1.0, 3.0)              0.10843      0.309144     0.35    0.7258    -0.497481    0.71434\n",
       "post_age_cat: [3.0, 24.0)            -0.0305795    0.362242    -0.08    0.9327    -0.740561    0.679402\n",
       "post_age_cat: [24.0, 167.974]        -1.35713      0.442064    -3.07    0.0021    -2.22355    -0.490696\n",
       "likes_cat: [100, 1000)               -0.403481     0.297513    -1.36    0.1750    -0.986597    0.179634\n",
       "likes_cat: [1000, 742238]            -2.32376      0.393223    -5.91    <1e-8     -3.09447    -1.55306\n",
       "comments_cat: Q2: [9.0, 25.0)         0.344819     0.228064     1.51    0.1306    -0.102179    0.791817\n",
       "comments_cat: Q3: [25.0, 71.0)        1.25506      0.261092     4.81    <1e-5      0.74333     1.76679\n",
       "comments_cat: Q4: [71.0, 352.0)       2.01836      0.335455     6.02    <1e-8      1.36088     2.67584\n",
       "comments_cat: Q5: [352.0, 129431.0]   2.50596      0.414749     6.04    <1e-8      1.69307     3.31885\n",
       "post_DOW: Tuesday                    -0.219153     0.148739    -1.47    0.1406    -0.510676    0.07237\n",
       "post_DOW: Wednesday                  -0.17128      0.146748    -1.17    0.2431    -0.458901    0.116341\n",
       "post_DOW: Thursday                   -0.465702     0.170833    -2.73    0.0064    -0.800529   -0.130875\n",
       "post_DOW: Friday                     -0.158941     0.200931    -0.79    0.4289    -0.552759    0.234877\n",
       "post_DOW: Saturday                    0.504856     0.162588     3.11    0.0019     0.186189    0.823522\n",
       "post_DOW: Sunday                      0.162913     0.142787     1.14    0.2539    -0.116944    0.44277\n",
       "post_HOD: 1                          -4.07535    331.653       -0.01    0.9902  -654.103     645.953\n",
       "post_HOD: 3                           3.98139    324.746        0.01    0.9902  -632.51      640.473\n",
       "post_HOD: 4                          -3.22548    327.779       -0.01    0.9921  -645.661     639.21\n",
       "post_HOD: 5                           5.41281    324.744        0.02    0.9867  -631.074     641.9\n",
       "post_HOD: 6                           5.1579     324.745        0.02    0.9873  -631.331     641.646\n",
       "post_HOD: 7                          -4.73206    328.087       -0.01    0.9885  -647.771     638.306\n",
       "post_HOD: 8                           6.24674    324.744        0.02    0.9847  -630.24      642.733\n",
       "post_HOD: 9                           5.49978    324.744        0.02    0.9865  -630.987     641.986\n",
       "post_HOD: 10                          5.76902    324.744        0.02    0.9858  -630.717     642.255\n",
       "post_HOD: 11                          5.02757    324.744        0.02    0.9876  -631.459     641.514\n",
       "post_HOD: 12                          4.19718    324.744        0.01    0.9897  -632.289     640.683\n",
       "post_HOD: 13                          4.87102    324.744        0.01    0.9880  -631.615     641.357\n",
       "post_HOD: 14                          4.03919    324.744        0.01    0.9901  -632.447     640.526\n",
       "post_HOD: 15                          3.68202    324.744        0.01    0.9910  -632.804     640.168\n",
       "post_HOD: 16                          4.32315    324.744        0.01    0.9894  -632.163     640.809\n",
       "post_HOD: 17                          4.30689    324.744        0.01    0.9894  -632.179     640.793\n",
       "post_HOD: 18                          4.4155     324.744        0.01    0.9892  -632.071     640.902\n",
       "post_HOD: 19                          4.69144    324.744        0.01    0.9885  -631.795     641.178\n",
       "post_HOD: 20                          4.91888    324.744        0.02    0.9879  -631.567     641.405\n",
       "post_HOD: 21                          4.01606    324.744        0.01    0.9901  -632.47      640.502\n",
       "post_HOD: 22                          5.21436    324.744        0.02    0.9872  -631.272     641.701\n",
       "post_HOD: 23                         -5.37216    325.936       -0.02    0.9868  -644.196     633.451\n",
       "───────────────────────────────────────────────────────────────────────────────────────────────────────"
      ]
     },
     "execution_count": 25,
     "metadata": {},
     "output_type": "execute_result"
    }
   ],
   "source": [
    "baseline_model"
   ]
  },
  {
   "cell_type": "code",
   "execution_count": 34,
   "metadata": {},
   "outputs": [
    {
     "data": {
      "text/plain": [
       "StatsModels.TableRegressionModel{GeneralizedLinearModel{GLM.GlmResp{Array{Float64,1},Binomial{Float64},LogitLink},GLM.DensePredChol{Float64,LinearAlgebra.Cholesky{Float64,Array{Float64,2}}}},Array{Float64,2}}\n",
       "\n",
       "encounter ~ 1 + :(logit(pred_popularity)) + im_top2 + im_top3 + im_top4 + im_top5 + cap_top2 + cap_top3 + cap_top4 + cap_top5 + image_adult_categorical + image_medical_categorical + image_racy_categorical + image_spoof_categorical + image_violence_categorical\n",
       "\n",
       "Coefficients:\n",
       "─────────────────────────────────────────────────────────────────────────────────────────────────────\n",
       "                                       Coef.   Std. Error      z  Pr(>|z|)     Lower 95%    Upper 95%\n",
       "─────────────────────────────────────────────────────────────────────────────────────────────────────\n",
       "(Intercept)                     -0.65652        0.230316   -2.85    0.0044    -1.10793     -0.205109\n",
       "logit(pred_popularity)           0.929612       0.0324547  28.64    <1e-99     0.866001     0.993222\n",
       "im_top2                          0.332457       0.154269    2.16    0.0312     0.030095     0.634818\n",
       "im_top3                          0.0869332      0.207749    0.42    0.6756    -0.320247     0.494114\n",
       "im_top4                         -0.319339       0.258155   -1.24    0.2161    -0.825314     0.186636\n",
       "im_top5                         -0.258451       0.166931   -1.55    0.1216    -0.585629     0.0687279\n",
       "cap_top2                         0.000831321    0.230439    0.00    0.9971    -0.45082      0.452483\n",
       "cap_top3                         0.0439108      0.170536    0.26    0.7968    -0.290334     0.378156\n",
       "cap_top4                         0.882667       0.151185    5.84    <1e-8      0.586349     1.17899\n",
       "cap_top5                         0.859377       0.263551    3.26    0.0011     0.342827     1.37593\n",
       "image_adult_categorical: 2       0.0800575      0.121192    0.66    0.5089    -0.157475     0.31759\n",
       "image_adult_categorical: 3       0.478761       0.206391    2.32    0.0204     0.0742412    0.883281\n",
       "image_adult_categorical: 4      -0.215992       0.77584    -0.28    0.7807    -1.73661      1.30463\n",
       "image_adult_categorical: 5       0.226879       0.589682    0.38    0.7004    -0.928877     1.38264\n",
       "image_medical_categorical: 2     0.34612        0.104086    3.33    0.0009     0.142115     0.550125\n",
       "image_medical_categorical: 3     0.134686       0.327728    0.41    0.6811    -0.50765      0.777021\n",
       "image_racy_categorical: 2       -0.371794       0.161591   -2.30    0.0214    -0.688506    -0.0550822\n",
       "image_racy_categorical: 3        0.139695       0.160177    0.87    0.3831    -0.174246     0.453636\n",
       "image_racy_categorical: 4        0.261489       0.184519    1.42    0.1564    -0.100162     0.62314\n",
       "image_racy_categorical: 5        0.0398927      0.216626    0.18    0.8539    -0.384686     0.464472\n",
       "image_spoof_categorical: 2      -0.562747       0.115646   -4.87    <1e-5     -0.789409    -0.336085\n",
       "image_spoof_categorical: 3      -2.6825         0.725454   -3.70    0.0002    -4.10437     -1.26064\n",
       "image_spoof_categorical: 4      -0.0857472      0.266392   -0.32    0.7475    -0.607866     0.436371\n",
       "image_spoof_categorical: 5     -10.4364        24.5938     -0.42    0.6713   -58.6394      37.7666\n",
       "image_violence_categorical: 2    0.210501       0.119016    1.77    0.0769    -0.0227662    0.443768\n",
       "image_violence_categorical: 3   -9.46502       56.9075     -0.17    0.8679  -121.002      102.072\n",
       "image_violence_categorical: 4  -10.195        177.407      -0.06    0.9542  -357.906      337.516\n",
       "─────────────────────────────────────────────────────────────────────────────────────────────────────"
      ]
     },
     "execution_count": 34,
     "metadata": {},
     "output_type": "execute_result"
    }
   ],
   "source": [
    "m2"
   ]
  },
  {
   "cell_type": "code",
   "execution_count": null,
   "metadata": {},
   "outputs": [],
   "source": []
  }
 ],
 "metadata": {
  "kernelspec": {
   "display_name": "Julia 1.5.3",
   "language": "julia",
   "name": "julia-1.5"
  },
  "language_info": {
   "file_extension": ".jl",
   "mimetype": "application/julia",
   "name": "julia",
   "version": "1.5.3"
  }
 },
 "nbformat": 4,
 "nbformat_minor": 5
}
